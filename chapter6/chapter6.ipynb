{
 "cells": [
  {
   "cell_type": "code",
   "execution_count": 1,
   "metadata": {},
   "outputs": [
    {
     "data": {
      "text/plain": [
       "'\\n!uvicorn app:app\\n'"
      ]
     },
     "execution_count": 1,
     "metadata": {},
     "output_type": "execute_result"
    }
   ],
   "source": [
    "# Start the uvicorn server in the root directory of the app 'sqlalchemy_backend', \n",
    "# in a separate CLI, as follows\n",
    "\n",
    "\"\"\"\n",
    "!uvicorn app:app\n",
    "\"\"\"\n"
   ]
  },
  {
   "cell_type": "code",
   "execution_count": 2,
   "metadata": {},
   "outputs": [],
   "source": [
    "LOCALHOST = \"http://localhost:8000\""
   ]
  },
  {
   "cell_type": "markdown",
   "metadata": {},
   "source": [
    "Testing the SQLalchemy-backed API endpoints"
   ]
  },
  {
   "cell_type": "code",
   "execution_count": 3,
   "metadata": {},
   "outputs": [
    {
     "name": "stdout",
     "output_type": "stream",
     "text": [
      "\u001b[34mHTTP\u001b[39;49;00m/\u001b[34m1.1\u001b[39;49;00m \u001b[34m201\u001b[39;49;00m \u001b[36mCreated\u001b[39;49;00m\n",
      "\u001b[36mcontent-length\u001b[39;49;00m: 108\n",
      "\u001b[36mcontent-type\u001b[39;49;00m: application/json\n",
      "\u001b[36mdate\u001b[39;49;00m: Thu, 07 Jul 2022 14:13:58 GMT\n",
      "\u001b[36mserver\u001b[39;49;00m: uvicorn\n",
      "\n",
      "{\n",
      "    \u001b[34;01m\"comments\"\u001b[39;49;00m: [],\n",
      "    \u001b[34;01m\"content\"\u001b[39;49;00m: \u001b[33m\"content1\"\u001b[39;49;00m,\n",
      "    \u001b[34;01m\"id\"\u001b[39;49;00m: \u001b[34m1\u001b[39;49;00m,\n",
      "    \u001b[34;01m\"publication_date\"\u001b[39;49;00m: \u001b[33m\"2022-01-01T08:36:37.946818\"\u001b[39;49;00m,\n",
      "    \u001b[34;01m\"title\"\u001b[39;49;00m: \u001b[33m\"title1\"\u001b[39;49;00m\n",
      "}\n",
      "\n"
     ]
    }
   ],
   "source": [
    "# Inserting 3 items in the DB\n",
    "\n",
    "!http POST \"{LOCALHOST}/posts\" title=\"title1\" content=\"content1\" publication_date=\"2022-01-01 08:36:37.946818\"\n"
   ]
  },
  {
   "cell_type": "code",
   "execution_count": 4,
   "metadata": {},
   "outputs": [
    {
     "name": "stdout",
     "output_type": "stream",
     "text": [
      "\u001b[34mHTTP\u001b[39;49;00m/\u001b[34m1.1\u001b[39;49;00m \u001b[34m201\u001b[39;49;00m \u001b[36mCreated\u001b[39;49;00m\n",
      "\u001b[36mcontent-length\u001b[39;49;00m: 108\n",
      "\u001b[36mcontent-type\u001b[39;49;00m: application/json\n",
      "\u001b[36mdate\u001b[39;49;00m: Thu, 07 Jul 2022 14:13:59 GMT\n",
      "\u001b[36mserver\u001b[39;49;00m: uvicorn\n",
      "\n",
      "{\n",
      "    \u001b[34;01m\"comments\"\u001b[39;49;00m: [],\n",
      "    \u001b[34;01m\"content\"\u001b[39;49;00m: \u001b[33m\"content2\"\u001b[39;49;00m,\n",
      "    \u001b[34;01m\"id\"\u001b[39;49;00m: \u001b[34m2\u001b[39;49;00m,\n",
      "    \u001b[34;01m\"publication_date\"\u001b[39;49;00m: \u001b[33m\"2022-01-03T08:37:19.401069\"\u001b[39;49;00m,\n",
      "    \u001b[34;01m\"title\"\u001b[39;49;00m: \u001b[33m\"title2\"\u001b[39;49;00m\n",
      "}\n",
      "\n"
     ]
    }
   ],
   "source": [
    "!http POST \"{LOCALHOST}/posts\" title=\"title2\" content=\"content2\" publication_date=\"2022-01-03 08:37:19.401069\"\n"
   ]
  },
  {
   "cell_type": "code",
   "execution_count": 5,
   "metadata": {},
   "outputs": [
    {
     "name": "stdout",
     "output_type": "stream",
     "text": [
      "\u001b[34mHTTP\u001b[39;49;00m/\u001b[34m1.1\u001b[39;49;00m \u001b[34m201\u001b[39;49;00m \u001b[36mCreated\u001b[39;49;00m\n",
      "\u001b[36mcontent-length\u001b[39;49;00m: 108\n",
      "\u001b[36mcontent-type\u001b[39;49;00m: application/json\n",
      "\u001b[36mdate\u001b[39;49;00m: Thu, 07 Jul 2022 14:14:00 GMT\n",
      "\u001b[36mserver\u001b[39;49;00m: uvicorn\n",
      "\n",
      "{\n",
      "    \u001b[34;01m\"comments\"\u001b[39;49;00m: [],\n",
      "    \u001b[34;01m\"content\"\u001b[39;49;00m: \u001b[33m\"content3\"\u001b[39;49;00m,\n",
      "    \u001b[34;01m\"id\"\u001b[39;49;00m: \u001b[34m3\u001b[39;49;00m,\n",
      "    \u001b[34;01m\"publication_date\"\u001b[39;49;00m: \u001b[33m\"2022-01-07T08:38:06.090648\"\u001b[39;49;00m,\n",
      "    \u001b[34;01m\"title\"\u001b[39;49;00m: \u001b[33m\"title3\"\u001b[39;49;00m\n",
      "}\n",
      "\n"
     ]
    }
   ],
   "source": [
    "!http POST \"{LOCALHOST}/posts\" title=\"title3\" content=\"content3\" publication_date=\"2022-01-07 08:38:06.090648\"\n"
   ]
  },
  {
   "cell_type": "code",
   "execution_count": 6,
   "metadata": {},
   "outputs": [
    {
     "name": "stdout",
     "output_type": "stream",
     "text": [
      "\u001b[34mHTTP\u001b[39;49;00m/\u001b[34m1.1\u001b[39;49;00m \u001b[34m200\u001b[39;49;00m \u001b[36mOK\u001b[39;49;00m\n",
      "\u001b[36mcontent-length\u001b[39;49;00m: 286\n",
      "\u001b[36mcontent-type\u001b[39;49;00m: application/json\n",
      "\u001b[36mdate\u001b[39;49;00m: Thu, 07 Jul 2022 14:14:01 GMT\n",
      "\u001b[36mserver\u001b[39;49;00m: uvicorn\n",
      "\n",
      "[\n",
      "    {\n",
      "        \u001b[34;01m\"content\"\u001b[39;49;00m: \u001b[33m\"content1\"\u001b[39;49;00m,\n",
      "        \u001b[34;01m\"id\"\u001b[39;49;00m: \u001b[34m1\u001b[39;49;00m,\n",
      "        \u001b[34;01m\"publication_date\"\u001b[39;49;00m: \u001b[33m\"2022-01-01T08:36:37.946818\"\u001b[39;49;00m,\n",
      "        \u001b[34;01m\"title\"\u001b[39;49;00m: \u001b[33m\"title1\"\u001b[39;49;00m\n",
      "    },\n",
      "    {\n",
      "        \u001b[34;01m\"content\"\u001b[39;49;00m: \u001b[33m\"content2\"\u001b[39;49;00m,\n",
      "        \u001b[34;01m\"id\"\u001b[39;49;00m: \u001b[34m2\u001b[39;49;00m,\n",
      "        \u001b[34;01m\"publication_date\"\u001b[39;49;00m: \u001b[33m\"2022-01-03T08:37:19.401069\"\u001b[39;49;00m,\n",
      "        \u001b[34;01m\"title\"\u001b[39;49;00m: \u001b[33m\"title2\"\u001b[39;49;00m\n",
      "    },\n",
      "    {\n",
      "        \u001b[34;01m\"content\"\u001b[39;49;00m: \u001b[33m\"content3\"\u001b[39;49;00m,\n",
      "        \u001b[34;01m\"id\"\u001b[39;49;00m: \u001b[34m3\u001b[39;49;00m,\n",
      "        \u001b[34;01m\"publication_date\"\u001b[39;49;00m: \u001b[33m\"2022-01-07T08:38:06.090648\"\u001b[39;49;00m,\n",
      "        \u001b[34;01m\"title\"\u001b[39;49;00m: \u001b[33m\"title3\"\u001b[39;49;00m\n",
      "    }\n",
      "]\n",
      "\n"
     ]
    }
   ],
   "source": [
    "# Getting all items in the DB\n",
    "\n",
    "!http GET \"{LOCALHOST}/posts\""
   ]
  },
  {
   "cell_type": "code",
   "execution_count": 7,
   "metadata": {},
   "outputs": [
    {
     "name": "stdout",
     "output_type": "stream",
     "text": [
      "\u001b[34mHTTP\u001b[39;49;00m/\u001b[34m1.1\u001b[39;49;00m \u001b[34m200\u001b[39;49;00m \u001b[36mOK\u001b[39;49;00m\n",
      "\u001b[36mcontent-length\u001b[39;49;00m: 108\n",
      "\u001b[36mcontent-type\u001b[39;49;00m: application/json\n",
      "\u001b[36mdate\u001b[39;49;00m: Thu, 07 Jul 2022 14:14:02 GMT\n",
      "\u001b[36mserver\u001b[39;49;00m: uvicorn\n",
      "\n",
      "{\n",
      "    \u001b[34;01m\"comments\"\u001b[39;49;00m: [],\n",
      "    \u001b[34;01m\"content\"\u001b[39;49;00m: \u001b[33m\"content2\"\u001b[39;49;00m,\n",
      "    \u001b[34;01m\"id\"\u001b[39;49;00m: \u001b[34m2\u001b[39;49;00m,\n",
      "    \u001b[34;01m\"publication_date\"\u001b[39;49;00m: \u001b[33m\"2022-01-03T08:37:19.401069\"\u001b[39;49;00m,\n",
      "    \u001b[34;01m\"title\"\u001b[39;49;00m: \u001b[33m\"title2\"\u001b[39;49;00m\n",
      "}\n",
      "\n"
     ]
    }
   ],
   "source": [
    "# Getting an item with a specfic ID from the DB\n",
    "\n",
    "!http GET \"{LOCALHOST}/posts/2\""
   ]
  },
  {
   "cell_type": "code",
   "execution_count": 8,
   "metadata": {},
   "outputs": [
    {
     "name": "stdout",
     "output_type": "stream",
     "text": [
      "\u001b[34mHTTP\u001b[39;49;00m/\u001b[34m1.1\u001b[39;49;00m \u001b[34m200\u001b[39;49;00m \u001b[36mOK\u001b[39;49;00m\n",
      "\u001b[36mcontent-length\u001b[39;49;00m: 108\n",
      "\u001b[36mcontent-type\u001b[39;49;00m: application/json\n",
      "\u001b[36mdate\u001b[39;49;00m: Thu, 07 Jul 2022 14:14:02 GMT\n",
      "\u001b[36mserver\u001b[39;49;00m: uvicorn\n",
      "\n",
      "{\n",
      "    \u001b[34;01m\"comments\"\u001b[39;49;00m: [],\n",
      "    \u001b[34;01m\"content\"\u001b[39;49;00m: \u001b[33m\"content1\"\u001b[39;49;00m,\n",
      "    \u001b[34;01m\"id\"\u001b[39;49;00m: \u001b[34m1\u001b[39;49;00m,\n",
      "    \u001b[34;01m\"publication_date\"\u001b[39;49;00m: \u001b[33m\"2022-01-01T08:36:37.946818\"\u001b[39;49;00m,\n",
      "    \u001b[34;01m\"title\"\u001b[39;49;00m: \u001b[33m\"title1\"\u001b[39;49;00m\n",
      "}\n",
      "\n"
     ]
    }
   ],
   "source": [
    "# Updating an item with a specfic ID in the DB\n",
    "\n",
    "!http PATCH \"{LOCALHOST}/posts/2\" title=\"title2-corrected\" content=\"content2-corrected\"\n"
   ]
  },
  {
   "cell_type": "code",
   "execution_count": 9,
   "metadata": {},
   "outputs": [
    {
     "name": "stdout",
     "output_type": "stream",
     "text": [
      "\u001b[34mHTTP\u001b[39;49;00m/\u001b[34m1.1\u001b[39;49;00m \u001b[34m204\u001b[39;49;00m \u001b[36mNo Content\u001b[39;49;00m\n",
      "\u001b[36mcontent-length\u001b[39;49;00m: 4\n",
      "\u001b[36mcontent-type\u001b[39;49;00m: application/json\n",
      "\u001b[36mdate\u001b[39;49;00m: Thu, 07 Jul 2022 14:14:03 GMT\n",
      "\u001b[36mserver\u001b[39;49;00m: uvicorn\n",
      "\n",
      "\n",
      "\n"
     ]
    }
   ],
   "source": [
    "# Deleting an item with a specfic ID in the DB\n",
    "\n",
    "!http DELETE \"{LOCALHOST}/posts/3\"\n"
   ]
  },
  {
   "cell_type": "code",
   "execution_count": 10,
   "metadata": {},
   "outputs": [
    {
     "name": "stdout",
     "output_type": "stream",
     "text": [
      "\u001b[34mHTTP\u001b[39;49;00m/\u001b[34m1.1\u001b[39;49;00m \u001b[34m200\u001b[39;49;00m \u001b[36mOK\u001b[39;49;00m\n",
      "\u001b[36mcontent-length\u001b[39;49;00m: 211\n",
      "\u001b[36mcontent-type\u001b[39;49;00m: application/json\n",
      "\u001b[36mdate\u001b[39;49;00m: Thu, 07 Jul 2022 14:14:04 GMT\n",
      "\u001b[36mserver\u001b[39;49;00m: uvicorn\n",
      "\n",
      "[\n",
      "    {\n",
      "        \u001b[34;01m\"content\"\u001b[39;49;00m: \u001b[33m\"content1\"\u001b[39;49;00m,\n",
      "        \u001b[34;01m\"id\"\u001b[39;49;00m: \u001b[34m1\u001b[39;49;00m,\n",
      "        \u001b[34;01m\"publication_date\"\u001b[39;49;00m: \u001b[33m\"2022-01-01T08:36:37.946818\"\u001b[39;49;00m,\n",
      "        \u001b[34;01m\"title\"\u001b[39;49;00m: \u001b[33m\"title1\"\u001b[39;49;00m\n",
      "    },\n",
      "    {\n",
      "        \u001b[34;01m\"content\"\u001b[39;49;00m: \u001b[33m\"content2-corrected\"\u001b[39;49;00m,\n",
      "        \u001b[34;01m\"id\"\u001b[39;49;00m: \u001b[34m2\u001b[39;49;00m,\n",
      "        \u001b[34;01m\"publication_date\"\u001b[39;49;00m: \u001b[33m\"2022-01-03T08:37:19.401069\"\u001b[39;49;00m,\n",
      "        \u001b[34;01m\"title\"\u001b[39;49;00m: \u001b[33m\"title2-corrected\"\u001b[39;49;00m\n",
      "    }\n",
      "]\n",
      "\n"
     ]
    }
   ],
   "source": [
    "!http GET \"{LOCALHOST}/posts\""
   ]
  },
  {
   "cell_type": "markdown",
   "metadata": {},
   "source": [
    "Modifying the schema with alembic\n"
   ]
  },
  {
   "cell_type": "code",
   "execution_count": 15,
   "metadata": {},
   "outputs": [
    {
     "data": {
      "text/plain": [
       "'\\n!alembic init ./sqlalchemy_backend/alembic\\n#'"
      ]
     },
     "execution_count": 15,
     "metadata": {},
     "output_type": "execute_result"
    }
   ],
   "source": [
    "# To initialize the alembic directory, execute the following command\n",
    "# in the parent folder of the project's root directory 'sqlalchemy_backend'\n",
    "\n",
    "\"\"\"\n",
    "!alembic init ./sqlalchemy_backend/alembic\n",
    "#\"\"\"\n"
   ]
  },
  {
   "cell_type": "code",
   "execution_count": 13,
   "metadata": {},
   "outputs": [
    {
     "data": {
      "text/plain": [
       "'\\nfrom sqlalchemy_relationship.models import metadata\\ntarget_metadata = metadata\\n'"
      ]
     },
     "execution_count": 13,
     "metadata": {},
     "output_type": "execute_result"
    }
   ],
   "source": [
    "# Then modify the following lines in the following files:\n",
    "\n",
    "# alembic.ini\n",
    "\"\"\"\n",
    "script_location = sqlalchemy_backend/alembic\n",
    "sqlalchemy.url = sqlite:///chapter6_sqlalchemy.db\n",
    "\"\"\"\n",
    "\n",
    "# env.py\n",
    "\"\"\"\n",
    "from sqlalchemy_backend.models import metadata\n",
    "target_metadata = metadata\n",
    "\"\"\""
   ]
  },
  {
   "cell_type": "code",
   "execution_count": 17,
   "metadata": {},
   "outputs": [
    {
     "data": {
      "text/plain": [
       "'\\n!alembic revision --autogenerate -m \"Initial migration\"\\n#'"
      ]
     },
     "execution_count": 17,
     "metadata": {},
     "output_type": "execute_result"
    }
   ],
   "source": [
    "# Then generate the migration script as follows\n",
    "\n",
    "\"\"\"\n",
    "!alembic revision --autogenerate -m \"Initial migration\"\n",
    "#\"\"\"\n"
   ]
  },
  {
   "cell_type": "code",
   "execution_count": 19,
   "metadata": {},
   "outputs": [
    {
     "data": {
      "text/plain": [
       "'\\n!alembic upgrade head\\n'"
      ]
     },
     "execution_count": 19,
     "metadata": {},
     "output_type": "execute_result"
    }
   ],
   "source": [
    "# When satisified with the changes to be made, apply the migration as follows\n",
    "\n",
    "\"\"\"\n",
    "!alembic upgrade head\n",
    "\"\"\""
   ]
  }
 ],
 "metadata": {
  "kernelspec": {
   "display_name": "Python 3.9.5 ('env': venv)",
   "language": "python",
   "name": "python3"
  },
  "language_info": {
   "codemirror_mode": {
    "name": "ipython",
    "version": 3
   },
   "file_extension": ".py",
   "mimetype": "text/x-python",
   "name": "python",
   "nbconvert_exporter": "python",
   "pygments_lexer": "ipython3",
   "version": "3.9.5"
  },
  "orig_nbformat": 4,
  "vscode": {
   "interpreter": {
    "hash": "26906a448a6233c473a71b447ecae08937ff62febfad6ab86171a9b0b8064292"
   }
  }
 },
 "nbformat": 4,
 "nbformat_minor": 2
}
