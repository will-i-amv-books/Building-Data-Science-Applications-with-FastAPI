{
 "cells": [
  {
   "cell_type": "markdown",
   "metadata": {},
   "source": [
    "# Deploying a FastAPI Project"
   ]
  },
  {
   "cell_type": "code",
   "execution_count": 1,
   "metadata": {},
   "outputs": [
    {
     "name": "stdout",
     "output_type": "stream",
     "text": [
      "/home/william/github/will-i-amv-books/Building-Data-Science-Applications-with-FastAPI/chapter10/project\n"
     ]
    },
    {
     "data": {
      "text/plain": [
       "'\\nuvicorn app.app:app\\n'"
      ]
     },
     "execution_count": 1,
     "metadata": {},
     "output_type": "execute_result"
    }
   ],
   "source": [
    "# For the following commands, go to the 'project' dir, which is the app's root directory\n",
    "\n",
    "%cd project\n"
   ]
  },
  {
   "cell_type": "markdown",
   "metadata": {},
   "source": [
    "### Deploying a FastAPI application with Docker\n"
   ]
  },
  {
   "cell_type": "code",
   "execution_count": null,
   "metadata": {},
   "outputs": [],
   "source": [
    "# After creating the docker image, build it with the following command\n",
    "\n",
    "\"\"\"\n",
    "!docker build -t fastapi-app  .\n",
    "\"\"\""
   ]
  },
  {
   "cell_type": "code",
   "execution_count": null,
   "metadata": {},
   "outputs": [],
   "source": [
    "# Then you can run the image locally with the following command\n",
    "\n",
    "\"\"\"\n",
    "!docker run -p 8000:80 -e ENVIRONMENT=production -e DATABASE_URL=sqlite://./app.db fastapi-app\n",
    "\"\"\""
   ]
  },
  {
   "cell_type": "code",
   "execution_count": 2,
   "metadata": {},
   "outputs": [
    {
     "data": {
      "text/plain": [
       "'\\n!docker tag fastapi-app {PRIVATE_CLOUD_REGISTRY}/fastapi-app\\n'"
      ]
     },
     "execution_count": 2,
     "metadata": {},
     "output_type": "execute_result"
    }
   ],
   "source": [
    "# To run the image in a cloud provider, it should be registered in the cloud's registry, as follows\n",
    "\n",
    "PRIVATE_CLOUD_TAG = 'aws_account_id.dkr.ecr.region.amazonaws.com'\n",
    "\n",
    "\"\"\"\n",
    "!docker tag fastapi-app {PRIVATE_CLOUD_TAG}/fastapi-app\n",
    "\"\"\""
   ]
  },
  {
   "cell_type": "code",
   "execution_count": 3,
   "metadata": {},
   "outputs": [
    {
     "data": {
      "text/plain": [
       "'\\ndocker push fastapi-app {PRIVATE_CLOUD_REGISTRY}/fastapi-app\\n'"
      ]
     },
     "execution_count": 3,
     "metadata": {},
     "output_type": "execute_result"
    }
   ],
   "source": [
    "# Then, you can push it to the registry, as follows:\n",
    "\n",
    "\"\"\"\n",
    "docker push fastapi-app {PRIVATE_CLOUD_TAG}/fastapi-app\n",
    "\"\"\""
   ]
  }
 ],
 "metadata": {
  "kernelspec": {
   "display_name": "Python 3.9.5 ('env': venv)",
   "language": "python",
   "name": "python3"
  },
  "language_info": {
   "codemirror_mode": {
    "name": "ipython",
    "version": 3
   },
   "file_extension": ".py",
   "mimetype": "text/x-python",
   "name": "python",
   "nbconvert_exporter": "python",
   "pygments_lexer": "ipython3",
   "version": "3.9.5"
  },
  "orig_nbformat": 4,
  "vscode": {
   "interpreter": {
    "hash": "26906a448a6233c473a71b447ecae08937ff62febfad6ab86171a9b0b8064292"
   }
  }
 },
 "nbformat": 4,
 "nbformat_minor": 2
}
