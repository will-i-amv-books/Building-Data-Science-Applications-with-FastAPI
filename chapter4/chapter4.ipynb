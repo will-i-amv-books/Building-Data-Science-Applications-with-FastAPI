{
 "cells": [
  {
   "cell_type": "markdown",
   "metadata": {},
   "source": [
    "# Managing Pydantic Data Models in FastAPI"
   ]
  },
  {
   "cell_type": "code",
   "execution_count": 1,
   "metadata": {},
   "outputs": [],
   "source": [
    "import time\n",
    "from pydantic import ValidationError\n",
    "from chapter4_models import (\n",
    "    Gender, Person1, Person2, Person3, Person4, Person5, Person6,\n",
    "    UserProfile, User1, UserRegistration,\n",
    "    ModelWithEarlyValidation, ModelWithBadDefaults, ModelWithGoodDefaults\n",
    ")"
   ]
  },
  {
   "cell_type": "markdown",
   "metadata": {},
   "source": [
    "A pydantic model composed of built-in types\n"
   ]
  },
  {
   "cell_type": "code",
   "execution_count": 2,
   "metadata": {},
   "outputs": [
    {
     "data": {
      "text/plain": [
       "Person1(first_name='John', last_name='Doe', age=30)"
      ]
     },
     "execution_count": 2,
     "metadata": {},
     "output_type": "execute_result"
    }
   ],
   "source": [
    "person = Person1(first_name=\"John\", last_name=\"Doe\", age=30)\n",
    "person"
   ]
  },
  {
   "cell_type": "markdown",
   "metadata": {},
   "source": [
    "A pydantic model composed of more complex types\n"
   ]
  },
  {
   "cell_type": "code",
   "execution_count": 3,
   "metadata": {},
   "outputs": [
    {
     "name": "stdout",
     "output_type": "stream",
     "text": [
      "1 validation error for Person2\n",
      "gender\n",
      "  value is not a valid enumeration member; permitted: 'MALE', 'FEMALE', 'NON_BINARY' (type=type_error.enum; enum_values=[<Gender.MALE: 'MALE'>, <Gender.FEMALE: 'FEMALE'>, <Gender.NON_BINARY: 'NON_BINARY'>])\n"
     ]
    }
   ],
   "source": [
    "# A person with an invalid gender\n",
    "\n",
    "try:\n",
    "    Person2(\n",
    "        first_name=\"John\",\n",
    "        last_name=\"Doe\",\n",
    "        gender=\"INVALID_VALUE\",\n",
    "        birthdate=\"1991-01-01\",\n",
    "        interests=[\"travel\", \"sports\"],\n",
    "    )\n",
    "except ValidationError as e:\n",
    "    print(str(e))\n"
   ]
  },
  {
   "cell_type": "code",
   "execution_count": 4,
   "metadata": {},
   "outputs": [
    {
     "name": "stdout",
     "output_type": "stream",
     "text": [
      "1 validation error for Person2\n",
      "birthdate\n",
      "  invalid date format (type=value_error.date)\n"
     ]
    }
   ],
   "source": [
    "# A person with an invalid birthdate\n",
    "\n",
    "try:\n",
    "    Person2(\n",
    "        first_name=\"John\",\n",
    "        last_name=\"Doe\",\n",
    "        gender=Gender.MALE,\n",
    "        birthdate=\"1991-13-42\",\n",
    "        interests=[\"travel\", \"sports\"],\n",
    "    )\n",
    "except ValidationError as e:\n",
    "    print(str(e))\n"
   ]
  },
  {
   "cell_type": "code",
   "execution_count": 5,
   "metadata": {},
   "outputs": [
    {
     "data": {
      "text/plain": [
       "Person2(first_name='John', last_name='Doe', gender=<Gender.MALE: 'MALE'>, birthdate=datetime.date(1991, 1, 1), interests=['travel', 'sports'])"
      ]
     },
     "execution_count": 5,
     "metadata": {},
     "output_type": "execute_result"
    }
   ],
   "source": [
    "# A valid person\n",
    "\n",
    "person = Person2(\n",
    "    first_name=\"John\",\n",
    "    last_name=\"Doe\",\n",
    "    gender=Gender.MALE,\n",
    "    birthdate=\"1991-01-01\",\n",
    "    interests=[\"travel\", \"sports\"],\n",
    ")\n",
    "person"
   ]
  },
  {
   "cell_type": "markdown",
   "metadata": {},
   "source": [
    "A pydantic model composed of another pydantic model as field"
   ]
  },
  {
   "cell_type": "code",
   "execution_count": 6,
   "metadata": {},
   "outputs": [
    {
     "name": "stdout",
     "output_type": "stream",
     "text": [
      "1 validation error for Person3\n",
      "address -> country\n",
      "  field required (type=value_error.missing)\n"
     ]
    }
   ],
   "source": [
    "# A person with an invalid address\n",
    "\n",
    "try:\n",
    "    Person3(\n",
    "        first_name=\"John\",\n",
    "        last_name=\"Doe\",\n",
    "        gender=Gender.MALE,\n",
    "        birthdate=\"1991-01-01\",\n",
    "        interests=[\"travel\", \"sports\"],\n",
    "        address={\n",
    "            \"street_address\": \"12 Squirell Street\",\n",
    "            \"postal_code\": \"424242\",\n",
    "            \"city\": \"Woodtown\",\n",
    "            # Missing country\n",
    "        },\n",
    "    )\n",
    "except ValidationError as e:\n",
    "    print(str(e))\n"
   ]
  },
  {
   "cell_type": "code",
   "execution_count": 7,
   "metadata": {},
   "outputs": [
    {
     "data": {
      "text/plain": [
       "Person3(first_name='John', last_name='Doe', gender=<Gender.MALE: 'MALE'>, birthdate=datetime.date(1991, 1, 1), interests=['travel', 'sports'], address=Address(street_address='12 Squirell Street', postal_code='424242', city='Woodtown', country='US'))"
      ]
     },
     "execution_count": 7,
     "metadata": {},
     "output_type": "execute_result"
    }
   ],
   "source": [
    "# A person with a valid address\n",
    "\n",
    "person = Person3(\n",
    "    first_name=\"John\",\n",
    "    last_name=\"Doe\",\n",
    "    gender=Gender.MALE,\n",
    "    birthdate=\"1991-01-01\",\n",
    "    interests=[\"travel\", \"sports\"],\n",
    "    address={\n",
    "        \"street_address\": \"12 Squirell Street\",\n",
    "        \"postal_code\": \"424242\",\n",
    "        \"city\": \"Woodtown\",\n",
    "        \"country\": \"US\",\n",
    "    }, # A dict can be used to instantiate the model\n",
    ")\n",
    "person"
   ]
  },
  {
   "cell_type": "markdown",
   "metadata": {},
   "source": [
    "A pydantic model with optional fields\n"
   ]
  },
  {
   "cell_type": "code",
   "execution_count": 8,
   "metadata": {},
   "outputs": [
    {
     "data": {
      "text/plain": [
       "UserProfile(nickname='jdoe', location=None, subscribed_newsletter=True)"
      ]
     },
     "execution_count": 8,
     "metadata": {},
     "output_type": "execute_result"
    }
   ],
   "source": [
    "user = UserProfile(nickname=\"jdoe\")\n",
    "user\n"
   ]
  },
  {
   "cell_type": "markdown",
   "metadata": {},
   "source": [
    "A pydantic model with an optional date field (not recommended)"
   ]
  },
  {
   "cell_type": "code",
   "execution_count": 9,
   "metadata": {},
   "outputs": [
    {
     "data": {
      "text/plain": [
       "datetime.datetime(2022, 7, 5, 10, 11, 7, 699862)"
      ]
     },
     "execution_count": 9,
     "metadata": {},
     "output_type": "execute_result"
    }
   ],
   "source": [
    "# A default date field in a pydantic models is not a good idea,\n",
    "# since a datetime field is evaluated once when the model is imported\n",
    "\n",
    "obj1 = ModelWithBadDefaults() \n",
    "obj1.d # The default date field\n",
    "\n"
   ]
  },
  {
   "cell_type": "code",
   "execution_count": 10,
   "metadata": {},
   "outputs": [
    {
     "data": {
      "text/plain": [
       "datetime.datetime(2022, 7, 5, 10, 11, 7, 699862)"
      ]
     },
     "execution_count": 10,
     "metadata": {},
     "output_type": "execute_result"
    }
   ],
   "source": [
    "time.sleep(1)  # Wait for a second\n",
    "obj2 = ModelWithBadDefaults()\n",
    "obj2.d # The date field is the same, even if we create the 2nd object 1 second later!!\n"
   ]
  },
  {
   "cell_type": "code",
   "execution_count": 11,
   "metadata": {},
   "outputs": [
    {
     "data": {
      "text/plain": [
       "False"
      ]
     },
     "execution_count": 11,
     "metadata": {},
     "output_type": "execute_result"
    }
   ],
   "source": [
    "obj1.d < obj2.d\n"
   ]
  },
  {
   "cell_type": "markdown",
   "metadata": {},
   "source": [
    "A pydantic model that implements custom field validations"
   ]
  },
  {
   "cell_type": "code",
   "execution_count": 12,
   "metadata": {},
   "outputs": [
    {
     "name": "stdout",
     "output_type": "stream",
     "text": [
      "1 validation error for Person4\n",
      "first_name\n",
      "  ensure this value has at least 3 characters (type=value_error.any_str.min_length; limit_value=3)\n"
     ]
    }
   ],
   "source": [
    "# A person with an invalid first name\n",
    "try:\n",
    "    Person4(first_name=\"J\", last_name=\"Doe\", age=30)\n",
    "except ValidationError as e:\n",
    "    print(str(e))\n"
   ]
  },
  {
   "cell_type": "code",
   "execution_count": 13,
   "metadata": {},
   "outputs": [
    {
     "name": "stdout",
     "output_type": "stream",
     "text": [
      "1 validation error for Person4\n",
      "age\n",
      "  ensure this value is less than or equal to 120 (type=value_error.number.not_le; limit_value=120)\n"
     ]
    }
   ],
   "source": [
    "# A person with an invalid age\n",
    "try:\n",
    "    Person4(first_name=\"John\", last_name=\"Doe\", age=2000)\n",
    "except ValidationError as e:\n",
    "    print(str(e))\n"
   ]
  },
  {
   "cell_type": "code",
   "execution_count": 14,
   "metadata": {},
   "outputs": [
    {
     "data": {
      "text/plain": [
       "Person4(first_name='John', last_name='Doe', age=30)"
      ]
     },
     "execution_count": 14,
     "metadata": {},
     "output_type": "execute_result"
    }
   ],
   "source": [
    "# A valid person\n",
    "\n",
    "person = Person4(first_name=\"John\", last_name=\"Doe\", age=30)\n",
    "person\n"
   ]
  },
  {
   "cell_type": "markdown",
   "metadata": {},
   "source": [
    "A pydantic model that allows dynamic default values"
   ]
  },
  {
   "cell_type": "code",
   "execution_count": 15,
   "metadata": {},
   "outputs": [
    {
     "name": "stdout",
     "output_type": "stream",
     "text": [
      "['a', 'b', 'c']\n",
      "[]\n",
      "['a', 'b', 'c', 'd']\n",
      "2022-07-05 10:11:13.175206\n"
     ]
    }
   ],
   "source": [
    "# Now dynamic fields such as date fields are created correctly, as follows\n",
    "\n",
    "obj1 = ModelWithGoodDefaults()\n",
    "print(obj1.l)\n",
    "print(obj1.l2)\n",
    "obj1.l.append(\"d\")\n",
    "print(obj1.l)\n",
    "print(obj1.d)\n"
   ]
  },
  {
   "cell_type": "code",
   "execution_count": 16,
   "metadata": {},
   "outputs": [
    {
     "name": "stdout",
     "output_type": "stream",
     "text": [
      "['a', 'b', 'c']\n",
      "[]\n",
      "2022-07-05 10:11:13.286056\n"
     ]
    }
   ],
   "source": [
    "obj2 = ModelWithGoodDefaults()\n",
    "print(obj2.l)\n",
    "print(obj1.l2)\n",
    "print(obj2.d)"
   ]
  },
  {
   "cell_type": "code",
   "execution_count": 17,
   "metadata": {},
   "outputs": [
    {
     "data": {
      "text/plain": [
       "True"
      ]
     },
     "execution_count": 17,
     "metadata": {},
     "output_type": "execute_result"
    }
   ],
   "source": [
    "obj1.d < obj2.d  # True\n"
   ]
  },
  {
   "cell_type": "markdown",
   "metadata": {},
   "source": [
    "A pydantic model that does validation of commom string types such as URLs and emails"
   ]
  },
  {
   "cell_type": "code",
   "execution_count": 18,
   "metadata": {},
   "outputs": [
    {
     "name": "stdout",
     "output_type": "stream",
     "text": [
      "1 validation error for User1\n",
      "email\n",
      "  value is not a valid email address (type=value_error.email)\n"
     ]
    }
   ],
   "source": [
    "# Invalid email\n",
    "\n",
    "try:\n",
    "    User1(email=\"jdoe\", website=\"https://www.example.com\")\n",
    "except ValidationError as e:\n",
    "    print(str(e))\n"
   ]
  },
  {
   "cell_type": "code",
   "execution_count": 19,
   "metadata": {},
   "outputs": [
    {
     "name": "stdout",
     "output_type": "stream",
     "text": [
      "1 validation error for User1\n",
      "website\n",
      "  invalid or missing URL scheme (type=value_error.url.scheme)\n"
     ]
    }
   ],
   "source": [
    "# Invalid URL\n",
    "\n",
    "try:\n",
    "    User1(email=\"jdoe@example.com\", website=\"jdoe\")\n",
    "except ValidationError as e:\n",
    "    print(str(e))\n"
   ]
  },
  {
   "cell_type": "code",
   "execution_count": 20,
   "metadata": {},
   "outputs": [
    {
     "data": {
      "text/plain": [
       "User1(email='jdoe@example.com', website=HttpUrl('https://www.example.com', scheme='https', host='www.example.com', tld='com', host_type='domain'))"
      ]
     },
     "execution_count": 20,
     "metadata": {},
     "output_type": "execute_result"
    }
   ],
   "source": [
    "# Valid email\n",
    "\n",
    "user = User1(email=\"jdoe@example.com\", website=\"https://www.example.com\")\n",
    "user # the URL is parsed into an object, giving access to the different parts of it\n"
   ]
  },
  {
   "cell_type": "markdown",
   "metadata": {},
   "source": [
    "### Adding custom data validation with Pydantic"
   ]
  },
  {
   "cell_type": "markdown",
   "metadata": {},
   "source": [
    "A pydantic model that applies a custom validation function at the field level"
   ]
  },
  {
   "cell_type": "code",
   "execution_count": 21,
   "metadata": {},
   "outputs": [
    {
     "name": "stdout",
     "output_type": "stream",
     "text": [
      "1 validation error for Person5\n",
      "birthdate\n",
      "  You seem a bit too old! (type=value_error)\n"
     ]
    }
   ],
   "source": [
    "# A person with an invalid birthdate\n",
    "\n",
    "try:\n",
    "    Person5(first_name=\"John\", last_name=\"Doe\", birthdate=\"1800-01-01\")\n",
    "except ValidationError as e:\n",
    "    print(str(e))\n",
    "\n"
   ]
  },
  {
   "cell_type": "code",
   "execution_count": 22,
   "metadata": {},
   "outputs": [
    {
     "data": {
      "text/plain": [
       "Person5(first_name='John', last_name='Doe', birthdate='Your age is 31')"
      ]
     },
     "execution_count": 22,
     "metadata": {},
     "output_type": "execute_result"
    }
   ],
   "source": [
    "# A person with a valid birthdate\n",
    "\n",
    "person = Person5(first_name=\"John\", last_name=\"Doe\", birthdate=\"1991-01-01\")\n",
    "person\n"
   ]
  },
  {
   "cell_type": "markdown",
   "metadata": {},
   "source": [
    "A pydantic model that applies a custom validation function at the object level"
   ]
  },
  {
   "cell_type": "code",
   "execution_count": 23,
   "metadata": {},
   "outputs": [
    {
     "name": "stdout",
     "output_type": "stream",
     "text": [
      "1 validation error for UserRegistration\n",
      "__root__\n",
      "  Passwords don't match (type=value_error)\n"
     ]
    }
   ],
   "source": [
    "# A registration with the passwords not matching\n",
    "\n",
    "try:\n",
    "    UserRegistration(\n",
    "        email=\"jdoe@example.com\", \n",
    "        password=\"aa\", \n",
    "        password_confirmation=\"bb\"\n",
    "    )\n",
    "except ValidationError as e:\n",
    "    print(str(e))\n"
   ]
  },
  {
   "cell_type": "code",
   "execution_count": 24,
   "metadata": {},
   "outputs": [
    {
     "data": {
      "text/plain": [
       "UserRegistration(email='jdoe@example.com', password='aa', password_confirmation='aa')"
      ]
     },
     "execution_count": 24,
     "metadata": {},
     "output_type": "execute_result"
    }
   ],
   "source": [
    "# A valid registration\n",
    "\n",
    "user_registration = UserRegistration(\n",
    "    email=\"jdoe@example.com\", \n",
    "    password=\"aa\", \n",
    "    password_confirmation=\"aa\"\n",
    ")\n",
    "user_registration\n"
   ]
  },
  {
   "cell_type": "markdown",
   "metadata": {},
   "source": [
    "A pydantic model with a custom validator function that runs before pydantic parsing"
   ]
  },
  {
   "cell_type": "code",
   "execution_count": 25,
   "metadata": {},
   "outputs": [
    {
     "data": {
      "text/plain": [
       "[1, 2, 3]"
      ]
     },
     "execution_count": 25,
     "metadata": {},
     "output_type": "execute_result"
    }
   ],
   "source": [
    "m = ModelWithEarlyValidation(values=\"1,2,3\")\n",
    "m.values\n"
   ]
  },
  {
   "cell_type": "markdown",
   "metadata": {},
   "source": [
    "### Working with Pydantic objects"
   ]
  },
  {
   "cell_type": "markdown",
   "metadata": {},
   "source": [
    "Converting a model to a dict"
   ]
  },
  {
   "cell_type": "code",
   "execution_count": 26,
   "metadata": {},
   "outputs": [],
   "source": [
    "person = Person3(\n",
    "    first_name=\"John\",\n",
    "    last_name=\"Doe\",\n",
    "    gender=Gender.MALE,\n",
    "    birthdate=\"1991-01-01\",\n",
    "    interests=[\"travel\", \"sports\"],\n",
    "    address={\n",
    "        \"street_address\": \"12 Squirell Street\",\n",
    "        \"postal_code\": \"424242\",\n",
    "        \"city\": \"Woodtown\",\n",
    "        \"country\": \"US\",\n",
    "    },\n",
    ")\n"
   ]
  },
  {
   "cell_type": "code",
   "execution_count": 27,
   "metadata": {},
   "outputs": [
    {
     "name": "stdout",
     "output_type": "stream",
     "text": [
      "John\n",
      "12 Squirell Street\n"
     ]
    }
   ],
   "source": [
    "# Just call the 'dict()' method, as follows\n",
    "\n",
    "person_dict = person.dict() \n",
    "print(person_dict[\"first_name\"]) # \"John\"\n",
    "print(person_dict[\"address\"][\"street_address\"])\n"
   ]
  },
  {
   "cell_type": "code",
   "execution_count": 28,
   "metadata": {},
   "outputs": [
    {
     "name": "stdout",
     "output_type": "stream",
     "text": [
      "{'first_name': 'John', 'last_name': 'Doe'}\n",
      "{'first_name': 'John', 'last_name': 'Doe', 'gender': <Gender.MALE: 'MALE'>, 'address': {'street_address': '12 Squirell Street', 'postal_code': '424242', 'city': 'Woodtown', 'country': 'US'}}\n"
     ]
    }
   ],
   "source": [
    "# We can also include or exclude some fields, as follows\n",
    "\n",
    "person_include = person.dict(include={\"first_name\", \"last_name\"})\n",
    "print(person_include)\n",
    "\n",
    "person_exclude = person.dict(exclude={\"birthdate\", \"interests\"})\n",
    "print(person_exclude)\n"
   ]
  },
  {
   "cell_type": "code",
   "execution_count": 29,
   "metadata": {},
   "outputs": [
    {
     "name": "stdout",
     "output_type": "stream",
     "text": [
      "{'first_name': 'John', 'last_name': 'Doe', 'address': {'city': 'Woodtown', 'country': 'US'}}\n"
     ]
    }
   ],
   "source": [
    "# For nested dicts, we can use a dictionary to specify which sub-field \n",
    "# to include or exclude, as follows\n",
    "\n",
    "person_nested_include = person.dict(\n",
    "    include={\n",
    "        \"first_name\": ..., # Notice the use of the ellipsis for all the values\n",
    "        \"last_name\": ...,\n",
    "        \"address\": {\"city\", \"country\"},\n",
    "    }\n",
    ")\n",
    "print(person_nested_include)\n"
   ]
  },
  {
   "cell_type": "code",
   "execution_count": 30,
   "metadata": {},
   "outputs": [
    {
     "data": {
      "text/plain": [
       "{'first_name': 'John', 'last_name': 'Doe'}"
      ]
     },
     "execution_count": 30,
     "metadata": {},
     "output_type": "execute_result"
    }
   ],
   "source": [
    "# In case of a commonly used conversion to dict, it can be put \n",
    "# in a method inside the model, as follows\n",
    "\n",
    "person = Person6(\n",
    "    first_name=\"John\",\n",
    "    last_name=\"Doe\",\n",
    "    gender=Gender.MALE,\n",
    "    birthdate=\"1991-01-01\",\n",
    "    interests=[\"travel\", \"sports\"],\n",
    "    address={\n",
    "        \"street_address\": \"12 Squirell Street\",\n",
    "        \"postal_code\": \"424242\",\n",
    "        \"city\": \"Woodtown\",\n",
    "        \"country\": \"US\",\n",
    "    },\n",
    ")\n",
    "\n",
    "name_dict = person.name_dict()\n",
    "name_dict\n"
   ]
  },
  {
   "cell_type": "code",
   "execution_count": 1,
   "metadata": {},
   "outputs": [
    {
     "data": {
      "text/plain": [
       "'\\n!uvicorn chapter4_endpoints:app\\n'"
      ]
     },
     "execution_count": 1,
     "metadata": {},
     "output_type": "execute_result"
    }
   ],
   "source": [
    "# For the last 2 examples, start the following server in a separate CLI\n",
    "\n",
    "\"\"\"\n",
    "!uvicorn chapter4_endpoints:app\n",
    "\"\"\"\n"
   ]
  },
  {
   "cell_type": "code",
   "execution_count": 2,
   "metadata": {},
   "outputs": [],
   "source": [
    "LOCALHOST = 'http://localhost:8000'\n"
   ]
  },
  {
   "cell_type": "code",
   "execution_count": 3,
   "metadata": {},
   "outputs": [
    {
     "name": "stdout",
     "output_type": "stream",
     "text": [
      "\u001b[34mHTTP\u001b[39;49;00m/\u001b[34m1.1\u001b[39;49;00m \u001b[34m201\u001b[39;49;00m \u001b[36mCreated\u001b[39;49;00m\n",
      "\u001b[36mcontent-length\u001b[39;49;00m: 48\n",
      "\u001b[36mcontent-type\u001b[39;49;00m: application/json\n",
      "\u001b[36mdate\u001b[39;49;00m: Tue, 05 Jul 2022 14:18:38 GMT\n",
      "\u001b[36mserver\u001b[39;49;00m: uvicorn\n",
      "\n",
      "{\n",
      "    \u001b[34;01m\"content\"\u001b[39;49;00m: \u001b[33m\"mycontent\"\u001b[39;49;00m,\n",
      "    \u001b[34;01m\"id\"\u001b[39;49;00m: \u001b[34m1\u001b[39;49;00m,\n",
      "    \u001b[34;01m\"title\"\u001b[39;49;00m: \u001b[33m\"mytitle\"\u001b[39;49;00m\n",
      "}\n",
      "\n"
     ]
    }
   ],
   "source": [
    "# Creating a pydantic instance 'PostDB' with a new ID field and using the dict version \n",
    "# of the input 'PostCreate' instance for the rest of the fields\n",
    "\n",
    "!http POST \"{LOCALHOST}/posts\" title=\"mytitle\" content=\"mycontent\""
   ]
  },
  {
   "cell_type": "code",
   "execution_count": 4,
   "metadata": {},
   "outputs": [
    {
     "name": "stdout",
     "output_type": "stream",
     "text": [
      "\u001b[34mHTTP\u001b[39;49;00m/\u001b[34m1.1\u001b[39;49;00m \u001b[34m200\u001b[39;49;00m \u001b[36mOK\u001b[39;49;00m\n",
      "\u001b[36mcontent-length\u001b[39;49;00m: 50\n",
      "\u001b[36mcontent-type\u001b[39;49;00m: application/json\n",
      "\u001b[36mdate\u001b[39;49;00m: Tue, 05 Jul 2022 14:18:39 GMT\n",
      "\u001b[36mserver\u001b[39;49;00m: uvicorn\n",
      "\n",
      "{\n",
      "    \u001b[34;01m\"content\"\u001b[39;49;00m: \u001b[33m\"mycontent2\"\u001b[39;49;00m,\n",
      "    \u001b[34;01m\"id\"\u001b[39;49;00m: \u001b[34m2\u001b[39;49;00m,\n",
      "    \u001b[34;01m\"title\"\u001b[39;49;00m: \u001b[33m\"mytitle2\"\u001b[39;49;00m\n",
      "}\n",
      "\n"
     ]
    }
   ],
   "source": [
    "# Patching a pydantic instance 'PostDB' with new values of the 'title' and 'content' fields,\n",
    "# derived from a dict version of the input 'PostPartialUpdate' instance\n",
    "\n",
    "!http PATCH \"{LOCALHOST}/posts/2\" title=\"mytitle2\" content=\"mycontent2\"\n"
   ]
  }
 ],
 "metadata": {
  "kernelspec": {
   "display_name": "Python 3.9.5 ('env': venv)",
   "language": "python",
   "name": "python3"
  },
  "language_info": {
   "codemirror_mode": {
    "name": "ipython",
    "version": 3
   },
   "file_extension": ".py",
   "mimetype": "text/x-python",
   "name": "python",
   "nbconvert_exporter": "python",
   "pygments_lexer": "ipython3",
   "version": "3.9.5"
  },
  "orig_nbformat": 4,
  "vscode": {
   "interpreter": {
    "hash": "26906a448a6233c473a71b447ecae08937ff62febfad6ab86171a9b0b8064292"
   }
  }
 },
 "nbformat": 4,
 "nbformat_minor": 2
}
