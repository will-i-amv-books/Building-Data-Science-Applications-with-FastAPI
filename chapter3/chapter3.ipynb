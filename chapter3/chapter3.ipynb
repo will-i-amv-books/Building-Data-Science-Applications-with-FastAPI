{
 "cells": [
  {
   "cell_type": "markdown",
   "metadata": {},
   "source": [
    "# Chapter 3 - Developing a RESTful API with FastAPI\n"
   ]
  },
  {
   "cell_type": "code",
   "execution_count": 1,
   "metadata": {},
   "outputs": [
    {
     "data": {
      "text/plain": [
       "'\\n!uvicorn chapter3_endpoints:app\\n'"
      ]
     },
     "execution_count": 1,
     "metadata": {},
     "output_type": "execute_result"
    }
   ],
   "source": [
    "# Run the 'uvicorn' utility in a separate CLI, otherwise the notebook runs this cell forever\n",
    "\n",
    "\"\"\"\n",
    "!uvicorn chapter3_endpoints:app\n",
    "\"\"\""
   ]
  },
  {
   "cell_type": "code",
   "execution_count": 2,
   "metadata": {},
   "outputs": [],
   "source": [
    "LOCALHOST = 'http://localhost:8000'\n"
   ]
  },
  {
   "cell_type": "code",
   "execution_count": 3,
   "metadata": {},
   "outputs": [
    {
     "ename": "NameError",
     "evalue": "name 'a' is not defined",
     "output_type": "error",
     "traceback": [
      "\u001b[0;31m---------------------------------------------------------------------------\u001b[0m",
      "\u001b[0;31mNameError\u001b[0m                                 Traceback (most recent call last)",
      "\u001b[1;32m/home/william/github/will-i-amv-books/Building-Data-Science-Applications-with-FastAPI/chapter3/chapter3.ipynb Cell 4'\u001b[0m in \u001b[0;36m<cell line: 1>\u001b[0;34m()\u001b[0m\n\u001b[0;32m----> <a href='vscode-notebook-cell://wsl%2Bubuntu/home/william/github/will-i-amv-books/Building-Data-Science-Applications-with-FastAPI/chapter3/chapter3.ipynb#ch0000003vscode-remote?line=0'>1</a>\u001b[0m a\n",
      "\u001b[0;31mNameError\u001b[0m: name 'a' is not defined"
     ]
    }
   ],
   "source": [
    "a"
   ]
  },
  {
   "cell_type": "code",
   "execution_count": null,
   "metadata": {},
   "outputs": [
    {
     "name": "stdout",
     "output_type": "stream",
     "text": [
      "\u001b[34mHTTP\u001b[39;49;00m/\u001b[34m1.1\u001b[39;49;00m \u001b[34m200\u001b[39;49;00m \u001b[36mOK\u001b[39;49;00m\n",
      "\u001b[36mcontent-length\u001b[39;49;00m: 17\n",
      "\u001b[36mcontent-type\u001b[39;49;00m: application/json\n",
      "\u001b[36mdate\u001b[39;49;00m: Sat, 02 Jul 2022 13:00:03 GMT\n",
      "\u001b[36mserver\u001b[39;49;00m: uvicorn\n",
      "\n",
      "{\n",
      "    \u001b[34;01m\"hello\"\u001b[39;49;00m: \u001b[33m\"world\"\u001b[39;49;00m\n",
      "}\n",
      "\n"
     ]
    }
   ],
   "source": [
    "# Testing the first API endpoint\n",
    "\n",
    "!http \"{LOCALHOST}/chapter3_first_endpoint_01\"\n"
   ]
  },
  {
   "cell_type": "markdown",
   "metadata": {},
   "source": [
    "### Path parameters"
   ]
  },
  {
   "cell_type": "code",
   "execution_count": null,
   "metadata": {},
   "outputs": [
    {
     "name": "stdout",
     "output_type": "stream",
     "text": [
      "\u001b[34mHTTP\u001b[39;49;00m/\u001b[34m1.1\u001b[39;49;00m \u001b[34m404\u001b[39;49;00m \u001b[36mNot Found\u001b[39;49;00m\n",
      "\u001b[36mcontent-length\u001b[39;49;00m: 22\n",
      "\u001b[36mcontent-type\u001b[39;49;00m: application/json\n",
      "\u001b[36mdate\u001b[39;49;00m: Sat, 02 Jul 2022 13:00:04 GMT\n",
      "\u001b[36mserver\u001b[39;49;00m: uvicorn\n",
      "\n",
      "{\n",
      "    \u001b[34;01m\"detail\"\u001b[39;49;00m: \u001b[33m\"Not Found\"\u001b[39;49;00m\n",
      "}\n",
      "\n"
     ]
    }
   ],
   "source": [
    "# Testing the endpoint that expects a request parameter\n",
    "\n",
    "!http \"{LOCALHOST}/chapter3_path_parameters_01/users\" # Not passing any parameter "
   ]
  },
  {
   "cell_type": "code",
   "execution_count": null,
   "metadata": {},
   "outputs": [
    {
     "name": "stdout",
     "output_type": "stream",
     "text": [
      "\u001b[34mHTTP\u001b[39;49;00m/\u001b[34m1.1\u001b[39;49;00m \u001b[34m422\u001b[39;49;00m \u001b[36mUnprocessable Entity\u001b[39;49;00m\n",
      "\u001b[36mcontent-length\u001b[39;49;00m: 99\n",
      "\u001b[36mcontent-type\u001b[39;49;00m: application/json\n",
      "\u001b[36mdate\u001b[39;49;00m: Sat, 02 Jul 2022 13:00:05 GMT\n",
      "\u001b[36mserver\u001b[39;49;00m: uvicorn\n",
      "\n",
      "{\n",
      "    \u001b[34;01m\"detail\"\u001b[39;49;00m: [\n",
      "        {\n",
      "            \u001b[34;01m\"loc\"\u001b[39;49;00m: [\n",
      "                \u001b[33m\"path\"\u001b[39;49;00m,\n",
      "                \u001b[33m\"id\"\u001b[39;49;00m\n",
      "            ],\n",
      "            \u001b[34;01m\"msg\"\u001b[39;49;00m: \u001b[33m\"value is not a valid integer\"\u001b[39;49;00m,\n",
      "            \u001b[34;01m\"type\"\u001b[39;49;00m: \u001b[33m\"type_error.integer\"\u001b[39;49;00m\n",
      "        }\n",
      "    ]\n",
      "}\n",
      "\n"
     ]
    }
   ],
   "source": [
    "!http \"{LOCALHOST}/chapter3_path_parameters_01/users/abc\" # Passing an invalid parameter "
   ]
  },
  {
   "cell_type": "code",
   "execution_count": null,
   "metadata": {},
   "outputs": [
    {
     "name": "stdout",
     "output_type": "stream",
     "text": [
      "\u001b[34mHTTP\u001b[39;49;00m/\u001b[34m1.1\u001b[39;49;00m \u001b[34m200\u001b[39;49;00m \u001b[36mOK\u001b[39;49;00m\n",
      "\u001b[36mcontent-length\u001b[39;49;00m: 10\n",
      "\u001b[36mcontent-type\u001b[39;49;00m: application/json\n",
      "\u001b[36mdate\u001b[39;49;00m: Sat, 02 Jul 2022 13:00:07 GMT\n",
      "\u001b[36mserver\u001b[39;49;00m: uvicorn\n",
      "\n",
      "{\n",
      "    \u001b[34;01m\"id\"\u001b[39;49;00m: \u001b[34m123\u001b[39;49;00m\n",
      "}\n",
      "\n"
     ]
    }
   ],
   "source": [
    "!http \"{LOCALHOST}/chapter3_path_parameters_01/users/123\" # Passing a valid parameter \n"
   ]
  },
  {
   "cell_type": "code",
   "execution_count": null,
   "metadata": {},
   "outputs": [
    {
     "name": "stdout",
     "output_type": "stream",
     "text": [
      "\u001b[34mHTTP\u001b[39;49;00m/\u001b[34m1.1\u001b[39;49;00m \u001b[34m422\u001b[39;49;00m \u001b[36mUnprocessable Entity\u001b[39;49;00m\n",
      "\u001b[36mcontent-length\u001b[39;49;00m: 184\n",
      "\u001b[36mcontent-type\u001b[39;49;00m: application/json\n",
      "\u001b[36mdate\u001b[39;49;00m: Sat, 02 Jul 2022 13:00:08 GMT\n",
      "\u001b[36mserver\u001b[39;49;00m: uvicorn\n",
      "\n",
      "{\n",
      "    \u001b[34;01m\"detail\"\u001b[39;49;00m: [\n",
      "        {\n",
      "            \u001b[34;01m\"ctx\"\u001b[39;49;00m: {\n",
      "                \u001b[34;01m\"enum_values\"\u001b[39;49;00m: [\n",
      "                    \u001b[33m\"standard\"\u001b[39;49;00m,\n",
      "                    \u001b[33m\"admin\"\u001b[39;49;00m\n",
      "                ]\n",
      "            },\n",
      "            \u001b[34;01m\"loc\"\u001b[39;49;00m: [\n",
      "                \u001b[33m\"path\"\u001b[39;49;00m,\n",
      "                \u001b[33m\"type\"\u001b[39;49;00m\n",
      "            ],\n",
      "            \u001b[34;01m\"msg\"\u001b[39;49;00m: \u001b[33m\"value is not a valid enumeration member; permitted: 'standard', 'admin'\"\u001b[39;49;00m,\n",
      "            \u001b[34;01m\"type\"\u001b[39;49;00m: \u001b[33m\"type_error.enum\"\u001b[39;49;00m\n",
      "        }\n",
      "    ]\n",
      "}\n",
      "\n"
     ]
    }
   ],
   "source": [
    "# Testing the endpoint that expects a limited set of values as parameters (an Enum)\n",
    "\n",
    "!http \"{LOCALHOST}/chapter3_path_parameters_03/users/hello/123\" # Calling with a type that's not in the Enum\n"
   ]
  },
  {
   "cell_type": "code",
   "execution_count": null,
   "metadata": {},
   "outputs": [
    {
     "name": "stdout",
     "output_type": "stream",
     "text": [
      "\u001b[34mHTTP\u001b[39;49;00m/\u001b[34m1.1\u001b[39;49;00m \u001b[34m200\u001b[39;49;00m \u001b[36mOK\u001b[39;49;00m\n",
      "\u001b[36mcontent-length\u001b[39;49;00m: 25\n",
      "\u001b[36mcontent-type\u001b[39;49;00m: application/json\n",
      "\u001b[36mdate\u001b[39;49;00m: Sat, 02 Jul 2022 13:00:09 GMT\n",
      "\u001b[36mserver\u001b[39;49;00m: uvicorn\n",
      "\n",
      "{\n",
      "    \u001b[34;01m\"id\"\u001b[39;49;00m: \u001b[34m123\u001b[39;49;00m,\n",
      "    \u001b[34;01m\"type\"\u001b[39;49;00m: \u001b[33m\"admin\"\u001b[39;49;00m\n",
      "}\n",
      "\n"
     ]
    }
   ],
   "source": [
    "!http \"{LOCALHOST}/chapter3_path_parameters_03/users/admin/123\" # Calling with a type that's in the Enum"
   ]
  },
  {
   "cell_type": "code",
   "execution_count": null,
   "metadata": {},
   "outputs": [
    {
     "name": "stdout",
     "output_type": "stream",
     "text": [
      "\u001b[34mHTTP\u001b[39;49;00m/\u001b[34m1.1\u001b[39;49;00m \u001b[34m422\u001b[39;49;00m \u001b[36mUnprocessable Entity\u001b[39;49;00m\n",
      "\u001b[36mcontent-length\u001b[39;49;00m: 149\n",
      "\u001b[36mcontent-type\u001b[39;49;00m: application/json\n",
      "\u001b[36mdate\u001b[39;49;00m: Sat, 02 Jul 2022 13:00:10 GMT\n",
      "\u001b[36mserver\u001b[39;49;00m: uvicorn\n",
      "\n",
      "{\n",
      "    \u001b[34;01m\"detail\"\u001b[39;49;00m: [\n",
      "        {\n",
      "            \u001b[34;01m\"ctx\"\u001b[39;49;00m: {\n",
      "                \u001b[34;01m\"limit_value\"\u001b[39;49;00m: \u001b[34m1\u001b[39;49;00m\n",
      "            },\n",
      "            \u001b[34;01m\"loc\"\u001b[39;49;00m: [\n",
      "                \u001b[33m\"path\"\u001b[39;49;00m,\n",
      "                \u001b[33m\"id\"\u001b[39;49;00m\n",
      "            ],\n",
      "            \u001b[34;01m\"msg\"\u001b[39;49;00m: \u001b[33m\"ensure this value is greater than or equal to 1\"\u001b[39;49;00m,\n",
      "            \u001b[34;01m\"type\"\u001b[39;49;00m: \u001b[33m\"value_error.number.not_ge\"\u001b[39;49;00m\n",
      "        }\n",
      "    ]\n",
      "}\n",
      "\n"
     ]
    }
   ],
   "source": [
    "# Testing the endpoint that validates if the parameter is greater than a value\n",
    "\n",
    "!http \"{LOCALHOST}/chapter3_path_parameters_04/users/0\" # Passing an invalid id\n"
   ]
  },
  {
   "cell_type": "code",
   "execution_count": null,
   "metadata": {},
   "outputs": [
    {
     "name": "stdout",
     "output_type": "stream",
     "text": [
      "\u001b[34mHTTP\u001b[39;49;00m/\u001b[34m1.1\u001b[39;49;00m \u001b[34m200\u001b[39;49;00m \u001b[36mOK\u001b[39;49;00m\n",
      "\u001b[36mcontent-length\u001b[39;49;00m: 8\n",
      "\u001b[36mcontent-type\u001b[39;49;00m: application/json\n",
      "\u001b[36mdate\u001b[39;49;00m: Sat, 02 Jul 2022 13:00:12 GMT\n",
      "\u001b[36mserver\u001b[39;49;00m: uvicorn\n",
      "\n",
      "{\n",
      "    \u001b[34;01m\"id\"\u001b[39;49;00m: \u001b[34m2\u001b[39;49;00m\n",
      "}\n",
      "\n"
     ]
    }
   ],
   "source": [
    "!http \"{LOCALHOST}/chapter3_path_parameters_04/users/2\" # Passing a valid id\n"
   ]
  },
  {
   "cell_type": "code",
   "execution_count": null,
   "metadata": {},
   "outputs": [
    {
     "name": "stdout",
     "output_type": "stream",
     "text": [
      "\u001b[34mHTTP\u001b[39;49;00m/\u001b[34m1.1\u001b[39;49;00m \u001b[34m422\u001b[39;49;00m \u001b[36mUnprocessable Entity\u001b[39;49;00m\n",
      "\u001b[36mcontent-length\u001b[39;49;00m: 155\n",
      "\u001b[36mcontent-type\u001b[39;49;00m: application/json\n",
      "\u001b[36mdate\u001b[39;49;00m: Sat, 02 Jul 2022 13:00:13 GMT\n",
      "\u001b[36mserver\u001b[39;49;00m: uvicorn\n",
      "\n",
      "{\n",
      "    \u001b[34;01m\"detail\"\u001b[39;49;00m: [\n",
      "        {\n",
      "            \u001b[34;01m\"ctx\"\u001b[39;49;00m: {\n",
      "                \u001b[34;01m\"limit_value\"\u001b[39;49;00m: \u001b[34m9\u001b[39;49;00m\n",
      "            },\n",
      "            \u001b[34;01m\"loc\"\u001b[39;49;00m: [\n",
      "                \u001b[33m\"path\"\u001b[39;49;00m,\n",
      "                \u001b[33m\"license\"\u001b[39;49;00m\n",
      "            ],\n",
      "            \u001b[34;01m\"msg\"\u001b[39;49;00m: \u001b[33m\"ensure this value has at least 9 characters\"\u001b[39;49;00m,\n",
      "            \u001b[34;01m\"type\"\u001b[39;49;00m: \u001b[33m\"value_error.any_str.min_length\"\u001b[39;49;00m\n",
      "        }\n",
      "    ]\n",
      "}\n",
      "\n"
     ]
    }
   ],
   "source": [
    "# Testing the endpoint that validates if the parameter is within a range of values\n",
    "\n",
    "!http \"{LOCALHOST}/chapter3_path_parameters_05/license-plates/blabla\" # Passing an invalid license\n"
   ]
  },
  {
   "cell_type": "code",
   "execution_count": null,
   "metadata": {},
   "outputs": [
    {
     "name": "stdout",
     "output_type": "stream",
     "text": [
      "\u001b[34mHTTP\u001b[39;49;00m/\u001b[34m1.1\u001b[39;49;00m \u001b[34m200\u001b[39;49;00m \u001b[36mOK\u001b[39;49;00m\n",
      "\u001b[36mcontent-length\u001b[39;49;00m: 23\n",
      "\u001b[36mcontent-type\u001b[39;49;00m: application/json\n",
      "\u001b[36mdate\u001b[39;49;00m: Sat, 02 Jul 2022 13:00:14 GMT\n",
      "\u001b[36mserver\u001b[39;49;00m: uvicorn\n",
      "\n",
      "{\n",
      "    \u001b[34;01m\"license\"\u001b[39;49;00m: \u001b[33m\"AB-123-CD\"\u001b[39;49;00m\n",
      "}\n",
      "\n"
     ]
    }
   ],
   "source": [
    "!http \"{LOCALHOST}/chapter3_path_parameters_05/license-plates/AB-123-CD\" # Passing a valid license"
   ]
  },
  {
   "cell_type": "code",
   "execution_count": null,
   "metadata": {},
   "outputs": [
    {
     "name": "stdout",
     "output_type": "stream",
     "text": [
      "\u001b[34mHTTP\u001b[39;49;00m/\u001b[34m1.1\u001b[39;49;00m \u001b[34m422\u001b[39;49;00m \u001b[36mUnprocessable Entity\u001b[39;49;00m\n",
      "\u001b[36mcontent-length\u001b[39;49;00m: 176\n",
      "\u001b[36mcontent-type\u001b[39;49;00m: application/json\n",
      "\u001b[36mdate\u001b[39;49;00m: Sat, 02 Jul 2022 13:00:56 GMT\n",
      "\u001b[36mserver\u001b[39;49;00m: uvicorn\n",
      "\n",
      "{\n",
      "    \u001b[34;01m\"detail\"\u001b[39;49;00m: [\n",
      "        {\n",
      "            \u001b[34;01m\"ctx\"\u001b[39;49;00m: {\n",
      "                \u001b[34;01m\"pattern\"\u001b[39;49;00m: \u001b[33m\"^\\\\w{2}-\\\\d{3}-\\\\w{2}$\"\u001b[39;49;00m\n",
      "            },\n",
      "            \u001b[34;01m\"loc\"\u001b[39;49;00m: [\n",
      "                \u001b[33m\"path\"\u001b[39;49;00m,\n",
      "                \u001b[33m\"license\"\u001b[39;49;00m\n",
      "            ],\n",
      "            \u001b[34;01m\"msg\"\u001b[39;49;00m: \u001b[33m\"string does not match regex \\\"^\\\\w{2}-\\\\d{3}-\\\\w{2}$\\\"\"\u001b[39;49;00m,\n",
      "            \u001b[34;01m\"type\"\u001b[39;49;00m: \u001b[33m\"value_error.str.regex\"\u001b[39;49;00m\n",
      "        }\n",
      "    ]\n",
      "}\n",
      "\n"
     ]
    }
   ],
   "source": [
    "# Testing the endpoint that validates if the parameter is within a range of values,\n",
    "# but using a regex\n",
    "\n",
    "!http \"{LOCALHOST}/chapter3_path_parameters_06/license-plates/AB-12-CD\" # Passing an invalid license\n"
   ]
  },
  {
   "cell_type": "code",
   "execution_count": null,
   "metadata": {},
   "outputs": [
    {
     "name": "stdout",
     "output_type": "stream",
     "text": [
      "\u001b[34mHTTP\u001b[39;49;00m/\u001b[34m1.1\u001b[39;49;00m \u001b[34m200\u001b[39;49;00m \u001b[36mOK\u001b[39;49;00m\n",
      "\u001b[36mcontent-length\u001b[39;49;00m: 23\n",
      "\u001b[36mcontent-type\u001b[39;49;00m: application/json\n",
      "\u001b[36mdate\u001b[39;49;00m: Sat, 02 Jul 2022 13:00:58 GMT\n",
      "\u001b[36mserver\u001b[39;49;00m: uvicorn\n",
      "\n",
      "{\n",
      "    \u001b[34;01m\"license\"\u001b[39;49;00m: \u001b[33m\"AB-123-CD\"\u001b[39;49;00m\n",
      "}\n",
      "\n"
     ]
    }
   ],
   "source": [
    "!http \"{LOCALHOST}/chapter3_path_parameters_06/license-plates/AB-123-CD\" # Passing a valid license"
   ]
  },
  {
   "cell_type": "markdown",
   "metadata": {},
   "source": [
    "### Query parameters\n"
   ]
  },
  {
   "cell_type": "code",
   "execution_count": null,
   "metadata": {},
   "outputs": [
    {
     "name": "stdout",
     "output_type": "stream",
     "text": [
      "\u001b[34mHTTP\u001b[39;49;00m/\u001b[34m1.1\u001b[39;49;00m \u001b[34m200\u001b[39;49;00m \u001b[36mOK\u001b[39;49;00m\n",
      "\u001b[36mcontent-length\u001b[39;49;00m: 20\n",
      "\u001b[36mcontent-type\u001b[39;49;00m: application/json\n",
      "\u001b[36mdate\u001b[39;49;00m: Sat, 02 Jul 2022 13:13:32 GMT\n",
      "\u001b[36mserver\u001b[39;49;00m: uvicorn\n",
      "\n",
      "{\n",
      "    \u001b[34;01m\"page\"\u001b[39;49;00m: \u001b[34m5\u001b[39;49;00m,\n",
      "    \u001b[34;01m\"size\"\u001b[39;49;00m: \u001b[34m50\u001b[39;49;00m\n",
      "}\n",
      "\n"
     ]
    }
   ],
   "source": [
    "# Testing the endpoint with 2 optional query parameters\n",
    "\n",
    "# !uvicorn chapter3_query_parameters_01:app \n",
    "!http \"{LOCALHOST}/chapter3_query_parameters_01/users?page=5&size=50\"\n"
   ]
  },
  {
   "cell_type": "code",
   "execution_count": null,
   "metadata": {},
   "outputs": [
    {
     "name": "stdout",
     "output_type": "stream",
     "text": [
      "\u001b[34mHTTP\u001b[39;49;00m/\u001b[34m1.1\u001b[39;49;00m \u001b[34m422\u001b[39;49;00m \u001b[36mUnprocessable Entity\u001b[39;49;00m\n",
      "\u001b[36mcontent-length\u001b[39;49;00m: 91\n",
      "\u001b[36mcontent-type\u001b[39;49;00m: application/json\n",
      "\u001b[36mdate\u001b[39;49;00m: Sat, 02 Jul 2022 13:15:37 GMT\n",
      "\u001b[36mserver\u001b[39;49;00m: uvicorn\n",
      "\n",
      "{\n",
      "    \u001b[34;01m\"detail\"\u001b[39;49;00m: [\n",
      "        {\n",
      "            \u001b[34;01m\"loc\"\u001b[39;49;00m: [\n",
      "                \u001b[33m\"query\"\u001b[39;49;00m,\n",
      "                \u001b[33m\"format\"\u001b[39;49;00m\n",
      "            ],\n",
      "            \u001b[34;01m\"msg\"\u001b[39;49;00m: \u001b[33m\"field required\"\u001b[39;49;00m,\n",
      "            \u001b[34;01m\"type\"\u001b[39;49;00m: \u001b[33m\"value_error.missing\"\u001b[39;49;00m\n",
      "        }\n",
      "    ]\n",
      "}\n",
      "\n"
     ]
    }
   ],
   "source": [
    "# Testing the endpoint with 1 required query parameters\n",
    "\n",
    "!http \"{LOCALHOST}/chapter3_query_parameters_02/users\" # Not passing a query parameter"
   ]
  },
  {
   "cell_type": "code",
   "execution_count": null,
   "metadata": {},
   "outputs": [
    {
     "name": "stdout",
     "output_type": "stream",
     "text": [
      "\u001b[34mHTTP\u001b[39;49;00m/\u001b[34m1.1\u001b[39;49;00m \u001b[34m422\u001b[39;49;00m \u001b[36mUnprocessable Entity\u001b[39;49;00m\n",
      "\u001b[36mcontent-length\u001b[39;49;00m: 179\n",
      "\u001b[36mcontent-type\u001b[39;49;00m: application/json\n",
      "\u001b[36mdate\u001b[39;49;00m: Sat, 02 Jul 2022 13:15:38 GMT\n",
      "\u001b[36mserver\u001b[39;49;00m: uvicorn\n",
      "\n",
      "{\n",
      "    \u001b[34;01m\"detail\"\u001b[39;49;00m: [\n",
      "        {\n",
      "            \u001b[34;01m\"ctx\"\u001b[39;49;00m: {\n",
      "                \u001b[34;01m\"enum_values\"\u001b[39;49;00m: [\n",
      "                    \u001b[33m\"short\"\u001b[39;49;00m,\n",
      "                    \u001b[33m\"full\"\u001b[39;49;00m\n",
      "                ]\n",
      "            },\n",
      "            \u001b[34;01m\"loc\"\u001b[39;49;00m: [\n",
      "                \u001b[33m\"query\"\u001b[39;49;00m,\n",
      "                \u001b[33m\"format\"\u001b[39;49;00m\n",
      "            ],\n",
      "            \u001b[34;01m\"msg\"\u001b[39;49;00m: \u001b[33m\"value is not a valid enumeration member; permitted: 'short', 'full'\"\u001b[39;49;00m,\n",
      "            \u001b[34;01m\"type\"\u001b[39;49;00m: \u001b[33m\"type_error.enum\"\u001b[39;49;00m\n",
      "        }\n",
      "    ]\n",
      "}\n",
      "\n"
     ]
    }
   ],
   "source": [
    "!http \"{LOCALHOST}/chapter3_query_parameters_02/users?format=blabla\" # Passing an invalid query parameter"
   ]
  },
  {
   "cell_type": "code",
   "execution_count": null,
   "metadata": {},
   "outputs": [
    {
     "name": "stdout",
     "output_type": "stream",
     "text": [
      "\u001b[34mHTTP\u001b[39;49;00m/\u001b[34m1.1\u001b[39;49;00m \u001b[34m200\u001b[39;49;00m \u001b[36mOK\u001b[39;49;00m\n",
      "\u001b[36mcontent-length\u001b[39;49;00m: 17\n",
      "\u001b[36mcontent-type\u001b[39;49;00m: application/json\n",
      "\u001b[36mdate\u001b[39;49;00m: Sat, 02 Jul 2022 13:15:39 GMT\n",
      "\u001b[36mserver\u001b[39;49;00m: uvicorn\n",
      "\n",
      "{\n",
      "    \u001b[34;01m\"format\"\u001b[39;49;00m: \u001b[33m\"full\"\u001b[39;49;00m\n",
      "}\n",
      "\n"
     ]
    }
   ],
   "source": [
    "!http \"{LOCALHOST}/chapter3_query_parameters_02/users?format=full\" # Passing a valid query parameter"
   ]
  },
  {
   "cell_type": "code",
   "execution_count": null,
   "metadata": {},
   "outputs": [
    {
     "name": "stdout",
     "output_type": "stream",
     "text": [
      "\u001b[34mHTTP\u001b[39;49;00m/\u001b[34m1.1\u001b[39;49;00m \u001b[34m422\u001b[39;49;00m \u001b[36mUnprocessable Entity\u001b[39;49;00m\n",
      "\u001b[36mcontent-length\u001b[39;49;00m: 281\n",
      "\u001b[36mcontent-type\u001b[39;49;00m: application/json\n",
      "\u001b[36mdate\u001b[39;49;00m: Sat, 02 Jul 2022 13:37:08 GMT\n",
      "\u001b[36mserver\u001b[39;49;00m: uvicorn\n",
      "\n",
      "{\n",
      "    \u001b[34;01m\"detail\"\u001b[39;49;00m: [\n",
      "        {\n",
      "            \u001b[34;01m\"ctx\"\u001b[39;49;00m: {\n",
      "                \u001b[34;01m\"limit_value\"\u001b[39;49;00m: \u001b[34m0\u001b[39;49;00m\n",
      "            },\n",
      "            \u001b[34;01m\"loc\"\u001b[39;49;00m: [\n",
      "                \u001b[33m\"query\"\u001b[39;49;00m,\n",
      "                \u001b[33m\"page\"\u001b[39;49;00m\n",
      "            ],\n",
      "            \u001b[34;01m\"msg\"\u001b[39;49;00m: \u001b[33m\"ensure this value is greater than 0\"\u001b[39;49;00m,\n",
      "            \u001b[34;01m\"type\"\u001b[39;49;00m: \u001b[33m\"value_error.number.not_gt\"\u001b[39;49;00m\n",
      "        },\n",
      "        {\n",
      "            \u001b[34;01m\"ctx\"\u001b[39;49;00m: {\n",
      "                \u001b[34;01m\"limit_value\"\u001b[39;49;00m: \u001b[34m100\u001b[39;49;00m\n",
      "            },\n",
      "            \u001b[34;01m\"loc\"\u001b[39;49;00m: [\n",
      "                \u001b[33m\"query\"\u001b[39;49;00m,\n",
      "                \u001b[33m\"size\"\u001b[39;49;00m\n",
      "            ],\n",
      "            \u001b[34;01m\"msg\"\u001b[39;49;00m: \u001b[33m\"ensure this value is less than or equal to 100\"\u001b[39;49;00m,\n",
      "            \u001b[34;01m\"type\"\u001b[39;49;00m: \u001b[33m\"value_error.number.not_le\"\u001b[39;49;00m\n",
      "        }\n",
      "    ]\n",
      "}\n",
      "\n"
     ]
    }
   ],
   "source": [
    "# Testing the endpoint with advanced query validations\n",
    "\n",
    "!http \"{LOCALHOST}/chapter3_query_parameters_03/users?page=-1&size=200\" # Passing invalid query parameters\n"
   ]
  },
  {
   "cell_type": "code",
   "execution_count": null,
   "metadata": {},
   "outputs": [
    {
     "name": "stdout",
     "output_type": "stream",
     "text": [
      "\u001b[34mHTTP\u001b[39;49;00m/\u001b[34m1.1\u001b[39;49;00m \u001b[34m200\u001b[39;49;00m \u001b[36mOK\u001b[39;49;00m\n",
      "\u001b[36mcontent-length\u001b[39;49;00m: 20\n",
      "\u001b[36mcontent-type\u001b[39;49;00m: application/json\n",
      "\u001b[36mdate\u001b[39;49;00m: Sat, 02 Jul 2022 13:37:09 GMT\n",
      "\u001b[36mserver\u001b[39;49;00m: uvicorn\n",
      "\n",
      "{\n",
      "    \u001b[34;01m\"page\"\u001b[39;49;00m: \u001b[34m1\u001b[39;49;00m,\n",
      "    \u001b[34;01m\"size\"\u001b[39;49;00m: \u001b[34m99\u001b[39;49;00m\n",
      "}\n",
      "\n"
     ]
    }
   ],
   "source": [
    "!http \"{LOCALHOST}/chapter3_query_parameters_03/users?page=1&size=99\" # Passing valid query parameters"
   ]
  },
  {
   "cell_type": "markdown",
   "metadata": {},
   "source": [
    "### The request body\n"
   ]
  },
  {
   "cell_type": "code",
   "execution_count": null,
   "metadata": {},
   "outputs": [
    {
     "name": "stdout",
     "output_type": "stream",
     "text": [
      "\u001b[34mHTTP\u001b[39;49;00m/\u001b[34m1.1\u001b[39;49;00m \u001b[34m200\u001b[39;49;00m \u001b[36mOK\u001b[39;49;00m\n",
      "\u001b[36mcontent-length\u001b[39;49;00m: 24\n",
      "\u001b[36mcontent-type\u001b[39;49;00m: application/json\n",
      "\u001b[36mdate\u001b[39;49;00m: Sat, 02 Jul 2022 13:39:32 GMT\n",
      "\u001b[36mserver\u001b[39;49;00m: uvicorn\n",
      "\n",
      "{\n",
      "    \u001b[34;01m\"age\"\u001b[39;49;00m: \u001b[34m30\u001b[39;49;00m,\n",
      "    \u001b[34;01m\"name\"\u001b[39;49;00m: \u001b[33m\"John\"\u001b[39;49;00m\n",
      "}\n",
      "\n"
     ]
    }
   ],
   "source": [
    "# Testing the endpoint with a POST request, validating the request body\n",
    "# with FastAPI built-in validtors\n",
    "\n",
    "!http POST \"{LOCALHOST}/chapter3_request_body_01/users\" name=\"John\" age=30\n"
   ]
  },
  {
   "cell_type": "code",
   "execution_count": null,
   "metadata": {},
   "outputs": [
    {
     "name": "stdout",
     "output_type": "stream",
     "text": [
      "\u001b[34mHTTP\u001b[39;49;00m/\u001b[34m1.1\u001b[39;49;00m \u001b[34m422\u001b[39;49;00m \u001b[36mUnprocessable Entity\u001b[39;49;00m\n",
      "\u001b[36mcontent-length\u001b[39;49;00m: 100\n",
      "\u001b[36mcontent-type\u001b[39;49;00m: application/json\n",
      "\u001b[36mdate\u001b[39;49;00m: Sat, 02 Jul 2022 13:57:29 GMT\n",
      "\u001b[36mserver\u001b[39;49;00m: uvicorn\n",
      "\n",
      "{\n",
      "    \u001b[34;01m\"detail\"\u001b[39;49;00m: [\n",
      "        {\n",
      "            \u001b[34;01m\"loc\"\u001b[39;49;00m: [\n",
      "                \u001b[33m\"body\"\u001b[39;49;00m,\n",
      "                \u001b[33m\"age\"\u001b[39;49;00m\n",
      "            ],\n",
      "            \u001b[34;01m\"msg\"\u001b[39;49;00m: \u001b[33m\"value is not a valid integer\"\u001b[39;49;00m,\n",
      "            \u001b[34;01m\"type\"\u001b[39;49;00m: \u001b[33m\"type_error.integer\"\u001b[39;49;00m\n",
      "        }\n",
      "    ]\n",
      "}\n",
      "\n"
     ]
    }
   ],
   "source": [
    "# Testing the endpoint with a POST request, validating the request body\n",
    "# with custom pydantic models\n",
    "\n",
    "# !uvicorn chapter3_request_body_02:app \n",
    "!http POST \"{LOCALHOST}/chapter3_request_body_02/users\" name=\"John\" age=\"thirty\" # Pasing invalid body parameters\n"
   ]
  },
  {
   "cell_type": "code",
   "execution_count": null,
   "metadata": {},
   "outputs": [
    {
     "name": "stdout",
     "output_type": "stream",
     "text": [
      "\u001b[34mHTTP\u001b[39;49;00m/\u001b[34m1.1\u001b[39;49;00m \u001b[34m200\u001b[39;49;00m \u001b[36mOK\u001b[39;49;00m\n",
      "\u001b[36mcontent-length\u001b[39;49;00m: 24\n",
      "\u001b[36mcontent-type\u001b[39;49;00m: application/json\n",
      "\u001b[36mdate\u001b[39;49;00m: Sat, 02 Jul 2022 13:57:36 GMT\n",
      "\u001b[36mserver\u001b[39;49;00m: uvicorn\n",
      "\n",
      "{\n",
      "    \u001b[34;01m\"age\"\u001b[39;49;00m: \u001b[34m30\u001b[39;49;00m,\n",
      "    \u001b[34;01m\"name\"\u001b[39;49;00m: \u001b[33m\"John\"\u001b[39;49;00m\n",
      "}\n",
      "\n"
     ]
    }
   ],
   "source": [
    "!http POST \"{LOCALHOST}/chapter3_request_body_02/users\" name=\"John\" age=30 # Pasing valid body parameters\n"
   ]
  },
  {
   "cell_type": "code",
   "execution_count": null,
   "metadata": {},
   "outputs": [
    {
     "name": "stdout",
     "output_type": "stream",
     "text": [
      "\u001b[34mHTTP\u001b[39;49;00m/\u001b[34m1.1\u001b[39;49;00m \u001b[34m200\u001b[39;49;00m \u001b[36mOK\u001b[39;49;00m\n",
      "\u001b[36mcontent-length\u001b[39;49;00m: 59\n",
      "\u001b[36mcontent-type\u001b[39;49;00m: application/json\n",
      "\u001b[36mdate\u001b[39;49;00m: Sat, 02 Jul 2022 14:25:35 GMT\n",
      "\u001b[36mserver\u001b[39;49;00m: uvicorn\n",
      "\n",
      "{\n",
      "    \u001b[34;01m\"company\"\u001b[39;49;00m: {\n",
      "        \u001b[34;01m\"name\"\u001b[39;49;00m: \u001b[33m\"ACME\"\u001b[39;49;00m\n",
      "    },\n",
      "    \u001b[34;01m\"user\"\u001b[39;49;00m: {\n",
      "        \u001b[34;01m\"age\"\u001b[39;49;00m: \u001b[34m30\u001b[39;49;00m,\n",
      "        \u001b[34;01m\"name\"\u001b[39;49;00m: \u001b[33m\"John\"\u001b[39;49;00m\n",
      "    }\n",
      "}\n",
      "\n"
     ]
    }
   ],
   "source": [
    "# Testing the endpoint with a POST request, validating multiple body objects\n",
    "\n",
    "!echo '{\"user\": {\"name\": \"John\", \"age\": 30}, \"company\": {\"name\": \"ACME\"}}' | http POST http://localhost:8000/chapter3_request_body_03/users\n",
    "\n"
   ]
  },
  {
   "cell_type": "code",
   "execution_count": null,
   "metadata": {},
   "outputs": [
    {
     "name": "stdout",
     "output_type": "stream",
     "text": [
      "\u001b[34mHTTP\u001b[39;49;00m/\u001b[34m1.1\u001b[39;49;00m \u001b[34m200\u001b[39;49;00m \u001b[36mOK\u001b[39;49;00m\n",
      "\u001b[36mcontent-length\u001b[39;49;00m: 46\n",
      "\u001b[36mcontent-type\u001b[39;49;00m: application/json\n",
      "\u001b[36mdate\u001b[39;49;00m: Sat, 02 Jul 2022 14:27:39 GMT\n",
      "\u001b[36mserver\u001b[39;49;00m: uvicorn\n",
      "\n",
      "{\n",
      "    \u001b[34;01m\"priority\"\u001b[39;49;00m: \u001b[34m1\u001b[39;49;00m,\n",
      "    \u001b[34;01m\"user\"\u001b[39;49;00m: {\n",
      "        \u001b[34;01m\"age\"\u001b[39;49;00m: \u001b[34m30\u001b[39;49;00m,\n",
      "        \u001b[34;01m\"name\"\u001b[39;49;00m: \u001b[33m\"John\"\u001b[39;49;00m\n",
      "    }\n",
      "}\n",
      "\n"
     ]
    }
   ],
   "source": [
    "# Testing the endpoint with a POST request, using both built-in and custom validators\n",
    "\n",
    "!echo '{\"user\": {\"name\": \"John\", \"age\": 30}, \"priority\": 1}' | http POST \"http://localhost:8000/chapter3_request_body_04/users\""
   ]
  },
  {
   "cell_type": "markdown",
   "metadata": {},
   "source": [
    "### Form data and file uploads\n"
   ]
  },
  {
   "cell_type": "code",
   "execution_count": null,
   "metadata": {},
   "outputs": [
    {
     "name": "stdout",
     "output_type": "stream",
     "text": [
      "\u001b[34mHTTP\u001b[39;49;00m/\u001b[34m1.1\u001b[39;49;00m \u001b[34m200\u001b[39;49;00m \u001b[36mOK\u001b[39;49;00m\n",
      "\u001b[36mcontent-length\u001b[39;49;00m: 24\n",
      "\u001b[36mcontent-type\u001b[39;49;00m: application/json\n",
      "\u001b[36mdate\u001b[39;49;00m: Sat, 02 Jul 2022 14:34:43 GMT\n",
      "\u001b[36mserver\u001b[39;49;00m: uvicorn\n",
      "\n",
      "{\n",
      "    \u001b[34;01m\"age\"\u001b[39;49;00m: \u001b[34m30\u001b[39;49;00m,\n",
      "    \u001b[34;01m\"name\"\u001b[39;49;00m: \u001b[33m\"John\"\u001b[39;49;00m\n",
      "}\n",
      "\n"
     ]
    }
   ],
   "source": [
    "# Testing the endpoint with a POST request, validating form data\n",
    "\n",
    "!http --form POST \"{LOCALHOST}/chapter3_form_data_01/users\" name=John age=30 \n",
    "\n"
   ]
  },
  {
   "cell_type": "code",
   "execution_count": null,
   "metadata": {},
   "outputs": [
    {
     "name": "stdout",
     "output_type": "stream",
     "text": [
      "\u001b[34mHTTP\u001b[39;49;00m/\u001b[34m1.1\u001b[39;49;00m \u001b[34m200\u001b[39;49;00m \u001b[36mOK\u001b[39;49;00m\n",
      "\u001b[36mcontent-length\u001b[39;49;00m: 19\n",
      "\u001b[36mcontent-type\u001b[39;49;00m: application/json\n",
      "\u001b[36mdate\u001b[39;49;00m: Sat, 02 Jul 2022 14:38:49 GMT\n",
      "\u001b[36mserver\u001b[39;49;00m: uvicorn\n",
      "\n",
      "{\n",
      "    \u001b[34;01m\"file_size\"\u001b[39;49;00m: \u001b[34m71457\u001b[39;49;00m\n",
      "}\n",
      "\n"
     ]
    }
   ],
   "source": [
    "# Testing the endpoint with a POST request, validating a small file upload\n",
    "\n",
    "!http --form POST \"{LOCALHOST}/chapter3_file_uploads_01/files\" file@../assets/cat.jpg\n"
   ]
  },
  {
   "cell_type": "code",
   "execution_count": null,
   "metadata": {},
   "outputs": [
    {
     "name": "stdout",
     "output_type": "stream",
     "text": [
      "\u001b[34mHTTP\u001b[39;49;00m/\u001b[34m1.1\u001b[39;49;00m \u001b[34m200\u001b[39;49;00m \u001b[36mOK\u001b[39;49;00m\n",
      "\u001b[36mcontent-length\u001b[39;49;00m: 51\n",
      "\u001b[36mcontent-type\u001b[39;49;00m: application/json\n",
      "\u001b[36mdate\u001b[39;49;00m: Sat, 02 Jul 2022 14:40:17 GMT\n",
      "\u001b[36mserver\u001b[39;49;00m: uvicorn\n",
      "\n",
      "{\n",
      "    \u001b[34;01m\"content_type\"\u001b[39;49;00m: \u001b[33m\"image/jpeg\"\u001b[39;49;00m,\n",
      "    \u001b[34;01m\"file_name\"\u001b[39;49;00m: \u001b[33m\"cat.jpg\"\u001b[39;49;00m\n",
      "}\n",
      "\n"
     ]
    }
   ],
   "source": [
    "# Testing the endpoint with a POST request, validating a large file that may not fit in memory\n",
    "\n",
    "!http --form POST \"{LOCALHOST}/chapter3_file_uploads_02/files\" file@../assets/cat.jpg\n"
   ]
  },
  {
   "cell_type": "code",
   "execution_count": null,
   "metadata": {},
   "outputs": [
    {
     "name": "stdout",
     "output_type": "stream",
     "text": [
      "\u001b[34mHTTP\u001b[39;49;00m/\u001b[34m1.1\u001b[39;49;00m \u001b[34m200\u001b[39;49;00m \u001b[36mOK\u001b[39;49;00m\n",
      "\u001b[36mcontent-length\u001b[39;49;00m: 108\n",
      "\u001b[36mcontent-type\u001b[39;49;00m: application/json\n",
      "\u001b[36mdate\u001b[39;49;00m: Sat, 02 Jul 2022 14:46:02 GMT\n",
      "\u001b[36mserver\u001b[39;49;00m: uvicorn\n",
      "\n",
      "[\n",
      "    {\n",
      "        \u001b[34;01m\"content_type\"\u001b[39;49;00m: \u001b[33m\"image/jpeg\"\u001b[39;49;00m,\n",
      "        \u001b[34;01m\"file_name\"\u001b[39;49;00m: \u001b[33m\"cat.jpg\"\u001b[39;49;00m\n",
      "    },\n",
      "    {\n",
      "        \u001b[34;01m\"content_type\"\u001b[39;49;00m: \u001b[33m\"image/jpeg\"\u001b[39;49;00m,\n",
      "        \u001b[34;01m\"file_name\"\u001b[39;49;00m: \u001b[33m\"people.jpg\"\u001b[39;49;00m\n",
      "    }\n",
      "]\n",
      "\n"
     ]
    }
   ],
   "source": [
    "# Testing the endpoint with a POST request, validating a list of large files\n",
    "\n",
    "!http --form POST \"{LOCALHOST}/chapter3_file_uploads_03/files\" files@../assets/cat.jpg files@../assets/people.jpg\n"
   ]
  },
  {
   "cell_type": "markdown",
   "metadata": {},
   "source": [
    "### Headers and cookies\n"
   ]
  },
  {
   "cell_type": "code",
   "execution_count": null,
   "metadata": {},
   "outputs": [
    {
     "name": "stdout",
     "output_type": "stream",
     "text": [
      "\u001b[34mHTTP\u001b[39;49;00m/\u001b[34m1.1\u001b[39;49;00m \u001b[34m200\u001b[39;49;00m \u001b[36mOK\u001b[39;49;00m\n",
      "\u001b[36mcontent-length\u001b[39;49;00m: 17\n",
      "\u001b[36mcontent-type\u001b[39;49;00m: application/json\n",
      "\u001b[36mdate\u001b[39;49;00m: Mon, 04 Jul 2022 11:27:46 GMT\n",
      "\u001b[36mserver\u001b[39;49;00m: uvicorn\n",
      "\n",
      "{\n",
      "    \u001b[34;01m\"hello\"\u001b[39;49;00m: \u001b[33m\"World\"\u001b[39;49;00m\n",
      "}\n",
      "\n"
     ]
    }
   ],
   "source": [
    "# Testing the endpoint with a GET request, validating a simple header field\n",
    "\n",
    "!http \"{LOCALHOST}/chapter3_headers_cookies_01\" 'Hello: World'\n"
   ]
  },
  {
   "cell_type": "code",
   "execution_count": null,
   "metadata": {},
   "outputs": [
    {
     "name": "stdout",
     "output_type": "stream",
     "text": [
      "\u001b[34mHTTP\u001b[39;49;00m/\u001b[34m1.1\u001b[39;49;00m \u001b[34m200\u001b[39;49;00m \u001b[36mOK\u001b[39;49;00m\n",
      "\u001b[36mcontent-length\u001b[39;49;00m: 29\n",
      "\u001b[36mcontent-type\u001b[39;49;00m: application/json\n",
      "\u001b[36mdate\u001b[39;49;00m: Mon, 04 Jul 2022 11:32:05 GMT\n",
      "\u001b[36mserver\u001b[39;49;00m: uvicorn\n",
      "\n",
      "{\n",
      "    \u001b[34;01m\"user_agent\"\u001b[39;49;00m: \u001b[33m\"HTTPie/1.0.3\"\u001b[39;49;00m\n",
      "}\n",
      "\n"
     ]
    }
   ],
   "source": [
    "# Testing the endpoint with a GET request, validating the user agent field\n",
    "\n",
    "!http \"{LOCALHOST}/chapter3_headers_cookies_02\"\n"
   ]
  },
  {
   "cell_type": "code",
   "execution_count": null,
   "metadata": {},
   "outputs": [
    {
     "name": "stdout",
     "output_type": "stream",
     "text": [
      "\u001b[34mHTTP\u001b[39;49;00m/\u001b[34m1.1\u001b[39;49;00m \u001b[34m200\u001b[39;49;00m \u001b[36mOK\u001b[39;49;00m\n",
      "\u001b[36mcontent-length\u001b[39;49;00m: 14\n",
      "\u001b[36mcontent-type\u001b[39;49;00m: application/json\n",
      "\u001b[36mdate\u001b[39;49;00m: Mon, 04 Jul 2022 11:37:21 GMT\n",
      "\u001b[36mserver\u001b[39;49;00m: uvicorn\n",
      "\n",
      "{\n",
      "    \u001b[34;01m\"hello\"\u001b[39;49;00m: \u001b[34mnull\u001b[39;49;00m\n",
      "}\n",
      "\n"
     ]
    }
   ],
   "source": [
    "# Testing the endpoint with a GET request, trying to validate a missing cookie\n",
    "\n",
    "!http \"{LOCALHOST}/chapter3_headers_cookies_03\"\n"
   ]
  },
  {
   "cell_type": "code",
   "execution_count": null,
   "metadata": {},
   "outputs": [
    {
     "name": "stdout",
     "output_type": "stream",
     "text": [
      "\u001b[34mHTTP\u001b[39;49;00m/\u001b[34m1.1\u001b[39;49;00m \u001b[34m200\u001b[39;49;00m \u001b[36mOK\u001b[39;49;00m\n",
      "\u001b[36mcontent-length\u001b[39;49;00m: 38\n",
      "\u001b[36mcontent-type\u001b[39;49;00m: application/json\n",
      "\u001b[36mdate\u001b[39;49;00m: Mon, 04 Jul 2022 11:39:42 GMT\n",
      "\u001b[36mserver\u001b[39;49;00m: uvicorn\n",
      "\n",
      "{\n",
      "    \u001b[34;01m\"path\"\u001b[39;49;00m: \u001b[33m\"/chapter3_request_object_01\"\u001b[39;49;00m\n",
      "}\n",
      "\n"
     ]
    }
   ],
   "source": [
    "# Testing the endpoint with a GET request, validating a custom request object\n",
    "\n",
    "!http \"{LOCALHOST}/chapter3_request_object_01\"\n"
   ]
  },
  {
   "cell_type": "markdown",
   "metadata": {},
   "source": [
    "### Path operation parameters"
   ]
  },
  {
   "cell_type": "code",
   "execution_count": null,
   "metadata": {},
   "outputs": [
    {
     "name": "stdout",
     "output_type": "stream",
     "text": [
      "\u001b[34mHTTP\u001b[39;49;00m/\u001b[34m1.1\u001b[39;49;00m \u001b[34m201\u001b[39;49;00m \u001b[36mCreated\u001b[39;49;00m\n",
      "\u001b[36mcontent-length\u001b[39;49;00m: 17\n",
      "\u001b[36mcontent-type\u001b[39;49;00m: application/json\n",
      "\u001b[36mdate\u001b[39;49;00m: Mon, 04 Jul 2022 12:01:30 GMT\n",
      "\u001b[36mserver\u001b[39;49;00m: uvicorn\n",
      "\n",
      "{\n",
      "    \u001b[34;01m\"title\"\u001b[39;49;00m: \u001b[33m\"Hello\"\u001b[39;49;00m\n",
      "}\n",
      "\n"
     ]
    }
   ],
   "source": [
    "# Testing the endpoint with a POST request, \n",
    "# and customizing the response status code to 201\n",
    "\n",
    "!http \"{LOCALHOST}/chapter3_response_path_parameters_01/posts\" title=\"Hello\"\n",
    "\n"
   ]
  },
  {
   "cell_type": "code",
   "execution_count": null,
   "metadata": {},
   "outputs": [
    {
     "name": "stdout",
     "output_type": "stream",
     "text": [
      "\u001b[34mHTTP\u001b[39;49;00m/\u001b[34m1.1\u001b[39;49;00m \u001b[34m204\u001b[39;49;00m \u001b[36mNo Content\u001b[39;49;00m\n",
      "\u001b[36mcontent-length\u001b[39;49;00m: 4\n",
      "\u001b[36mcontent-type\u001b[39;49;00m: application/json\n",
      "\u001b[36mdate\u001b[39;49;00m: Mon, 04 Jul 2022 12:08:22 GMT\n",
      "\u001b[36mserver\u001b[39;49;00m: uvicorn\n",
      "\n",
      "\n",
      "\n"
     ]
    }
   ],
   "source": [
    "# Testing the endpoint with a DELETE request, \n",
    "# and customizing the response status code to 204\n",
    "\n",
    "!http DELETE \"{LOCALHOST}/chapter3_response_path_parameters_02/posts/1\"\n"
   ]
  },
  {
   "cell_type": "code",
   "execution_count": null,
   "metadata": {},
   "outputs": [
    {
     "name": "stdout",
     "output_type": "stream",
     "text": [
      "\u001b[34mHTTP\u001b[39;49;00m/\u001b[34m1.1\u001b[39;49;00m \u001b[34m200\u001b[39;49;00m \u001b[36mOK\u001b[39;49;00m\n",
      "\u001b[36mcontent-length\u001b[39;49;00m: 32\n",
      "\u001b[36mcontent-type\u001b[39;49;00m: application/json\n",
      "\u001b[36mdate\u001b[39;49;00m: Mon, 04 Jul 2022 12:39:47 GMT\n",
      "\u001b[36mserver\u001b[39;49;00m: uvicorn\n",
      "\n",
      "{\n",
      "    \u001b[34;01m\"nb_views\"\u001b[39;49;00m: \u001b[34m100\u001b[39;49;00m,\n",
      "    \u001b[34;01m\"title\"\u001b[39;49;00m: \u001b[33m\"Hello\"\u001b[39;49;00m\n",
      "}\n",
      "\n"
     ]
    }
   ],
   "source": [
    "# Testing the endpoint with a GET request, \n",
    "# and returning all data associated with a particular ID\n",
    "\n",
    "!http GET \"{LOCALHOST}/chapter3_response_path_parameters_03/posts/1\"\n"
   ]
  },
  {
   "cell_type": "code",
   "execution_count": null,
   "metadata": {},
   "outputs": [
    {
     "name": "stdout",
     "output_type": "stream",
     "text": [
      "\u001b[34mHTTP\u001b[39;49;00m/\u001b[34m1.1\u001b[39;49;00m \u001b[34m200\u001b[39;49;00m \u001b[36mOK\u001b[39;49;00m\n",
      "\u001b[36mcontent-length\u001b[39;49;00m: 17\n",
      "\u001b[36mcontent-type\u001b[39;49;00m: application/json\n",
      "\u001b[36mdate\u001b[39;49;00m: Mon, 04 Jul 2022 12:40:21 GMT\n",
      "\u001b[36mserver\u001b[39;49;00m: uvicorn\n",
      "\n",
      "{\n",
      "    \u001b[34;01m\"title\"\u001b[39;49;00m: \u001b[33m\"Hello\"\u001b[39;49;00m\n",
      "}\n",
      "\n"
     ]
    }
   ],
   "source": [
    "# Testing the endpoint with a GET request, \n",
    "# and returning only the data we want from the last ID\n",
    "\n",
    "!http GET \"{LOCALHOST}/chapter3_response_path_parameters_04/posts/1\"\n"
   ]
  },
  {
   "cell_type": "markdown",
   "metadata": {},
   "source": [
    "### The response parameter"
   ]
  },
  {
   "cell_type": "code",
   "execution_count": null,
   "metadata": {},
   "outputs": [
    {
     "name": "stdout",
     "output_type": "stream",
     "text": [
      "\u001b[34mHTTP\u001b[39;49;00m/\u001b[34m1.1\u001b[39;49;00m \u001b[34m200\u001b[39;49;00m \u001b[36mOK\u001b[39;49;00m\n",
      "\u001b[36mcontent-length\u001b[39;49;00m: 17\n",
      "\u001b[36mcontent-type\u001b[39;49;00m: application/json\n",
      "\u001b[36mcustom-header\u001b[39;49;00m: Custom-Header-Value\n",
      "\u001b[36mdate\u001b[39;49;00m: Mon, 04 Jul 2022 12:46:59 GMT\n",
      "\u001b[36mserver\u001b[39;49;00m: uvicorn\n",
      "\n",
      "{\n",
      "    \u001b[34;01m\"hello\"\u001b[39;49;00m: \u001b[33m\"world\"\u001b[39;49;00m\n",
      "}\n",
      "\n"
     ]
    }
   ],
   "source": [
    "# Testing the endpoint with a GET request, \n",
    "# and setting a custom header in the response\n",
    "\n",
    "!http GET \"{LOCALHOST}/chapter3_response_parameter_01\"\n"
   ]
  },
  {
   "cell_type": "code",
   "execution_count": null,
   "metadata": {},
   "outputs": [
    {
     "name": "stdout",
     "output_type": "stream",
     "text": [
      "\u001b[34mHTTP\u001b[39;49;00m/\u001b[34m1.1\u001b[39;49;00m \u001b[34m200\u001b[39;49;00m \u001b[36mOK\u001b[39;49;00m\n",
      "\u001b[36mcontent-length\u001b[39;49;00m: 17\n",
      "\u001b[36mcontent-type\u001b[39;49;00m: application/json\n",
      "\u001b[36mdate\u001b[39;49;00m: Mon, 04 Jul 2022 12:50:24 GMT\n",
      "\u001b[36mserver\u001b[39;49;00m: uvicorn\n",
      "\u001b[36mset-cookie\u001b[39;49;00m: cookie-name=cookie-value; Max-Age=86400; Path=/; SameSite=lax\n",
      "\n",
      "{\n",
      "    \u001b[34;01m\"hello\"\u001b[39;49;00m: \u001b[33m\"world\"\u001b[39;49;00m\n",
      "}\n",
      "\n"
     ]
    }
   ],
   "source": [
    "# Testing the endpoint with a GET request, \n",
    "# and setting a custom cookie in the response\n",
    "\n",
    "!http GET \"{LOCALHOST}/chapter3_response_parameter_02\"\n"
   ]
  },
  {
   "cell_type": "code",
   "execution_count": null,
   "metadata": {},
   "outputs": [
    {
     "name": "stdout",
     "output_type": "stream",
     "text": [
      "\u001b[34mHTTP\u001b[39;49;00m/\u001b[34m1.1\u001b[39;49;00m \u001b[34m200\u001b[39;49;00m \u001b[36mOK\u001b[39;49;00m\n",
      "\u001b[36mcontent-length\u001b[39;49;00m: 25\n",
      "\u001b[36mcontent-type\u001b[39;49;00m: application/json\n",
      "\u001b[36mdate\u001b[39;49;00m: Mon, 04 Jul 2022 13:00:31 GMT\n",
      "\u001b[36mserver\u001b[39;49;00m: uvicorn\n",
      "\n",
      "{\n",
      "    \u001b[34;01m\"title\"\u001b[39;49;00m: \u001b[33m\"Updated title\"\u001b[39;49;00m\n",
      "}\n",
      "\n"
     ]
    }
   ],
   "source": [
    "# Testing the endpoint with a PUT request, \n",
    "# updating an existing ID. The status code is set accordingly.\n",
    "\n",
    "!http PUT \"{LOCALHOST}/chapter3_response_parameter_03/posts/1\" title=\"Updated title\" \n"
   ]
  },
  {
   "cell_type": "code",
   "execution_count": null,
   "metadata": {},
   "outputs": [
    {
     "name": "stdout",
     "output_type": "stream",
     "text": [
      "\u001b[34mHTTP\u001b[39;49;00m/\u001b[34m1.1\u001b[39;49;00m \u001b[34m201\u001b[39;49;00m \u001b[36mCreated\u001b[39;49;00m\n",
      "\u001b[36mcontent-length\u001b[39;49;00m: 25\n",
      "\u001b[36mcontent-type\u001b[39;49;00m: application/json\n",
      "\u001b[36mdate\u001b[39;49;00m: Mon, 04 Jul 2022 13:01:37 GMT\n",
      "\u001b[36mserver\u001b[39;49;00m: uvicorn\n",
      "\n",
      "{\n",
      "    \u001b[34;01m\"title\"\u001b[39;49;00m: \u001b[33m\"Updated title\"\u001b[39;49;00m\n",
      "}\n",
      "\n"
     ]
    }
   ],
   "source": [
    "# Creating a new ID. The status code is set accordingly.\n",
    "\n",
    "!http PUT \"{LOCALHOST}/chapter3_response_parameter_03/posts/2\" title=\"Updated title\" \n"
   ]
  },
  {
   "cell_type": "markdown",
   "metadata": {},
   "source": [
    "### Raising HTTP errors"
   ]
  },
  {
   "cell_type": "code",
   "execution_count": null,
   "metadata": {},
   "outputs": [
    {
     "name": "stdout",
     "output_type": "stream",
     "text": [
      "\u001b[34mHTTP\u001b[39;49;00m/\u001b[34m1.1\u001b[39;49;00m \u001b[34m400\u001b[39;49;00m \u001b[36mBad Request\u001b[39;49;00m\n",
      "\u001b[36mcontent-length\u001b[39;49;00m: 35\n",
      "\u001b[36mcontent-type\u001b[39;49;00m: application/json\n",
      "\u001b[36mdate\u001b[39;49;00m: Mon, 04 Jul 2022 13:11:37 GMT\n",
      "\u001b[36mserver\u001b[39;49;00m: uvicorn\n",
      "\n",
      "{\n",
      "    \u001b[34;01m\"detail\"\u001b[39;49;00m: \u001b[33m\"Passwords don't match.\"\u001b[39;49;00m\n",
      "}\n",
      "\n"
     ]
    }
   ],
   "source": [
    "# Testing the endpoint with a POST request, and raising a 400 error if the passwords don't match\n",
    "\n",
    "!http POST \"{LOCALHOST}/chapter3_raise_errors_01/password\" password=\"aaa\" password_confirm=\"bbb\"\n"
   ]
  },
  {
   "cell_type": "code",
   "execution_count": null,
   "metadata": {},
   "outputs": [
    {
     "name": "stdout",
     "output_type": "stream",
     "text": [
      "\u001b[34mHTTP\u001b[39;49;00m/\u001b[34m1.1\u001b[39;49;00m \u001b[34m400\u001b[39;49;00m \u001b[36mBad Request\u001b[39;49;00m\n",
      "\u001b[36mcontent-length\u001b[39;49;00m: 152\n",
      "\u001b[36mcontent-type\u001b[39;49;00m: application/json\n",
      "\u001b[36mdate\u001b[39;49;00m: Mon, 04 Jul 2022 13:17:18 GMT\n",
      "\u001b[36mserver\u001b[39;49;00m: uvicorn\n",
      "\n",
      "{\n",
      "    \u001b[34;01m\"detail\"\u001b[39;49;00m: {\n",
      "        \u001b[34;01m\"hints\"\u001b[39;49;00m: [\n",
      "            \u001b[33m\"Check the caps lock on your keyboard\"\u001b[39;49;00m,\n",
      "            \u001b[33m\"Make the password visible by clicking on the eye icon\"\u001b[39;49;00m\n",
      "        ],\n",
      "        \u001b[34;01m\"message\"\u001b[39;49;00m: \u001b[33m\"Passwords don't match.\"\u001b[39;49;00m\n",
      "    }\n",
      "}\n",
      "\n"
     ]
    }
   ],
   "source": [
    "# Testing the endpoint with a POST request, and raising a 400 error if the passwords don't match, \n",
    "# with a more detailed response message\n",
    "\n",
    "!http POST \"{LOCALHOST}/chapter3_raise_errors_02/password\" password=\"aaa\" password_confirm=\"bbb\"\n"
   ]
  },
  {
   "cell_type": "markdown",
   "metadata": {},
   "source": [
    "### Building a custom response"
   ]
  },
  {
   "cell_type": "code",
   "execution_count": null,
   "metadata": {},
   "outputs": [
    {
     "name": "stdout",
     "output_type": "stream",
     "text": [
      "\u001b[34mHTTP\u001b[39;49;00m/\u001b[34m1.1\u001b[39;49;00m \u001b[34m200\u001b[39;49;00m \u001b[36mOK\u001b[39;49;00m\n",
      "\u001b[36mcontent-length\u001b[39;49;00m: 200\n",
      "\u001b[36mcontent-type\u001b[39;49;00m: text/html; charset=utf-8\n",
      "\u001b[36mdate\u001b[39;49;00m: Mon, 04 Jul 2022 13:23:11 GMT\n",
      "\u001b[36mserver\u001b[39;49;00m: uvicorn\n",
      "\n",
      "<\u001b[34;01mhtml\u001b[39;49;00m>\n",
      "            <\u001b[34;01mhead\u001b[39;49;00m>\n",
      "                <\u001b[34;01mtitle\u001b[39;49;00m>Hello world!</\u001b[34;01mtitle\u001b[39;49;00m>\n",
      "            </\u001b[34;01mhead\u001b[39;49;00m>\n",
      "            <\u001b[34;01mbody\u001b[39;49;00m>\n",
      "                <\u001b[34;01mh1\u001b[39;49;00m>Hello world!</\u001b[34;01mh1\u001b[39;49;00m>\n",
      "            </\u001b[34;01mbody\u001b[39;49;00m>\n",
      "        </\u001b[34;01mhtml\u001b[39;49;00m>\n",
      "\n"
     ]
    }
   ],
   "source": [
    "# Receiving a custom HTML response\n",
    "\n",
    "!http \"{LOCALHOST}/chapter3_custom_response_01/html\"\n"
   ]
  },
  {
   "cell_type": "code",
   "execution_count": null,
   "metadata": {},
   "outputs": [
    {
     "name": "stdout",
     "output_type": "stream",
     "text": [
      "\u001b[34mHTTP\u001b[39;49;00m/\u001b[34m1.1\u001b[39;49;00m \u001b[34m200\u001b[39;49;00m \u001b[36mOK\u001b[39;49;00m\n",
      "\u001b[36mcontent-length\u001b[39;49;00m: 12\n",
      "\u001b[36mcontent-type\u001b[39;49;00m: text/plain; charset=utf-8\n",
      "\u001b[36mdate\u001b[39;49;00m: Mon, 04 Jul 2022 13:23:30 GMT\n",
      "\u001b[36mserver\u001b[39;49;00m: uvicorn\n",
      "\n",
      "Hello world!\n",
      "\n"
     ]
    }
   ],
   "source": [
    "# Receiving a custom plain text response\n",
    "\n",
    "!http \"{LOCALHOST}/chapter3_custom_response_01/text\"\n"
   ]
  },
  {
   "cell_type": "code",
   "execution_count": null,
   "metadata": {},
   "outputs": [
    {
     "name": "stdout",
     "output_type": "stream",
     "text": [
      "\u001b[34mHTTP\u001b[39;49;00m/\u001b[34m1.1\u001b[39;49;00m \u001b[34m307\u001b[39;49;00m \u001b[36mTemporary Redirect\u001b[39;49;00m\n",
      "\u001b[36mdate\u001b[39;49;00m: Mon, 04 Jul 2022 13:30:38 GMT\n",
      "\u001b[36mlocation\u001b[39;49;00m: /redirected-url\n",
      "\u001b[36mserver\u001b[39;49;00m: uvicorn\n",
      "\u001b[36mtransfer-encoding\u001b[39;49;00m: chunked\n",
      "\n",
      "\n",
      "\n"
     ]
    }
   ],
   "source": [
    "# Receiving a redirect response\n",
    "\n",
    "!http \"{LOCALHOST}/chapter3_custom_response_02/redirect\"\n"
   ]
  },
  {
   "cell_type": "code",
   "execution_count": null,
   "metadata": {},
   "outputs": [
    {
     "name": "stdout",
     "output_type": "stream",
     "text": [
      "\u001b[34mHTTP\u001b[39;49;00m/\u001b[34m1.1\u001b[39;49;00m \u001b[34m301\u001b[39;49;00m \u001b[36mMoved Permanently\u001b[39;49;00m\n",
      "\u001b[36mdate\u001b[39;49;00m: Mon, 04 Jul 2022 13:33:35 GMT\n",
      "\u001b[36mlocation\u001b[39;49;00m: /redirected-url\n",
      "\u001b[36mserver\u001b[39;49;00m: uvicorn\n",
      "\u001b[36mtransfer-encoding\u001b[39;49;00m: chunked\n",
      "\n",
      "\n",
      "\n"
     ]
    }
   ],
   "source": [
    "# Receiving a redirect response and changing the status code to 301\n",
    "\n",
    "!http \"{LOCALHOST}/chapter3_custom_response_03/redirect\"\n"
   ]
  },
  {
   "cell_type": "code",
   "execution_count": null,
   "metadata": {},
   "outputs": [
    {
     "name": "stdout",
     "output_type": "stream",
     "text": [
      "\u001b[34mHTTP\u001b[39;49;00m/\u001b[34m1.1\u001b[39;49;00m \u001b[34m200\u001b[39;49;00m \u001b[36mOK\u001b[39;49;00m\n",
      "\u001b[36mcontent-length\u001b[39;49;00m: 71457\n",
      "\u001b[36mcontent-type\u001b[39;49;00m: image/jpeg\n",
      "\u001b[36mdate\u001b[39;49;00m: Mon, 04 Jul 2022 13:47:12 GMT\n",
      "\u001b[36metag\u001b[39;49;00m: 2a2fd883636c10612e9b2a6d39ff7178\n",
      "\u001b[36mlast-modified\u001b[39;49;00m: Thu, 30 Jun 2022 11:05:44 GMT\n",
      "\u001b[36mserver\u001b[39;49;00m: uvicorn\n",
      "\n",
      "\n",
      "\n",
      "+-----------------------------------------+\n",
      "| NOTE: binary data not shown in terminal |\n",
      "+-----------------------------------------+\n",
      "\n"
     ]
    }
   ],
   "source": [
    "# Receiving a file as response\n",
    "# (For this case, run the server from the root dir of the project, \n",
    "# otherwise a 500 error is raised)\n",
    "\n",
    "\"\"\"\n",
    "!uvicorn chapter3.chapter3_endpoints:app\n",
    "\"\"\"\n",
    "!http \"{LOCALHOST}/chapter3_custom_response_04/cat\"\n"
   ]
  },
  {
   "cell_type": "code",
   "execution_count": 5,
   "metadata": {},
   "outputs": [
    {
     "name": "stdout",
     "output_type": "stream",
     "text": [
      "\u001b[34mHTTP\u001b[39;49;00m/\u001b[34m1.1\u001b[39;49;00m \u001b[34m200\u001b[39;49;00m \u001b[36mOK\u001b[39;49;00m\n",
      "\u001b[36mcontent-length\u001b[39;49;00m: 85\n",
      "\u001b[36mcontent-type\u001b[39;49;00m: application/xml\n",
      "\u001b[36mdate\u001b[39;49;00m: Mon, 04 Jul 2022 13:50:14 GMT\n",
      "\u001b[36mserver\u001b[39;49;00m: uvicorn\n",
      "\n",
      "\u001b[36m<?xml version=\"1.0\" encoding=\"UTF-8\"?>\u001b[39;49;00m\n",
      "        \u001b[34;01m<Hello\u001b[39;49;00m\u001b[34;01m>\u001b[39;49;00mWorld\u001b[34;01m</Hello>\u001b[39;49;00m\n",
      "\n"
     ]
    }
   ],
   "source": [
    "# Receiving a custom XML response\n",
    "\n",
    "!http \"{LOCALHOST}/chapter3_custom_response_05/xml\"\n"
   ]
  }
 ],
 "metadata": {
  "kernelspec": {
   "display_name": "Python 3.9.5 ('env': venv)",
   "language": "python",
   "name": "python3"
  },
  "language_info": {
   "codemirror_mode": {
    "name": "ipython",
    "version": 3
   },
   "file_extension": ".py",
   "mimetype": "text/x-python",
   "name": "python",
   "nbconvert_exporter": "python",
   "pygments_lexer": "ipython3",
   "version": "3.9.5"
  },
  "orig_nbformat": 4,
  "vscode": {
   "interpreter": {
    "hash": "26906a448a6233c473a71b447ecae08937ff62febfad6ab86171a9b0b8064292"
   }
  }
 },
 "nbformat": 4,
 "nbformat_minor": 2
}
