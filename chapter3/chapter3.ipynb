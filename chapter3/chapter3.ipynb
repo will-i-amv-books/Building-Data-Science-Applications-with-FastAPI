{
 "cells": [
  {
   "cell_type": "markdown",
   "metadata": {},
   "source": [
    "# Chapter 3 - Developing a RESTful API with FastAPI\n"
   ]
  },
  {
   "cell_type": "markdown",
   "metadata": {},
   "source": [
    "For the following exampples, execute the 'uvicorn' utility in a separate CLI"
   ]
  },
  {
   "cell_type": "code",
   "execution_count": 1,
   "metadata": {},
   "outputs": [],
   "source": [
    "LOCALHOST = 'http://localhost:8000'"
   ]
  },
  {
   "cell_type": "code",
   "execution_count": 9,
   "metadata": {},
   "outputs": [
    {
     "name": "stdout",
     "output_type": "stream",
     "text": [
      "\u001b[34mHTTP\u001b[39;49;00m/\u001b[34m1.1\u001b[39;49;00m \u001b[34m200\u001b[39;49;00m \u001b[36mOK\u001b[39;49;00m\n",
      "\u001b[36mcontent-length\u001b[39;49;00m: 17\n",
      "\u001b[36mcontent-type\u001b[39;49;00m: application/json\n",
      "\u001b[36mdate\u001b[39;49;00m: Fri, 01 Jul 2022 11:25:24 GMT\n",
      "\u001b[36mserver\u001b[39;49;00m: uvicorn\n",
      "\n",
      "{\n",
      "    \u001b[34;01m\"hello\"\u001b[39;49;00m: \u001b[33m\"world\"\u001b[39;49;00m\n",
      "}\n",
      "\n"
     ]
    }
   ],
   "source": [
    "# We can test the first API endpoint, as follows \n",
    "\n",
    "# !uvicorn chapter3_first_endpoint_01:app \n",
    "!http {LOCALHOST}\n"
   ]
  },
  {
   "cell_type": "markdown",
   "metadata": {},
   "source": [
    "### Path parameters"
   ]
  },
  {
   "cell_type": "code",
   "execution_count": 11,
   "metadata": {},
   "outputs": [],
   "source": [
    "# Testing the endpoint that expects a request parameter\n",
    "\n",
    "# !uvicorn chapter3_path_parameters_01:app \n"
   ]
  },
  {
   "cell_type": "code",
   "execution_count": 10,
   "metadata": {},
   "outputs": [
    {
     "name": "stdout",
     "output_type": "stream",
     "text": [
      "\u001b[34mHTTP\u001b[39;49;00m/\u001b[34m1.1\u001b[39;49;00m \u001b[34m404\u001b[39;49;00m \u001b[36mNot Found\u001b[39;49;00m\n",
      "\u001b[36mcontent-length\u001b[39;49;00m: 22\n",
      "\u001b[36mcontent-type\u001b[39;49;00m: application/json\n",
      "\u001b[36mdate\u001b[39;49;00m: Fri, 01 Jul 2022 11:26:00 GMT\n",
      "\u001b[36mserver\u001b[39;49;00m: uvicorn\n",
      "\n",
      "{\n",
      "    \u001b[34;01m\"detail\"\u001b[39;49;00m: \u001b[33m\"Not Found\"\u001b[39;49;00m\n",
      "}\n",
      "\n"
     ]
    }
   ],
   "source": [
    "!http {LOCALHOST}/users # Not passing any parameter "
   ]
  },
  {
   "cell_type": "code",
   "execution_count": 12,
   "metadata": {},
   "outputs": [
    {
     "name": "stdout",
     "output_type": "stream",
     "text": [
      "\u001b[34mHTTP\u001b[39;49;00m/\u001b[34m1.1\u001b[39;49;00m \u001b[34m422\u001b[39;49;00m \u001b[36mUnprocessable Entity\u001b[39;49;00m\n",
      "\u001b[36mcontent-length\u001b[39;49;00m: 99\n",
      "\u001b[36mcontent-type\u001b[39;49;00m: application/json\n",
      "\u001b[36mdate\u001b[39;49;00m: Fri, 01 Jul 2022 11:26:19 GMT\n",
      "\u001b[36mserver\u001b[39;49;00m: uvicorn\n",
      "\n",
      "{\n",
      "    \u001b[34;01m\"detail\"\u001b[39;49;00m: [\n",
      "        {\n",
      "            \u001b[34;01m\"loc\"\u001b[39;49;00m: [\n",
      "                \u001b[33m\"path\"\u001b[39;49;00m,\n",
      "                \u001b[33m\"id\"\u001b[39;49;00m\n",
      "            ],\n",
      "            \u001b[34;01m\"msg\"\u001b[39;49;00m: \u001b[33m\"value is not a valid integer\"\u001b[39;49;00m,\n",
      "            \u001b[34;01m\"type\"\u001b[39;49;00m: \u001b[33m\"type_error.integer\"\u001b[39;49;00m\n",
      "        }\n",
      "    ]\n",
      "}\n",
      "\n"
     ]
    }
   ],
   "source": [
    "!http {LOCALHOST}/users/abc # Passing an invalid parameter "
   ]
  },
  {
   "cell_type": "code",
   "execution_count": 13,
   "metadata": {},
   "outputs": [
    {
     "name": "stdout",
     "output_type": "stream",
     "text": [
      "\u001b[34mHTTP\u001b[39;49;00m/\u001b[34m1.1\u001b[39;49;00m \u001b[34m200\u001b[39;49;00m \u001b[36mOK\u001b[39;49;00m\n",
      "\u001b[36mcontent-length\u001b[39;49;00m: 10\n",
      "\u001b[36mcontent-type\u001b[39;49;00m: application/json\n",
      "\u001b[36mdate\u001b[39;49;00m: Fri, 01 Jul 2022 11:26:28 GMT\n",
      "\u001b[36mserver\u001b[39;49;00m: uvicorn\n",
      "\n",
      "{\n",
      "    \u001b[34;01m\"id\"\u001b[39;49;00m: \u001b[34m123\u001b[39;49;00m\n",
      "}\n",
      "\n"
     ]
    }
   ],
   "source": [
    "!http {LOCALHOST}/users/123 # Passing a valid parameter \n"
   ]
  },
  {
   "cell_type": "code",
   "execution_count": 7,
   "metadata": {},
   "outputs": [],
   "source": [
    "# Testing the endpoint that expects a limited set of values as parameters\n",
    "\n",
    "# !uvicorn chapter3_path_parameters_03:app \n"
   ]
  },
  {
   "cell_type": "code",
   "execution_count": 14,
   "metadata": {},
   "outputs": [
    {
     "name": "stdout",
     "output_type": "stream",
     "text": [
      "\u001b[34mHTTP\u001b[39;49;00m/\u001b[34m1.1\u001b[39;49;00m \u001b[34m422\u001b[39;49;00m \u001b[36mUnprocessable Entity\u001b[39;49;00m\n",
      "\u001b[36mcontent-length\u001b[39;49;00m: 184\n",
      "\u001b[36mcontent-type\u001b[39;49;00m: application/json\n",
      "\u001b[36mdate\u001b[39;49;00m: Fri, 01 Jul 2022 11:26:44 GMT\n",
      "\u001b[36mserver\u001b[39;49;00m: uvicorn\n",
      "\n",
      "{\n",
      "    \u001b[34;01m\"detail\"\u001b[39;49;00m: [\n",
      "        {\n",
      "            \u001b[34;01m\"ctx\"\u001b[39;49;00m: {\n",
      "                \u001b[34;01m\"enum_values\"\u001b[39;49;00m: [\n",
      "                    \u001b[33m\"standard\"\u001b[39;49;00m,\n",
      "                    \u001b[33m\"admin\"\u001b[39;49;00m\n",
      "                ]\n",
      "            },\n",
      "            \u001b[34;01m\"loc\"\u001b[39;49;00m: [\n",
      "                \u001b[33m\"path\"\u001b[39;49;00m,\n",
      "                \u001b[33m\"type\"\u001b[39;49;00m\n",
      "            ],\n",
      "            \u001b[34;01m\"msg\"\u001b[39;49;00m: \u001b[33m\"value is not a valid enumeration member; permitted: 'standard', 'admin'\"\u001b[39;49;00m,\n",
      "            \u001b[34;01m\"type\"\u001b[39;49;00m: \u001b[33m\"type_error.enum\"\u001b[39;49;00m\n",
      "        }\n",
      "    ]\n",
      "}\n",
      "\n"
     ]
    }
   ],
   "source": [
    "!http {LOCALHOST}/users/hello/123/ # Calling with a type that's not in the Enum\n"
   ]
  },
  {
   "cell_type": "code",
   "execution_count": 16,
   "metadata": {},
   "outputs": [
    {
     "name": "stdout",
     "output_type": "stream",
     "text": [
      "\u001b[34mHTTP\u001b[39;49;00m/\u001b[34m1.1\u001b[39;49;00m \u001b[34m200\u001b[39;49;00m \u001b[36mOK\u001b[39;49;00m\n",
      "\u001b[36mcontent-length\u001b[39;49;00m: 25\n",
      "\u001b[36mcontent-type\u001b[39;49;00m: application/json\n",
      "\u001b[36mdate\u001b[39;49;00m: Fri, 01 Jul 2022 11:28:02 GMT\n",
      "\u001b[36mserver\u001b[39;49;00m: uvicorn\n",
      "\n",
      "{\n",
      "    \u001b[34;01m\"id\"\u001b[39;49;00m: \u001b[34m123\u001b[39;49;00m,\n",
      "    \u001b[34;01m\"type\"\u001b[39;49;00m: \u001b[33m\"admin\"\u001b[39;49;00m\n",
      "}\n",
      "\n"
     ]
    }
   ],
   "source": [
    "!http {LOCALHOST}/users/admin/123/ # Calling with a type that's in the Enum"
   ]
  },
  {
   "cell_type": "code",
   "execution_count": null,
   "metadata": {},
   "outputs": [],
   "source": [
    "# Testing the endpoint that validates if the parameter is greater than a value\n",
    "\n",
    "# !uvicorn chapter3_path_parameters_04:app \n"
   ]
  },
  {
   "cell_type": "code",
   "execution_count": 23,
   "metadata": {},
   "outputs": [
    {
     "name": "stdout",
     "output_type": "stream",
     "text": [
      "\u001b[34mHTTP\u001b[39;49;00m/\u001b[34m1.1\u001b[39;49;00m \u001b[34m422\u001b[39;49;00m \u001b[36mUnprocessable Entity\u001b[39;49;00m\n",
      "\u001b[36mcontent-length\u001b[39;49;00m: 149\n",
      "\u001b[36mcontent-type\u001b[39;49;00m: application/json\n",
      "\u001b[36mdate\u001b[39;49;00m: Fri, 01 Jul 2022 11:37:28 GMT\n",
      "\u001b[36mserver\u001b[39;49;00m: uvicorn\n",
      "\n",
      "{\n",
      "    \u001b[34;01m\"detail\"\u001b[39;49;00m: [\n",
      "        {\n",
      "            \u001b[34;01m\"ctx\"\u001b[39;49;00m: {\n",
      "                \u001b[34;01m\"limit_value\"\u001b[39;49;00m: \u001b[34m1\u001b[39;49;00m\n",
      "            },\n",
      "            \u001b[34;01m\"loc\"\u001b[39;49;00m: [\n",
      "                \u001b[33m\"path\"\u001b[39;49;00m,\n",
      "                \u001b[33m\"id\"\u001b[39;49;00m\n",
      "            ],\n",
      "            \u001b[34;01m\"msg\"\u001b[39;49;00m: \u001b[33m\"ensure this value is greater than or equal to 1\"\u001b[39;49;00m,\n",
      "            \u001b[34;01m\"type\"\u001b[39;49;00m: \u001b[33m\"value_error.number.not_ge\"\u001b[39;49;00m\n",
      "        }\n",
      "    ]\n",
      "}\n",
      "\n"
     ]
    }
   ],
   "source": [
    "!http {LOCALHOST}/users/0 # Passing an invalid id\n"
   ]
  },
  {
   "cell_type": "code",
   "execution_count": 24,
   "metadata": {},
   "outputs": [
    {
     "name": "stdout",
     "output_type": "stream",
     "text": [
      "\u001b[34mHTTP\u001b[39;49;00m/\u001b[34m1.1\u001b[39;49;00m \u001b[34m200\u001b[39;49;00m \u001b[36mOK\u001b[39;49;00m\n",
      "\u001b[36mcontent-length\u001b[39;49;00m: 8\n",
      "\u001b[36mcontent-type\u001b[39;49;00m: application/json\n",
      "\u001b[36mdate\u001b[39;49;00m: Fri, 01 Jul 2022 11:37:48 GMT\n",
      "\u001b[36mserver\u001b[39;49;00m: uvicorn\n",
      "\n",
      "{\n",
      "    \u001b[34;01m\"id\"\u001b[39;49;00m: \u001b[34m2\u001b[39;49;00m\n",
      "}\n",
      "\n"
     ]
    }
   ],
   "source": [
    "!http {LOCALHOST}/users/2 # Passing a valid id"
   ]
  },
  {
   "cell_type": "code",
   "execution_count": null,
   "metadata": {},
   "outputs": [],
   "source": [
    "# Testing the endpoint that validates if the parameter is within a range of values\n",
    "\n",
    "# !uvicorn chapter3_path_parameters_05:app \n"
   ]
  },
  {
   "cell_type": "code",
   "execution_count": 31,
   "metadata": {},
   "outputs": [
    {
     "name": "stdout",
     "output_type": "stream",
     "text": [
      "\u001b[34mHTTP\u001b[39;49;00m/\u001b[34m1.1\u001b[39;49;00m \u001b[34m422\u001b[39;49;00m \u001b[36mUnprocessable Entity\u001b[39;49;00m\n",
      "\u001b[36mcontent-length\u001b[39;49;00m: 155\n",
      "\u001b[36mcontent-type\u001b[39;49;00m: application/json\n",
      "\u001b[36mdate\u001b[39;49;00m: Fri, 01 Jul 2022 11:42:23 GMT\n",
      "\u001b[36mserver\u001b[39;49;00m: uvicorn\n",
      "\n",
      "{\n",
      "    \u001b[34;01m\"detail\"\u001b[39;49;00m: [\n",
      "        {\n",
      "            \u001b[34;01m\"ctx\"\u001b[39;49;00m: {\n",
      "                \u001b[34;01m\"limit_value\"\u001b[39;49;00m: \u001b[34m9\u001b[39;49;00m\n",
      "            },\n",
      "            \u001b[34;01m\"loc\"\u001b[39;49;00m: [\n",
      "                \u001b[33m\"path\"\u001b[39;49;00m,\n",
      "                \u001b[33m\"license\"\u001b[39;49;00m\n",
      "            ],\n",
      "            \u001b[34;01m\"msg\"\u001b[39;49;00m: \u001b[33m\"ensure this value has at least 9 characters\"\u001b[39;49;00m,\n",
      "            \u001b[34;01m\"type\"\u001b[39;49;00m: \u001b[33m\"value_error.any_str.min_length\"\u001b[39;49;00m\n",
      "        }\n",
      "    ]\n",
      "}\n",
      "\n"
     ]
    }
   ],
   "source": [
    "!http {LOCALHOST}/license-plates/blabla # Passing an invalid license"
   ]
  },
  {
   "cell_type": "code",
   "execution_count": 29,
   "metadata": {},
   "outputs": [
    {
     "name": "stdout",
     "output_type": "stream",
     "text": [
      "\u001b[34mHTTP\u001b[39;49;00m/\u001b[34m1.1\u001b[39;49;00m \u001b[34m200\u001b[39;49;00m \u001b[36mOK\u001b[39;49;00m\n",
      "\u001b[36mcontent-length\u001b[39;49;00m: 23\n",
      "\u001b[36mcontent-type\u001b[39;49;00m: application/json\n",
      "\u001b[36mdate\u001b[39;49;00m: Fri, 01 Jul 2022 11:42:05 GMT\n",
      "\u001b[36mserver\u001b[39;49;00m: uvicorn\n",
      "\n",
      "{\n",
      "    \u001b[34;01m\"license\"\u001b[39;49;00m: \u001b[33m\"AB-123-CD\"\u001b[39;49;00m\n",
      "}\n",
      "\n"
     ]
    }
   ],
   "source": [
    "!http {LOCALHOST}/license-plates/AB-123-CD # Passing a valid license"
   ]
  },
  {
   "cell_type": "code",
   "execution_count": null,
   "metadata": {},
   "outputs": [],
   "source": [
    "# Testing the endpoint that validates if the parameter is within a range of values,\n",
    "# but using a regex\n",
    "\n",
    "# !uvicorn chapter3_path_parameters_06:app \n"
   ]
  },
  {
   "cell_type": "code",
   "execution_count": 33,
   "metadata": {},
   "outputs": [
    {
     "name": "stdout",
     "output_type": "stream",
     "text": [
      "\u001b[34mHTTP\u001b[39;49;00m/\u001b[34m1.1\u001b[39;49;00m \u001b[34m422\u001b[39;49;00m \u001b[36mUnprocessable Entity\u001b[39;49;00m\n",
      "\u001b[36mcontent-length\u001b[39;49;00m: 176\n",
      "\u001b[36mcontent-type\u001b[39;49;00m: application/json\n",
      "\u001b[36mdate\u001b[39;49;00m: Fri, 01 Jul 2022 11:44:35 GMT\n",
      "\u001b[36mserver\u001b[39;49;00m: uvicorn\n",
      "\n",
      "{\n",
      "    \u001b[34;01m\"detail\"\u001b[39;49;00m: [\n",
      "        {\n",
      "            \u001b[34;01m\"ctx\"\u001b[39;49;00m: {\n",
      "                \u001b[34;01m\"pattern\"\u001b[39;49;00m: \u001b[33m\"^\\\\w{2}-\\\\d{3}-\\\\w{2}$\"\u001b[39;49;00m\n",
      "            },\n",
      "            \u001b[34;01m\"loc\"\u001b[39;49;00m: [\n",
      "                \u001b[33m\"path\"\u001b[39;49;00m,\n",
      "                \u001b[33m\"license\"\u001b[39;49;00m\n",
      "            ],\n",
      "            \u001b[34;01m\"msg\"\u001b[39;49;00m: \u001b[33m\"string does not match regex \\\"^\\\\w{2}-\\\\d{3}-\\\\w{2}$\\\"\"\u001b[39;49;00m,\n",
      "            \u001b[34;01m\"type\"\u001b[39;49;00m: \u001b[33m\"value_error.str.regex\"\u001b[39;49;00m\n",
      "        }\n",
      "    ]\n",
      "}\n",
      "\n"
     ]
    }
   ],
   "source": [
    "!http {LOCALHOST}/license-plates/AB-12-CD # Passing an invalid license"
   ]
  },
  {
   "cell_type": "code",
   "execution_count": 32,
   "metadata": {},
   "outputs": [
    {
     "name": "stdout",
     "output_type": "stream",
     "text": [
      "\u001b[34mHTTP\u001b[39;49;00m/\u001b[34m1.1\u001b[39;49;00m \u001b[34m200\u001b[39;49;00m \u001b[36mOK\u001b[39;49;00m\n",
      "\u001b[36mcontent-length\u001b[39;49;00m: 23\n",
      "\u001b[36mcontent-type\u001b[39;49;00m: application/json\n",
      "\u001b[36mdate\u001b[39;49;00m: Fri, 01 Jul 2022 11:44:25 GMT\n",
      "\u001b[36mserver\u001b[39;49;00m: uvicorn\n",
      "\n",
      "{\n",
      "    \u001b[34;01m\"license\"\u001b[39;49;00m: \u001b[33m\"AB-123-CD\"\u001b[39;49;00m\n",
      "}\n",
      "\n"
     ]
    }
   ],
   "source": [
    "!http {LOCALHOST}/license-plates/AB-123-CD # Passing a valid license"
   ]
  },
  {
   "cell_type": "markdown",
   "metadata": {},
   "source": [
    "### Query parameters\n"
   ]
  },
  {
   "cell_type": "code",
   "execution_count": 37,
   "metadata": {},
   "outputs": [],
   "source": [
    "# Testing the endpoint with 2 optional query parameters\n",
    "\n",
    "# !uvicorn chapter3_query_parameters_01:app \n"
   ]
  },
  {
   "cell_type": "code",
   "execution_count": 36,
   "metadata": {},
   "outputs": [
    {
     "name": "stdout",
     "output_type": "stream",
     "text": [
      "\u001b[34mHTTP\u001b[39;49;00m/\u001b[34m1.1\u001b[39;49;00m \u001b[34m200\u001b[39;49;00m \u001b[36mOK\u001b[39;49;00m\n",
      "\u001b[36mcontent-length\u001b[39;49;00m: 20\n",
      "\u001b[36mcontent-type\u001b[39;49;00m: application/json\n",
      "\u001b[36mdate\u001b[39;49;00m: Fri, 01 Jul 2022 11:52:44 GMT\n",
      "\u001b[36mserver\u001b[39;49;00m: uvicorn\n",
      "\n",
      "{\n",
      "    \u001b[34;01m\"page\"\u001b[39;49;00m: \u001b[34m5\u001b[39;49;00m,\n",
      "    \u001b[34;01m\"size\"\u001b[39;49;00m: \u001b[34m50\u001b[39;49;00m\n",
      "}\n",
      "\n"
     ]
    }
   ],
   "source": [
    "!http \"{LOCALHOST}/users?page=5&size=50\"\n"
   ]
  },
  {
   "cell_type": "code",
   "execution_count": null,
   "metadata": {},
   "outputs": [],
   "source": [
    "# Testing the endpoint with 1 required query parameters\n",
    "\n",
    "# !uvicorn chapter3_query_parameters_02:app \n"
   ]
  },
  {
   "cell_type": "code",
   "execution_count": 41,
   "metadata": {},
   "outputs": [
    {
     "name": "stdout",
     "output_type": "stream",
     "text": [
      "\u001b[34mHTTP\u001b[39;49;00m/\u001b[34m1.1\u001b[39;49;00m \u001b[34m422\u001b[39;49;00m \u001b[36mUnprocessable Entity\u001b[39;49;00m\n",
      "\u001b[36mcontent-length\u001b[39;49;00m: 91\n",
      "\u001b[36mcontent-type\u001b[39;49;00m: application/json\n",
      "\u001b[36mdate\u001b[39;49;00m: Fri, 01 Jul 2022 11:58:11 GMT\n",
      "\u001b[36mserver\u001b[39;49;00m: uvicorn\n",
      "\n",
      "{\n",
      "    \u001b[34;01m\"detail\"\u001b[39;49;00m: [\n",
      "        {\n",
      "            \u001b[34;01m\"loc\"\u001b[39;49;00m: [\n",
      "                \u001b[33m\"query\"\u001b[39;49;00m,\n",
      "                \u001b[33m\"format\"\u001b[39;49;00m\n",
      "            ],\n",
      "            \u001b[34;01m\"msg\"\u001b[39;49;00m: \u001b[33m\"field required\"\u001b[39;49;00m,\n",
      "            \u001b[34;01m\"type\"\u001b[39;49;00m: \u001b[33m\"value_error.missing\"\u001b[39;49;00m\n",
      "        }\n",
      "    ]\n",
      "}\n",
      "\n"
     ]
    }
   ],
   "source": [
    "!http \"{LOCALHOST}/users\" # Not passing a query parameter"
   ]
  },
  {
   "cell_type": "code",
   "execution_count": 42,
   "metadata": {},
   "outputs": [
    {
     "name": "stdout",
     "output_type": "stream",
     "text": [
      "\u001b[34mHTTP\u001b[39;49;00m/\u001b[34m1.1\u001b[39;49;00m \u001b[34m422\u001b[39;49;00m \u001b[36mUnprocessable Entity\u001b[39;49;00m\n",
      "\u001b[36mcontent-length\u001b[39;49;00m: 179\n",
      "\u001b[36mcontent-type\u001b[39;49;00m: application/json\n",
      "\u001b[36mdate\u001b[39;49;00m: Fri, 01 Jul 2022 12:01:41 GMT\n",
      "\u001b[36mserver\u001b[39;49;00m: uvicorn\n",
      "\n",
      "{\n",
      "    \u001b[34;01m\"detail\"\u001b[39;49;00m: [\n",
      "        {\n",
      "            \u001b[34;01m\"ctx\"\u001b[39;49;00m: {\n",
      "                \u001b[34;01m\"enum_values\"\u001b[39;49;00m: [\n",
      "                    \u001b[33m\"short\"\u001b[39;49;00m,\n",
      "                    \u001b[33m\"full\"\u001b[39;49;00m\n",
      "                ]\n",
      "            },\n",
      "            \u001b[34;01m\"loc\"\u001b[39;49;00m: [\n",
      "                \u001b[33m\"query\"\u001b[39;49;00m,\n",
      "                \u001b[33m\"format\"\u001b[39;49;00m\n",
      "            ],\n",
      "            \u001b[34;01m\"msg\"\u001b[39;49;00m: \u001b[33m\"value is not a valid enumeration member; permitted: 'short', 'full'\"\u001b[39;49;00m,\n",
      "            \u001b[34;01m\"type\"\u001b[39;49;00m: \u001b[33m\"type_error.enum\"\u001b[39;49;00m\n",
      "        }\n",
      "    ]\n",
      "}\n",
      "\n"
     ]
    }
   ],
   "source": [
    "!http \"{LOCALHOST}/users?format=blabla\" # Passing an invalid query parameter"
   ]
  },
  {
   "cell_type": "code",
   "execution_count": 43,
   "metadata": {},
   "outputs": [
    {
     "name": "stdout",
     "output_type": "stream",
     "text": [
      "\u001b[34mHTTP\u001b[39;49;00m/\u001b[34m1.1\u001b[39;49;00m \u001b[34m200\u001b[39;49;00m \u001b[36mOK\u001b[39;49;00m\n",
      "\u001b[36mcontent-length\u001b[39;49;00m: 17\n",
      "\u001b[36mcontent-type\u001b[39;49;00m: application/json\n",
      "\u001b[36mdate\u001b[39;49;00m: Fri, 01 Jul 2022 12:01:54 GMT\n",
      "\u001b[36mserver\u001b[39;49;00m: uvicorn\n",
      "\n",
      "{\n",
      "    \u001b[34;01m\"format\"\u001b[39;49;00m: \u001b[33m\"full\"\u001b[39;49;00m\n",
      "}\n",
      "\n"
     ]
    }
   ],
   "source": [
    "!http \"{LOCALHOST}/users?format=full\" # Passing a valid query parameter"
   ]
  },
  {
   "cell_type": "code",
   "execution_count": null,
   "metadata": {},
   "outputs": [],
   "source": [
    "# Testing the endpoint with advanced query validations\n",
    "\n",
    "# !uvicorn chapter3_query_parameters_03:app \n"
   ]
  },
  {
   "cell_type": "code",
   "execution_count": 45,
   "metadata": {},
   "outputs": [
    {
     "name": "stdout",
     "output_type": "stream",
     "text": [
      "\u001b[34mHTTP\u001b[39;49;00m/\u001b[34m1.1\u001b[39;49;00m \u001b[34m422\u001b[39;49;00m \u001b[36mUnprocessable Entity\u001b[39;49;00m\n",
      "\u001b[36mcontent-length\u001b[39;49;00m: 281\n",
      "\u001b[36mcontent-type\u001b[39;49;00m: application/json\n",
      "\u001b[36mdate\u001b[39;49;00m: Fri, 01 Jul 2022 12:05:20 GMT\n",
      "\u001b[36mserver\u001b[39;49;00m: uvicorn\n",
      "\n",
      "{\n",
      "    \u001b[34;01m\"detail\"\u001b[39;49;00m: [\n",
      "        {\n",
      "            \u001b[34;01m\"ctx\"\u001b[39;49;00m: {\n",
      "                \u001b[34;01m\"limit_value\"\u001b[39;49;00m: \u001b[34m0\u001b[39;49;00m\n",
      "            },\n",
      "            \u001b[34;01m\"loc\"\u001b[39;49;00m: [\n",
      "                \u001b[33m\"query\"\u001b[39;49;00m,\n",
      "                \u001b[33m\"page\"\u001b[39;49;00m\n",
      "            ],\n",
      "            \u001b[34;01m\"msg\"\u001b[39;49;00m: \u001b[33m\"ensure this value is greater than 0\"\u001b[39;49;00m,\n",
      "            \u001b[34;01m\"type\"\u001b[39;49;00m: \u001b[33m\"value_error.number.not_gt\"\u001b[39;49;00m\n",
      "        },\n",
      "        {\n",
      "            \u001b[34;01m\"ctx\"\u001b[39;49;00m: {\n",
      "                \u001b[34;01m\"limit_value\"\u001b[39;49;00m: \u001b[34m100\u001b[39;49;00m\n",
      "            },\n",
      "            \u001b[34;01m\"loc\"\u001b[39;49;00m: [\n",
      "                \u001b[33m\"query\"\u001b[39;49;00m,\n",
      "                \u001b[33m\"size\"\u001b[39;49;00m\n",
      "            ],\n",
      "            \u001b[34;01m\"msg\"\u001b[39;49;00m: \u001b[33m\"ensure this value is less than or equal to 100\"\u001b[39;49;00m,\n",
      "            \u001b[34;01m\"type\"\u001b[39;49;00m: \u001b[33m\"value_error.number.not_le\"\u001b[39;49;00m\n",
      "        }\n",
      "    ]\n",
      "}\n",
      "\n"
     ]
    }
   ],
   "source": [
    "!http \"{LOCALHOST}/users?page=-1&size=200\" # Passing invalid query parameters"
   ]
  },
  {
   "cell_type": "code",
   "execution_count": 48,
   "metadata": {},
   "outputs": [
    {
     "name": "stdout",
     "output_type": "stream",
     "text": [
      "\u001b[34mHTTP\u001b[39;49;00m/\u001b[34m1.1\u001b[39;49;00m \u001b[34m200\u001b[39;49;00m \u001b[36mOK\u001b[39;49;00m\n",
      "\u001b[36mcontent-length\u001b[39;49;00m: 20\n",
      "\u001b[36mcontent-type\u001b[39;49;00m: application/json\n",
      "\u001b[36mdate\u001b[39;49;00m: Fri, 01 Jul 2022 12:05:46 GMT\n",
      "\u001b[36mserver\u001b[39;49;00m: uvicorn\n",
      "\n",
      "{\n",
      "    \u001b[34;01m\"page\"\u001b[39;49;00m: \u001b[34m1\u001b[39;49;00m,\n",
      "    \u001b[34;01m\"size\"\u001b[39;49;00m: \u001b[34m99\u001b[39;49;00m\n",
      "}\n",
      "\n"
     ]
    }
   ],
   "source": [
    "!http \"{LOCALHOST}/users?page=1&size=99\" # Passing valid query parameters"
   ]
  },
  {
   "cell_type": "markdown",
   "metadata": {},
   "source": [
    "### The request body\n"
   ]
  },
  {
   "cell_type": "code",
   "execution_count": null,
   "metadata": {},
   "outputs": [],
   "source": [
    "# Testing the endpoint with a POST request, validating the request body\n",
    "# with FastAPI built-in validtors\n",
    "\n",
    "# !uvicorn chapter3_request_body_01:app "
   ]
  },
  {
   "cell_type": "code",
   "execution_count": 49,
   "metadata": {},
   "outputs": [
    {
     "name": "stdout",
     "output_type": "stream",
     "text": [
      "\u001b[32mPOST\u001b[39;49;00m \u001b[04m\u001b[36m/users\u001b[39;49;00m \u001b[34mHTTP\u001b[39;49;00m/\u001b[34m1.1\u001b[39;49;00m\n",
      "\u001b[36mAccept\u001b[39;49;00m: application/json, */*\n",
      "\u001b[36mAccept-Encoding\u001b[39;49;00m: gzip, deflate\n",
      "\u001b[36mConnection\u001b[39;49;00m: keep-alive\n",
      "\u001b[36mContent-Length\u001b[39;49;00m: 29\n",
      "\u001b[36mContent-Type\u001b[39;49;00m: application/json\n",
      "\u001b[36mHost\u001b[39;49;00m: localhost:8000\n",
      "\u001b[36mUser-Agent\u001b[39;49;00m: HTTPie/1.0.3\n",
      "\n",
      "{\n",
      "    \u001b[34;01m\"age\"\u001b[39;49;00m: \u001b[33m\"30\"\u001b[39;49;00m,\n",
      "    \u001b[34;01m\"name\"\u001b[39;49;00m: \u001b[33m\"John\"\u001b[39;49;00m\n",
      "}\n",
      "\n",
      "\u001b[34mHTTP\u001b[39;49;00m/\u001b[34m1.1\u001b[39;49;00m \u001b[34m200\u001b[39;49;00m \u001b[36mOK\u001b[39;49;00m\n",
      "\u001b[36mcontent-length\u001b[39;49;00m: 24\n",
      "\u001b[36mcontent-type\u001b[39;49;00m: application/json\n",
      "\u001b[36mdate\u001b[39;49;00m: Fri, 01 Jul 2022 12:09:42 GMT\n",
      "\u001b[36mserver\u001b[39;49;00m: uvicorn\n",
      "\n",
      "{\n",
      "    \u001b[34;01m\"age\"\u001b[39;49;00m: \u001b[34m30\u001b[39;49;00m,\n",
      "    \u001b[34;01m\"name\"\u001b[39;49;00m: \u001b[33m\"John\"\u001b[39;49;00m\n",
      "}\n",
      "\n"
     ]
    }
   ],
   "source": [
    "!http -v POST {LOCALHOST}/users name=\"John\" age=30\n"
   ]
  },
  {
   "cell_type": "code",
   "execution_count": null,
   "metadata": {},
   "outputs": [],
   "source": [
    "# Testing the endpoint with a POST request, validating the request body\n",
    "# with custom pydantic models\n",
    "\n",
    "# !uvicorn chapter3_request_body_02:app "
   ]
  },
  {
   "cell_type": "code",
   "execution_count": 54,
   "metadata": {},
   "outputs": [
    {
     "name": "stdout",
     "output_type": "stream",
     "text": [
      "\u001b[32mPOST\u001b[39;49;00m \u001b[04m\u001b[36m/users\u001b[39;49;00m \u001b[34mHTTP\u001b[39;49;00m/\u001b[34m1.1\u001b[39;49;00m\n",
      "\u001b[36mAccept\u001b[39;49;00m: application/json, */*\n",
      "\u001b[36mAccept-Encoding\u001b[39;49;00m: gzip, deflate\n",
      "\u001b[36mConnection\u001b[39;49;00m: keep-alive\n",
      "\u001b[36mContent-Length\u001b[39;49;00m: 33\n",
      "\u001b[36mContent-Type\u001b[39;49;00m: application/json\n",
      "\u001b[36mHost\u001b[39;49;00m: localhost:8000\n",
      "\u001b[36mUser-Agent\u001b[39;49;00m: HTTPie/1.0.3\n",
      "\n",
      "{\n",
      "    \u001b[34;01m\"age\"\u001b[39;49;00m: \u001b[33m\"thirty\"\u001b[39;49;00m,\n",
      "    \u001b[34;01m\"name\"\u001b[39;49;00m: \u001b[33m\"John\"\u001b[39;49;00m\n",
      "}\n",
      "\n",
      "\u001b[34mHTTP\u001b[39;49;00m/\u001b[34m1.1\u001b[39;49;00m \u001b[34m422\u001b[39;49;00m \u001b[36mUnprocessable Entity\u001b[39;49;00m\n",
      "\u001b[36mcontent-length\u001b[39;49;00m: 100\n",
      "\u001b[36mcontent-type\u001b[39;49;00m: application/json\n",
      "\u001b[36mdate\u001b[39;49;00m: Fri, 01 Jul 2022 12:17:34 GMT\n",
      "\u001b[36mserver\u001b[39;49;00m: uvicorn\n",
      "\n",
      "{\n",
      "    \u001b[34;01m\"detail\"\u001b[39;49;00m: [\n",
      "        {\n",
      "            \u001b[34;01m\"loc\"\u001b[39;49;00m: [\n",
      "                \u001b[33m\"body\"\u001b[39;49;00m,\n",
      "                \u001b[33m\"age\"\u001b[39;49;00m\n",
      "            ],\n",
      "            \u001b[34;01m\"msg\"\u001b[39;49;00m: \u001b[33m\"value is not a valid integer\"\u001b[39;49;00m,\n",
      "            \u001b[34;01m\"type\"\u001b[39;49;00m: \u001b[33m\"type_error.integer\"\u001b[39;49;00m\n",
      "        }\n",
      "    ]\n",
      "}\n",
      "\n"
     ]
    }
   ],
   "source": [
    "!http -v POST {LOCALHOST}/users name=\"John\" age=\"thirty\" # Pasing invalid body parameters\n"
   ]
  },
  {
   "cell_type": "code",
   "execution_count": 53,
   "metadata": {},
   "outputs": [
    {
     "name": "stdout",
     "output_type": "stream",
     "text": [
      "\u001b[32mPOST\u001b[39;49;00m \u001b[04m\u001b[36m/users\u001b[39;49;00m \u001b[34mHTTP\u001b[39;49;00m/\u001b[34m1.1\u001b[39;49;00m\n",
      "\u001b[36mAccept\u001b[39;49;00m: application/json, */*\n",
      "\u001b[36mAccept-Encoding\u001b[39;49;00m: gzip, deflate\n",
      "\u001b[36mConnection\u001b[39;49;00m: keep-alive\n",
      "\u001b[36mContent-Length\u001b[39;49;00m: 29\n",
      "\u001b[36mContent-Type\u001b[39;49;00m: application/json\n",
      "\u001b[36mHost\u001b[39;49;00m: localhost:8000\n",
      "\u001b[36mUser-Agent\u001b[39;49;00m: HTTPie/1.0.3\n",
      "\n",
      "{\n",
      "    \u001b[34;01m\"age\"\u001b[39;49;00m: \u001b[33m\"30\"\u001b[39;49;00m,\n",
      "    \u001b[34;01m\"name\"\u001b[39;49;00m: \u001b[33m\"John\"\u001b[39;49;00m\n",
      "}\n",
      "\n",
      "\u001b[34mHTTP\u001b[39;49;00m/\u001b[34m1.1\u001b[39;49;00m \u001b[34m200\u001b[39;49;00m \u001b[36mOK\u001b[39;49;00m\n",
      "\u001b[36mcontent-length\u001b[39;49;00m: 24\n",
      "\u001b[36mcontent-type\u001b[39;49;00m: application/json\n",
      "\u001b[36mdate\u001b[39;49;00m: Fri, 01 Jul 2022 12:17:25 GMT\n",
      "\u001b[36mserver\u001b[39;49;00m: uvicorn\n",
      "\n",
      "{\n",
      "    \u001b[34;01m\"age\"\u001b[39;49;00m: \u001b[34m30\u001b[39;49;00m,\n",
      "    \u001b[34;01m\"name\"\u001b[39;49;00m: \u001b[33m\"John\"\u001b[39;49;00m\n",
      "}\n",
      "\n"
     ]
    }
   ],
   "source": [
    "!http -v POST {LOCALHOST}/users name=\"John\" age=30 # Pasing valid body parameters"
   ]
  },
  {
   "cell_type": "code",
   "execution_count": 55,
   "metadata": {},
   "outputs": [],
   "source": [
    "# Testing the endpoint with a POST request, validating multiple body objects\n",
    "\n",
    "# !uvicorn chapter3_request_body_03:app \n"
   ]
  },
  {
   "cell_type": "code",
   "execution_count": 78,
   "metadata": {},
   "outputs": [
    {
     "name": "stdout",
     "output_type": "stream",
     "text": [
      "\u001b[34mHTTP\u001b[39;49;00m/\u001b[34m1.1\u001b[39;49;00m \u001b[34m200\u001b[39;49;00m \u001b[36mOK\u001b[39;49;00m\n",
      "\u001b[36mcontent-length\u001b[39;49;00m: 59\n",
      "\u001b[36mcontent-type\u001b[39;49;00m: application/json\n",
      "\u001b[36mdate\u001b[39;49;00m: Fri, 01 Jul 2022 12:43:14 GMT\n",
      "\u001b[36mserver\u001b[39;49;00m: uvicorn\n",
      "\n",
      "{\n",
      "    \u001b[34;01m\"company\"\u001b[39;49;00m: {\n",
      "        \u001b[34;01m\"name\"\u001b[39;49;00m: \u001b[33m\"ACME\"\u001b[39;49;00m\n",
      "    },\n",
      "    \u001b[34;01m\"user\"\u001b[39;49;00m: {\n",
      "        \u001b[34;01m\"age\"\u001b[39;49;00m: \u001b[34m30\u001b[39;49;00m,\n",
      "        \u001b[34;01m\"name\"\u001b[39;49;00m: \u001b[33m\"John\"\u001b[39;49;00m\n",
      "    }\n",
      "}\n",
      "\n"
     ]
    }
   ],
   "source": [
    "!echo '{\"user\": {\"name\": \"John\", \"age\": 30}, \"company\": {\"name\": \"ACME\"}}' | http POST http://localhost:8000/users\n"
   ]
  },
  {
   "cell_type": "code",
   "execution_count": 80,
   "metadata": {},
   "outputs": [],
   "source": [
    "# Testing the endpoint with a POST request, using both built-in and custom validators\n",
    "\n",
    "# !uvicorn chapter3_request_body_04:app \n"
   ]
  },
  {
   "cell_type": "code",
   "execution_count": 81,
   "metadata": {},
   "outputs": [
    {
     "name": "stdout",
     "output_type": "stream",
     "text": [
      "\u001b[34mHTTP\u001b[39;49;00m/\u001b[34m1.1\u001b[39;49;00m \u001b[34m200\u001b[39;49;00m \u001b[36mOK\u001b[39;49;00m\n",
      "\u001b[36mcontent-length\u001b[39;49;00m: 46\n",
      "\u001b[36mcontent-type\u001b[39;49;00m: application/json\n",
      "\u001b[36mdate\u001b[39;49;00m: Fri, 01 Jul 2022 12:45:43 GMT\n",
      "\u001b[36mserver\u001b[39;49;00m: uvicorn\n",
      "\n",
      "{\n",
      "    \u001b[34;01m\"priority\"\u001b[39;49;00m: \u001b[34m1\u001b[39;49;00m,\n",
      "    \u001b[34;01m\"user\"\u001b[39;49;00m: {\n",
      "        \u001b[34;01m\"age\"\u001b[39;49;00m: \u001b[34m30\u001b[39;49;00m,\n",
      "        \u001b[34;01m\"name\"\u001b[39;49;00m: \u001b[33m\"John\"\u001b[39;49;00m\n",
      "    }\n",
      "}\n",
      "\n"
     ]
    }
   ],
   "source": [
    "!echo '{\"user\": {\"name\": \"John\", \"age\": 30}, \"priority\": 1}' | http POST http://localhost:8000/users"
   ]
  },
  {
   "cell_type": "markdown",
   "metadata": {},
   "source": [
    "### Form data and file uploads\n"
   ]
  },
  {
   "cell_type": "code",
   "execution_count": 82,
   "metadata": {},
   "outputs": [],
   "source": [
    "# Testing the endpoint with a POST request, validating form data\n",
    "\n",
    "# !uvicorn chapter3_form_data_01:app \n"
   ]
  },
  {
   "cell_type": "code",
   "execution_count": 83,
   "metadata": {},
   "outputs": [
    {
     "name": "stdout",
     "output_type": "stream",
     "text": [
      "\u001b[32mPOST\u001b[39;49;00m \u001b[04m\u001b[36m/users\u001b[39;49;00m \u001b[34mHTTP\u001b[39;49;00m/\u001b[34m1.1\u001b[39;49;00m\n",
      "\u001b[36mAccept\u001b[39;49;00m: */*\n",
      "\u001b[36mAccept-Encoding\u001b[39;49;00m: gzip, deflate\n",
      "\u001b[36mConnection\u001b[39;49;00m: keep-alive\n",
      "\u001b[36mContent-Length\u001b[39;49;00m: 16\n",
      "\u001b[36mContent-Type\u001b[39;49;00m: application/x-www-form-urlencoded; charset=utf-8\n",
      "\u001b[36mHost\u001b[39;49;00m: localhost:8000\n",
      "\u001b[36mUser-Agent\u001b[39;49;00m: HTTPie/1.0.3\n",
      "\n",
      "name=John&age=30\n",
      "\n",
      "\u001b[34mHTTP\u001b[39;49;00m/\u001b[34m1.1\u001b[39;49;00m \u001b[34m200\u001b[39;49;00m \u001b[36mOK\u001b[39;49;00m\n",
      "\u001b[36mcontent-length\u001b[39;49;00m: 24\n",
      "\u001b[36mcontent-type\u001b[39;49;00m: application/json\n",
      "\u001b[36mdate\u001b[39;49;00m: Fri, 01 Jul 2022 12:53:27 GMT\n",
      "\u001b[36mserver\u001b[39;49;00m: uvicorn\n",
      "\n",
      "{\n",
      "    \u001b[34;01m\"age\"\u001b[39;49;00m: \u001b[34m30\u001b[39;49;00m,\n",
      "    \u001b[34;01m\"name\"\u001b[39;49;00m: \u001b[33m\"John\"\u001b[39;49;00m\n",
      "}\n",
      "\n"
     ]
    }
   ],
   "source": [
    "!http -v --form POST {LOCALHOST}/users name=John age=30 \n"
   ]
  },
  {
   "cell_type": "code",
   "execution_count": 99,
   "metadata": {},
   "outputs": [],
   "source": [
    "# Testing the endpoint with a POST request, validating a small file upload\n",
    "\n",
    "# !uvicorn chapter3_file_uploads_01:app \n"
   ]
  },
  {
   "cell_type": "code",
   "execution_count": 98,
   "metadata": {},
   "outputs": [
    {
     "name": "stdout",
     "output_type": "stream",
     "text": [
      "\u001b[34mHTTP\u001b[39;49;00m/\u001b[34m1.1\u001b[39;49;00m \u001b[34m200\u001b[39;49;00m \u001b[36mOK\u001b[39;49;00m\n",
      "\u001b[36mcontent-length\u001b[39;49;00m: 19\n",
      "\u001b[36mcontent-type\u001b[39;49;00m: application/json\n",
      "\u001b[36mdate\u001b[39;49;00m: Fri, 01 Jul 2022 13:03:03 GMT\n",
      "\u001b[36mserver\u001b[39;49;00m: uvicorn\n",
      "\n",
      "{\n",
      "    \u001b[34;01m\"file_size\"\u001b[39;49;00m: \u001b[34m71457\u001b[39;49;00m\n",
      "}\n",
      "\n"
     ]
    }
   ],
   "source": [
    "!http --form POST {LOCALHOST}/files file@../assets/cat.jpg\n"
   ]
  },
  {
   "cell_type": "code",
   "execution_count": null,
   "metadata": {},
   "outputs": [],
   "source": [
    "# Testing the endpoint with a POST request, validating a large file that may not fit in memory\n",
    "\n",
    "# !uvicorn chapter3_file_uploads_02:app \n"
   ]
  },
  {
   "cell_type": "code",
   "execution_count": 100,
   "metadata": {},
   "outputs": [
    {
     "name": "stdout",
     "output_type": "stream",
     "text": [
      "\u001b[34mHTTP\u001b[39;49;00m/\u001b[34m1.1\u001b[39;49;00m \u001b[34m200\u001b[39;49;00m \u001b[36mOK\u001b[39;49;00m\n",
      "\u001b[36mcontent-length\u001b[39;49;00m: 51\n",
      "\u001b[36mcontent-type\u001b[39;49;00m: application/json\n",
      "\u001b[36mdate\u001b[39;49;00m: Fri, 01 Jul 2022 13:06:36 GMT\n",
      "\u001b[36mserver\u001b[39;49;00m: uvicorn\n",
      "\n",
      "{\n",
      "    \u001b[34;01m\"content_type\"\u001b[39;49;00m: \u001b[33m\"image/jpeg\"\u001b[39;49;00m,\n",
      "    \u001b[34;01m\"file_name\"\u001b[39;49;00m: \u001b[33m\"cat.jpg\"\u001b[39;49;00m\n",
      "}\n",
      "\n"
     ]
    }
   ],
   "source": [
    "!http --form POST {LOCALHOST}/files file@../assets/cat.jpg\n"
   ]
  },
  {
   "cell_type": "code",
   "execution_count": null,
   "metadata": {},
   "outputs": [],
   "source": [
    "# Testing the endpoint with a POST request, validating a list of large files\n",
    "\n",
    "# !uvicorn chapter3_file_uploads_03:app \n"
   ]
  },
  {
   "cell_type": "code",
   "execution_count": 102,
   "metadata": {},
   "outputs": [
    {
     "name": "stdout",
     "output_type": "stream",
     "text": [
      "\u001b[34mHTTP\u001b[39;49;00m/\u001b[34m1.1\u001b[39;49;00m \u001b[34m200\u001b[39;49;00m \u001b[36mOK\u001b[39;49;00m\n",
      "\u001b[36mcontent-length\u001b[39;49;00m: 108\n",
      "\u001b[36mcontent-type\u001b[39;49;00m: application/json\n",
      "\u001b[36mdate\u001b[39;49;00m: Fri, 01 Jul 2022 13:09:05 GMT\n",
      "\u001b[36mserver\u001b[39;49;00m: uvicorn\n",
      "\n",
      "[\n",
      "    {\n",
      "        \u001b[34;01m\"content_type\"\u001b[39;49;00m: \u001b[33m\"image/jpeg\"\u001b[39;49;00m,\n",
      "        \u001b[34;01m\"file_name\"\u001b[39;49;00m: \u001b[33m\"cat.jpg\"\u001b[39;49;00m\n",
      "    },\n",
      "    {\n",
      "        \u001b[34;01m\"content_type\"\u001b[39;49;00m: \u001b[33m\"image/jpeg\"\u001b[39;49;00m,\n",
      "        \u001b[34;01m\"file_name\"\u001b[39;49;00m: \u001b[33m\"people.jpg\"\u001b[39;49;00m\n",
      "    }\n",
      "]\n",
      "\n"
     ]
    }
   ],
   "source": [
    "!http --form POST {LOCALHOST}/files files@../assets/cat.jpg files@../assets/people.jpg\n"
   ]
  }
 ],
 "metadata": {
  "kernelspec": {
   "display_name": "Python 3.9.5 ('env': venv)",
   "language": "python",
   "name": "python3"
  },
  "language_info": {
   "codemirror_mode": {
    "name": "ipython",
    "version": 3
   },
   "file_extension": ".py",
   "mimetype": "text/x-python",
   "name": "python",
   "nbconvert_exporter": "python",
   "pygments_lexer": "ipython3",
   "version": "3.9.5"
  },
  "orig_nbformat": 4,
  "vscode": {
   "interpreter": {
    "hash": "26906a448a6233c473a71b447ecae08937ff62febfad6ab86171a9b0b8064292"
   }
  }
 },
 "nbformat": 4,
 "nbformat_minor": 2
}
