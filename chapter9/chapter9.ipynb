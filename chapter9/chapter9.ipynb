{
 "cells": [
  {
   "cell_type": "markdown",
   "metadata": {},
   "source": [
    "# Testing an API Asynchronously with pytest and HTTPX"
   ]
  },
  {
   "cell_type": "code",
   "execution_count": 1,
   "metadata": {},
   "outputs": [
    {
     "name": "stdout",
     "output_type": "stream",
     "text": [
      "/home/william/github/will-i-amv-books/Building-Data-Science-Applications-with-FastAPI\n"
     ]
    }
   ],
   "source": [
    "# Move to the parent dir before starting the tests\n",
    "%cd .."
   ]
  },
  {
   "cell_type": "code",
   "execution_count": 4,
   "metadata": {},
   "outputs": [
    {
     "data": {
      "text/plain": [
       "'\\n!uvicorn chapter9.FILE_NAME:app\\n'"
      ]
     },
     "execution_count": 4,
     "metadata": {},
     "output_type": "execute_result"
    }
   ],
   "source": [
    "# Before the tests, start the uvicorn server as  follows\n",
    "\n",
    "\"\"\"\n",
    "!uvicorn chapter9.FILE_NAME:app\n",
    "\"\"\"\n"
   ]
  },
  {
   "cell_type": "markdown",
   "metadata": {},
   "source": [
    "Testing a trivial function"
   ]
  },
  {
   "cell_type": "code",
   "execution_count": 2,
   "metadata": {},
   "outputs": [
    {
     "name": "stdout",
     "output_type": "stream",
     "text": [
      ".\n",
      "----------------------------------------------------------------------\n",
      "Ran 1 test in 0.000s\n",
      "\n",
      "OK\n"
     ]
    }
   ],
   "source": [
    "# With unittest\n",
    "\n",
    "!python -m unittest chapter9.chapter9_introduction_test.TestChapter9Introduction\n"
   ]
  },
  {
   "cell_type": "code",
   "execution_count": 3,
   "metadata": {},
   "outputs": [
    {
     "name": "stdout",
     "output_type": "stream",
     "text": [
      "\u001b[1m============================= test session starts ==============================\u001b[0m\n",
      "platform linux -- Python 3.9.5, pytest-7.1.2, pluggy-1.0.0\n",
      "rootdir: /home/william/github/will-i-amv-books/Building-Data-Science-Applications-with-FastAPI, configfile: setup.cfg\n",
      "plugins: cov-3.0.0, mock-3.8.1, asyncio-0.18.3, unordered-0.4.1, anyio-3.6.1\n",
      "asyncio: mode=legacy\n",
      "collected 1 item                                                               \u001b[0m\n",
      "\n",
      "chapter9/chapter9_introduction_test.py \u001b[32m.\u001b[0m\u001b[33m                                 [100%]\u001b[0m\n",
      "\n",
      "\u001b[33m========================= \u001b[32m1 passed\u001b[0m, \u001b[33m\u001b[1m1 warning\u001b[0m\u001b[33m in 0.02s\u001b[0m\u001b[33m =========================\u001b[0m\n"
     ]
    }
   ],
   "source": [
    "# With pytest\n",
    "\n",
    "!pytest --disable-warnings chapter9/chapter9_introduction_test.py::test_add\n",
    "\n"
   ]
  },
  {
   "cell_type": "markdown",
   "metadata": {},
   "source": [
    "Using a test function with predefined parameters"
   ]
  },
  {
   "cell_type": "code",
   "execution_count": 4,
   "metadata": {},
   "outputs": [
    {
     "name": "stdout",
     "output_type": "stream",
     "text": [
      "\u001b[1m============================= test session starts ==============================\u001b[0m\n",
      "platform linux -- Python 3.9.5, pytest-7.1.2, pluggy-1.0.0\n",
      "rootdir: /home/william/github/will-i-amv-books/Building-Data-Science-Applications-with-FastAPI, configfile: setup.cfg\n",
      "plugins: cov-3.0.0, mock-3.8.1, asyncio-0.18.3, unordered-0.4.1, anyio-3.6.1\n",
      "asyncio: mode=legacy\n",
      "collected 4 items                                                              \u001b[0m\n",
      "\n",
      "chapter9/chapter9_introduction_pytest_parametrize.py \u001b[32m.\u001b[0m\u001b[32m.\u001b[0m\u001b[32m.\u001b[0m\u001b[32m.\u001b[0m\u001b[33m                [100%]\u001b[0m\n",
      "\n",
      "\u001b[33m========================= \u001b[32m4 passed\u001b[0m, \u001b[33m\u001b[1m1 warning\u001b[0m\u001b[33m in 0.02s\u001b[0m\u001b[33m =========================\u001b[0m\n"
     ]
    }
   ],
   "source": [
    "!pytest --disable-warnings chapter9/chapter9_introduction_pytest_parametrize.py::test_add"
   ]
  },
  {
   "cell_type": "markdown",
   "metadata": {},
   "source": [
    "Using a test function with pytest fuxtures"
   ]
  },
  {
   "cell_type": "code",
   "execution_count": 6,
   "metadata": {},
   "outputs": [
    {
     "name": "stdout",
     "output_type": "stream",
     "text": [
      "\u001b[1m============================= test session starts ==============================\u001b[0m\n",
      "platform linux -- Python 3.9.5, pytest-7.1.2, pluggy-1.0.0\n",
      "rootdir: /home/william/github/will-i-amv-books/Building-Data-Science-Applications-with-FastAPI, configfile: setup.cfg\n",
      "plugins: cov-3.0.0, mock-3.8.1, asyncio-0.18.3, unordered-0.4.1, anyio-3.6.1\n",
      "asyncio: mode=legacy\n",
      "collected 3 items                                                              \u001b[0m\n",
      "\n",
      "chapter9/chapter9_introduction_fixtures_test.py \u001b[32m.\u001b[0m\u001b[32m.\u001b[0m\u001b[32m.\u001b[0m\u001b[33m                      [100%]\u001b[0m\n",
      "\n",
      "\u001b[33m========================= \u001b[32m3 passed\u001b[0m, \u001b[33m\u001b[1m1 warning\u001b[0m\u001b[33m in 0.07s\u001b[0m\u001b[33m =========================\u001b[0m\n"
     ]
    }
   ],
   "source": [
    "!pytest --disable-warnings chapter9/chapter9_introduction_fixtures_test.py\n"
   ]
  },
  {
   "cell_type": "markdown",
   "metadata": {},
   "source": [
    "Testing a simple FastAPI GET endpoint"
   ]
  },
  {
   "cell_type": "code",
   "execution_count": 7,
   "metadata": {},
   "outputs": [
    {
     "name": "stdout",
     "output_type": "stream",
     "text": [
      "\u001b[1m============================= test session starts ==============================\u001b[0m\n",
      "platform linux -- Python 3.9.5, pytest-7.1.2, pluggy-1.0.0\n",
      "rootdir: /home/william/github/will-i-amv-books/Building-Data-Science-Applications-with-FastAPI, configfile: setup.cfg\n",
      "plugins: cov-3.0.0, mock-3.8.1, asyncio-0.18.3, unordered-0.4.1, anyio-3.6.1\n",
      "asyncio: mode=legacy\n",
      "collected 1 item                                                               \u001b[0m\u001b[1m\n",
      "\n",
      "chapter9/chapter9_app_test.py \u001b[32m.\u001b[0m\u001b[33m                                          [100%]\u001b[0m\n",
      "\n",
      "\u001b[33m========================= \u001b[32m1 passed\u001b[0m, \u001b[33m\u001b[1m1 warning\u001b[0m\u001b[33m in 0.71s\u001b[0m\u001b[33m =========================\u001b[0m\n"
     ]
    }
   ],
   "source": [
    "!pytest --disable-warnings chapter9/chapter9_app_test.py\n"
   ]
  },
  {
   "cell_type": "markdown",
   "metadata": {},
   "source": [
    "Testing a simple FastAPI POST endpoint"
   ]
  },
  {
   "cell_type": "code",
   "execution_count": 8,
   "metadata": {},
   "outputs": [
    {
     "name": "stdout",
     "output_type": "stream",
     "text": [
      "\u001b[1m============================= test session starts ==============================\u001b[0m\n",
      "platform linux -- Python 3.9.5, pytest-7.1.2, pluggy-1.0.0\n",
      "rootdir: /home/william/github/will-i-amv-books/Building-Data-Science-Applications-with-FastAPI, configfile: setup.cfg\n",
      "plugins: cov-3.0.0, mock-3.8.1, asyncio-0.18.3, unordered-0.4.1, anyio-3.6.1\n",
      "asyncio: mode=legacy\n",
      "collected 2 items                                                              \u001b[0m\u001b[1m\n",
      "\n",
      "chapter9/chapter9_app_post_test.py \u001b[32m.\u001b[0m\u001b[32m.\u001b[0m\u001b[33m                                    [100%]\u001b[0m\n",
      "\n",
      "\u001b[33m========================= \u001b[32m2 passed\u001b[0m, \u001b[33m\u001b[1m1 warning\u001b[0m\u001b[33m in 0.61s\u001b[0m\u001b[33m =========================\u001b[0m\n"
     ]
    }
   ],
   "source": [
    "!pytest --disable-warnings chapter9/chapter9_app_post_test.py\n"
   ]
  },
  {
   "cell_type": "markdown",
   "metadata": {},
   "source": [
    "Testing a connection with MongoDB"
   ]
  },
  {
   "cell_type": "code",
   "execution_count": null,
   "metadata": {},
   "outputs": [],
   "source": [
    "# For this test, start MongoDB in another CLI\n",
    "\n",
    "\"\"\"\n",
    "!mongod\n",
    "\"\"\""
   ]
  },
  {
   "cell_type": "code",
   "execution_count": 9,
   "metadata": {},
   "outputs": [
    {
     "name": "stdout",
     "output_type": "stream",
     "text": [
      "\u001b[1m============================= test session starts ==============================\u001b[0m\n",
      "platform linux -- Python 3.9.5, pytest-7.1.2, pluggy-1.0.0\n",
      "rootdir: /home/william/github/will-i-amv-books/Building-Data-Science-Applications-with-FastAPI, configfile: setup.cfg\n",
      "plugins: cov-3.0.0, mock-3.8.1, asyncio-0.18.3, unordered-0.4.1, anyio-3.6.1\n",
      "asyncio: mode=legacy\n",
      "collected 4 items                                                              \u001b[0m\u001b[1m\n",
      "\n",
      "chapter9/chapter9_db_test.py \u001b[32m.\u001b[0m\u001b[32m.\u001b[0m\u001b[32m.\u001b[0m\u001b[32m.\u001b[0m\u001b[33m                                        [100%]\u001b[0m\n",
      "\n",
      "\u001b[33m========================= \u001b[32m4 passed\u001b[0m, \u001b[33m\u001b[1m1 warning\u001b[0m\u001b[33m in 0.87s\u001b[0m\u001b[33m =========================\u001b[0m\n"
     ]
    }
   ],
   "source": [
    "# Then run the tests as follows\n",
    "\n",
    "!pytest --disable-warnings chapter9/chapter9_db_test.py\n"
   ]
  },
  {
   "cell_type": "markdown",
   "metadata": {},
   "source": [
    "Testing a connection with an external API"
   ]
  },
  {
   "cell_type": "code",
   "execution_count": 12,
   "metadata": {},
   "outputs": [
    {
     "name": "stdout",
     "output_type": "stream",
     "text": [
      "\u001b[1m============================= test session starts ==============================\u001b[0m\n",
      "platform linux -- Python 3.9.5, pytest-7.1.2, pluggy-1.0.0\n",
      "rootdir: /home/william/github/will-i-amv-books/Building-Data-Science-Applications-with-FastAPI, configfile: setup.cfg\n",
      "plugins: cov-3.0.0, mock-3.8.1, asyncio-0.18.3, unordered-0.4.1, anyio-3.6.1\n",
      "asyncio: mode=legacy\n",
      "collected 0 items                                                              \u001b[0m\n",
      "\n",
      "\u001b[33m============================== \u001b[33m\u001b[1m1 warning\u001b[0m\u001b[33m in 0.01s\u001b[0m\u001b[33m ==============================\u001b[0m\n",
      "\u001b[31mERROR: file or directory not found: chapter9/chapter9_external_api_test.py\n",
      "\u001b[0m\n"
     ]
    }
   ],
   "source": [
    "!pytest --disable-warnings chapter9/chapter9_external_api_test.py\n"
   ]
  },
  {
   "cell_type": "markdown",
   "metadata": {},
   "source": [
    "Testing a websocket"
   ]
  },
  {
   "cell_type": "code",
   "execution_count": 5,
   "metadata": {},
   "outputs": [
    {
     "name": "stdout",
     "output_type": "stream",
     "text": [
      "\u001b[1m============================= test session starts ==============================\u001b[0m\n",
      "platform linux -- Python 3.9.5, pytest-7.1.2, pluggy-1.0.0\n",
      "rootdir: /home/william/github/will-i-amv-books/Building-Data-Science-Applications-with-FastAPI, configfile: setup.cfg\n",
      "plugins: cov-3.0.0, mock-3.8.1, asyncio-0.18.3, unordered-0.4.1, anyio-3.6.1\n",
      "asyncio: mode=legacy\n",
      "collected 1 item                                                               \u001b[0m\u001b[1m\n",
      "\n",
      "chapter9/chapter9_websocket_test.py \u001b[32m.\u001b[0m\u001b[33m                                    [100%]\u001b[0m\n",
      "\n",
      "\u001b[33m========================= \u001b[32m1 passed\u001b[0m, \u001b[33m\u001b[1m1 warning\u001b[0m\u001b[33m in 0.63s\u001b[0m\u001b[33m =========================\u001b[0m\n"
     ]
    }
   ],
   "source": [
    "!pytest --disable-warnings chapter9/chapter9_websocket_test.py\n"
   ]
  }
 ],
 "metadata": {
  "kernelspec": {
   "display_name": "Python 3.9.5 ('env': venv)",
   "language": "python",
   "name": "python3"
  },
  "language_info": {
   "codemirror_mode": {
    "name": "ipython",
    "version": 3
   },
   "file_extension": ".py",
   "mimetype": "text/x-python",
   "name": "python",
   "nbconvert_exporter": "python",
   "pygments_lexer": "ipython3",
   "version": "3.9.5"
  },
  "orig_nbformat": 4,
  "vscode": {
   "interpreter": {
    "hash": "26906a448a6233c473a71b447ecae08937ff62febfad6ab86171a9b0b8064292"
   }
  }
 },
 "nbformat": 4,
 "nbformat_minor": 2
}
