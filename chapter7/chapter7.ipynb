{
 "cells": [
  {
   "cell_type": "markdown",
   "metadata": {},
   "source": [
    "# Managing Authentication and Security in FastAPI"
   ]
  },
  {
   "cell_type": "code",
   "execution_count": 4,
   "metadata": {},
   "outputs": [],
   "source": [
    "LOCALHOST = \"http://localhost:8000\""
   ]
  },
  {
   "cell_type": "markdown",
   "metadata": {},
   "source": [
    "### Test the app with basic authentication\n"
   ]
  },
  {
   "cell_type": "code",
   "execution_count": 5,
   "metadata": {},
   "outputs": [
    {
     "data": {
      "text/plain": [
       "'\\n!uvicorn app:app\\n'"
      ]
     },
     "execution_count": 5,
     "metadata": {},
     "output_type": "execute_result"
    }
   ],
   "source": [
    "# Start the uvicorn server in the root directory of the app 'authentication_app', as follows\n",
    "\n",
    "\"\"\"\n",
    "!uvicorn app:app\n",
    "\"\"\"\n"
   ]
  },
  {
   "cell_type": "code",
   "execution_count": 6,
   "metadata": {},
   "outputs": [
    {
     "name": "stdout",
     "output_type": "stream",
     "text": [
      "\u001b[34mHTTP\u001b[39;49;00m/\u001b[34m1.1\u001b[39;49;00m \u001b[34m201\u001b[39;49;00m \u001b[36mCreated\u001b[39;49;00m\n",
      "\u001b[36mcontent-length\u001b[39;49;00m: 36\n",
      "\u001b[36mcontent-type\u001b[39;49;00m: application/json\n",
      "\u001b[36mdate\u001b[39;49;00m: Sat, 09 Jul 2022 14:22:00 GMT\n",
      "\u001b[36mserver\u001b[39;49;00m: uvicorn\n",
      "\n",
      "{\n",
      "    \u001b[34;01m\"email\"\u001b[39;49;00m: \u001b[33m\"user1@example.org\"\u001b[39;49;00m,\n",
      "    \u001b[34;01m\"id\"\u001b[39;49;00m: \u001b[34m1\u001b[39;49;00m\n",
      "}\n",
      "\n"
     ]
    }
   ],
   "source": [
    "# Register the user's credentials\n",
    "\n",
    "!http POST \"{LOCALHOST}/register\" email=\"user1@example.org\" password=\"pAssw0rd1\"\n"
   ]
  },
  {
   "cell_type": "code",
   "execution_count": 7,
   "metadata": {},
   "outputs": [
    {
     "name": "stdout",
     "output_type": "stream",
     "text": [
      "\u001b[34mHTTP\u001b[39;49;00m/\u001b[34m1.1\u001b[39;49;00m \u001b[34m400\u001b[39;49;00m \u001b[36mBad Request\u001b[39;49;00m\n",
      "\u001b[36mcontent-length\u001b[39;49;00m: 33\n",
      "\u001b[36mcontent-type\u001b[39;49;00m: application/json\n",
      "\u001b[36mdate\u001b[39;49;00m: Sat, 09 Jul 2022 14:22:50 GMT\n",
      "\u001b[36mserver\u001b[39;49;00m: uvicorn\n",
      "\n",
      "{\n",
      "    \u001b[34;01m\"detail\"\u001b[39;49;00m: \u001b[33m\"Email already exists\"\u001b[39;49;00m\n",
      "}\n",
      "\n"
     ]
    }
   ],
   "source": [
    "# Trying to register the same user's credentials again\n",
    "\n",
    "!http POST \"{LOCALHOST}/register\" email=\"user1@example.org\" password=\"pAssw0rd1\"\n"
   ]
  },
  {
   "cell_type": "code",
   "execution_count": 9,
   "metadata": {},
   "outputs": [
    {
     "name": "stdout",
     "output_type": "stream",
     "text": [
      "\u001b[34mHTTP\u001b[39;49;00m/\u001b[34m1.1\u001b[39;49;00m \u001b[34m200\u001b[39;49;00m \u001b[36mOK\u001b[39;49;00m\n",
      "\u001b[36mcontent-length\u001b[39;49;00m: 84\n",
      "\u001b[36mcontent-type\u001b[39;49;00m: application/json\n",
      "\u001b[36mdate\u001b[39;49;00m: Sat, 09 Jul 2022 14:25:44 GMT\n",
      "\u001b[36mserver\u001b[39;49;00m: uvicorn\n",
      "\n",
      "{\n",
      "    \u001b[34;01m\"access_token\"\u001b[39;49;00m: \u001b[33m\"EBxbkHDwrs92Vmjjuonjxv5yOCHL7INM9HXHqZrfd8U\"\u001b[39;49;00m,\n",
      "    \u001b[34;01m\"token_type\"\u001b[39;49;00m: \u001b[33m\"bearer\"\u001b[39;49;00m\n",
      "}\n",
      "\n"
     ]
    }
   ],
   "source": [
    "# Create the user's authentication token\n",
    "\n",
    "!http --form POST \"{LOCALHOST}/token\" username=\"user1@example.org\" password=\"pAssw0rd1\"\n"
   ]
  },
  {
   "cell_type": "code",
   "execution_count": 11,
   "metadata": {},
   "outputs": [
    {
     "name": "stdout",
     "output_type": "stream",
     "text": [
      "\u001b[34mHTTP\u001b[39;49;00m/\u001b[34m1.1\u001b[39;49;00m \u001b[34m401\u001b[39;49;00m \u001b[36mUnauthorized\u001b[39;49;00m\n",
      "\u001b[36mcontent-length\u001b[39;49;00m: 30\n",
      "\u001b[36mcontent-type\u001b[39;49;00m: application/json\n",
      "\u001b[36mdate\u001b[39;49;00m: Sat, 09 Jul 2022 14:27:26 GMT\n",
      "\u001b[36mserver\u001b[39;49;00m: uvicorn\n",
      "\u001b[36mwww-authenticate\u001b[39;49;00m: Bearer\n",
      "\n",
      "{\n",
      "    \u001b[34;01m\"detail\"\u001b[39;49;00m: \u001b[33m\"Not authenticated\"\u001b[39;49;00m\n",
      "}\n",
      "\n"
     ]
    }
   ],
   "source": [
    "# Trying to access a protected endpoint with invalid credentials\n",
    "\n",
    "!http GET \"{LOCALHOST}/protected-route\"\n"
   ]
  }
 ],
 "metadata": {
  "kernelspec": {
   "display_name": "Python 3.9.5 ('env': venv)",
   "language": "python",
   "name": "python3"
  },
  "language_info": {
   "codemirror_mode": {
    "name": "ipython",
    "version": 3
   },
   "file_extension": ".py",
   "mimetype": "text/x-python",
   "name": "python",
   "nbconvert_exporter": "python",
   "pygments_lexer": "ipython3",
   "version": "3.9.5"
  },
  "orig_nbformat": 4,
  "vscode": {
   "interpreter": {
    "hash": "26906a448a6233c473a71b447ecae08937ff62febfad6ab86171a9b0b8064292"
   }
  }
 },
 "nbformat": 4,
 "nbformat_minor": 2
}
