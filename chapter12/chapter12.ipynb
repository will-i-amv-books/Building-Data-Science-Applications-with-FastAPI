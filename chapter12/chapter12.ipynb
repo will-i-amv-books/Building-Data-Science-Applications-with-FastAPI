{
 "cells": [
  {
   "cell_type": "markdown",
   "metadata": {},
   "source": [
    "# Training Machine Learning Models with scikit-learn"
   ]
  },
  {
   "cell_type": "markdown",
   "metadata": {},
   "source": [
    "### Basics\n"
   ]
  },
  {
   "cell_type": "code",
   "execution_count": 1,
   "metadata": {},
   "outputs": [],
   "source": [
    "import pandas as pd\n",
    "\n",
    "# (*) Toy datasets of hand-written digits and 20 newsgroups text\n",
    "from sklearn.datasets import load_digits, fetch_20newsgroups # (*)\n",
    "from sklearn.metrics import accuracy_score, confusion_matrix\n",
    "from sklearn.model_selection import train_test_split, cross_val_score, GridSearchCV\n",
    "from sklearn.naive_bayes import GaussianNB, MultinomialNB\n",
    "from sklearn.feature_extraction.text import TfidfVectorizer\n",
    "from sklearn.pipeline import make_pipeline\n",
    "from sklearn.svm import SVC\n"
   ]
  },
  {
   "cell_type": "markdown",
   "metadata": {},
   "source": [
    "Building a 'Naive Bayes' model to classify the hand-written digits dataset\n"
   ]
  },
  {
   "cell_type": "code",
   "execution_count": 2,
   "metadata": {},
   "outputs": [
    {
     "name": "stdout",
     "output_type": "stream",
     "text": [
      "First handwritten digit 8 x 8 matrix:\n",
      "[[ 0.  0.  5. 13.  9.  1.  0.  0.]\n",
      " [ 0.  0. 13. 15. 10. 15.  5.  0.]\n",
      " [ 0.  3. 15.  2.  0. 11.  8.  0.]\n",
      " [ 0.  4. 12.  0.  0.  8.  8.  0.]\n",
      " [ 0.  5.  8.  0.  0.  9.  8.  0.]\n",
      " [ 0.  4. 11.  0.  1. 12.  7.  0.]\n",
      " [ 0.  2. 14.  5. 10. 12.  0.  0.]\n",
      " [ 0.  0.  6. 13. 10.  0.  0.  0.]]\n",
      "Label of first handwritten digit: 0\n"
     ]
    }
   ],
   "source": [
    "# Loading the dataset\n",
    "digits = load_digits()\n",
    "digits_data = digits.data\n",
    "digits_targets = digits.target\n",
    "\n",
    "print('First handwritten digit 8 x 8 matrix:') # Size of the source images\n",
    "print(digits_data[0].reshape((8, 8)))\n",
    "print(f'Label of first handwritten digit: {digits_targets[0]}')\n"
   ]
  },
  {
   "cell_type": "code",
   "execution_count": 3,
   "metadata": {},
   "outputs": [
    {
     "name": "stdout",
     "output_type": "stream",
     "text": [
      "0.8333333333333334\n"
     ]
    }
   ],
   "source": [
    "# Split into training and testing sets\n",
    "training_data, testing_data, training_targets, testing_targets = train_test_split(\n",
    "    digits_data, digits_targets, random_state=0\n",
    ")\n",
    "\n",
    "# Train the model\n",
    "digits_model_gnb = GaussianNB()\n",
    "digits_model_gnb.fit(training_data, training_targets)\n",
    "\n",
    "# Run prediction with the testing set\n",
    "predicted_targets = digits_model_gnb.predict(testing_data)\n",
    "\n",
    "# Compute the accuracy\n",
    "accuracy = accuracy_score(testing_targets, predicted_targets)\n",
    "print(accuracy)\n"
   ]
  },
  {
   "cell_type": "markdown",
   "metadata": {},
   "source": [
    "Building a 'Multinomial Naive Bayes' model to classify the 20 newsgroups text dataset, using sklearn pipelines"
   ]
  },
  {
   "cell_type": "code",
   "execution_count": 4,
   "metadata": {},
   "outputs": [],
   "source": [
    "# Load some categories of newsgroups dataset\n",
    "categories = [\n",
    "    \"soc.religion.christian\",\n",
    "    \"talk.religion.misc\",\n",
    "    \"comp.sys.mac.hardware\",\n",
    "    \"sci.crypt\",\n",
    "]\n",
    "newsgroups_training = fetch_20newsgroups(\n",
    "    subset=\"train\", categories=categories, random_state=0\n",
    ")\n",
    "newsgroups_testing = fetch_20newsgroups(\n",
    "    subset=\"test\", categories=categories, random_state=0\n",
    ")\n"
   ]
  },
  {
   "cell_type": "code",
   "execution_count": 5,
   "metadata": {},
   "outputs": [
    {
     "data": {
      "text/plain": [
       "\"From: sandvik@newton.apple.com (Kent Sandvik)\\nSubject: Re: Ignorance is BLISS, was Is it good that Jesus died?\\nOrganization: Cookamunga Tourist Bureau\\nLines: 17\\n\\nIn article <f1682Ap@quack.kfu.com>, pharvey@quack.kfu.com (Paul Harvey)\\nwrote:\\n> In article <sandvik-170493104859@sandvik-kent.apple.com> \\n> sandvik@newton.apple.com (Kent Sandvik) writes:\\n> >Ignorance is not bliss!\\n \\n> Ignorance is STRENGTH!\\n> Help spread the TRUTH of IGNORANCE!\\n\\nHuh, if ignorance is strength, then I won't distribute this piece\\nof information if I want to follow your advice (contradiction above).\\n\\n\\nCheers,\\nKent\\n---\\nsandvik@newton.apple.com. ALink: KSAND -- Private activities on the net.\\n\""
      ]
     },
     "execution_count": 5,
     "metadata": {},
     "output_type": "execute_result"
    }
   ],
   "source": [
    "# We can print a piece of the raw data to get an idea of its structure\n",
    "\n",
    "newsgroups_training.data[0]\n"
   ]
  },
  {
   "cell_type": "code",
   "execution_count": 6,
   "metadata": {},
   "outputs": [
    {
     "name": "stdout",
     "output_type": "stream",
     "text": [
      "The accuracy is 0.8314685314685315\n"
     ]
    },
    {
     "data": {
      "text/html": [
       "<div>\n",
       "<style scoped>\n",
       "    .dataframe tbody tr th:only-of-type {\n",
       "        vertical-align: middle;\n",
       "    }\n",
       "\n",
       "    .dataframe tbody tr th {\n",
       "        vertical-align: top;\n",
       "    }\n",
       "\n",
       "    .dataframe thead th {\n",
       "        text-align: right;\n",
       "    }\n",
       "</style>\n",
       "<table border=\"1\" class=\"dataframe\">\n",
       "  <thead>\n",
       "    <tr style=\"text-align: right;\">\n",
       "      <th>Predicted</th>\n",
       "      <th>comp.sys.mac.hardware</th>\n",
       "      <th>sci.crypt</th>\n",
       "      <th>soc.religion.christian</th>\n",
       "      <th>talk.religion.misc</th>\n",
       "    </tr>\n",
       "    <tr>\n",
       "      <th>True</th>\n",
       "      <th></th>\n",
       "      <th></th>\n",
       "      <th></th>\n",
       "      <th></th>\n",
       "    </tr>\n",
       "  </thead>\n",
       "  <tbody>\n",
       "    <tr>\n",
       "      <th>comp.sys.mac.hardware</th>\n",
       "      <td>354</td>\n",
       "      <td>19</td>\n",
       "      <td>12</td>\n",
       "      <td>0</td>\n",
       "    </tr>\n",
       "    <tr>\n",
       "      <th>sci.crypt</th>\n",
       "      <td>3</td>\n",
       "      <td>390</td>\n",
       "      <td>3</td>\n",
       "      <td>0</td>\n",
       "    </tr>\n",
       "    <tr>\n",
       "      <th>soc.religion.christian</th>\n",
       "      <td>1</td>\n",
       "      <td>2</td>\n",
       "      <td>395</td>\n",
       "      <td>0</td>\n",
       "    </tr>\n",
       "    <tr>\n",
       "      <th>talk.religion.misc</th>\n",
       "      <td>1</td>\n",
       "      <td>19</td>\n",
       "      <td>181</td>\n",
       "      <td>50</td>\n",
       "    </tr>\n",
       "  </tbody>\n",
       "</table>\n",
       "</div>"
      ],
      "text/plain": [
       "Predicted               comp.sys.mac.hardware  sci.crypt  \\\n",
       "True                                                       \n",
       "comp.sys.mac.hardware                     354         19   \n",
       "sci.crypt                                   3        390   \n",
       "soc.religion.christian                      1          2   \n",
       "talk.religion.misc                          1         19   \n",
       "\n",
       "Predicted               soc.religion.christian  talk.religion.misc  \n",
       "True                                                                \n",
       "comp.sys.mac.hardware                       12                   0  \n",
       "sci.crypt                                    3                   0  \n",
       "soc.religion.christian                     395                   0  \n",
       "talk.religion.misc                         181                  50  "
      ]
     },
     "execution_count": 6,
     "metadata": {},
     "output_type": "execute_result"
    }
   ],
   "source": [
    "# Make the pipeline\n",
    "newsgroups_model = make_pipeline(TfidfVectorizer(), MultinomialNB(),)\n",
    "\n",
    "# Train the model\n",
    "newsgroups_model.fit(newsgroups_training.data, newsgroups_training.target)\n",
    "\n",
    "# Run prediction with the testing set\n",
    "predicted_targets = newsgroups_model.predict(newsgroups_testing.data)\n",
    "\n",
    "# Compute the accuracy\n",
    "accuracy = accuracy_score(newsgroups_testing.target, predicted_targets)\n",
    "print(f'The accuracy is {accuracy}')\n",
    "\n",
    "# Show the confusion matrix\n",
    "confusion = confusion_matrix(newsgroups_testing.target, predicted_targets)\n",
    "confusion_df = pd.DataFrame(\n",
    "    confusion,\n",
    "    index=pd.Index(newsgroups_testing.target_names, name=\"True\"),\n",
    "    columns=pd.Index(newsgroups_testing.target_names, name=\"Predicted\"),\n",
    ")\n",
    "confusion_df\n"
   ]
  },
  {
   "cell_type": "markdown",
   "metadata": {},
   "source": [
    "Applying cross-validation to the hand-written digits dataset"
   ]
  },
  {
   "cell_type": "code",
   "execution_count": 7,
   "metadata": {},
   "outputs": [
    {
     "name": "stdout",
     "output_type": "stream",
     "text": [
      "The accuracy score of the five folds: [0.78055556 0.78333333 0.79387187 0.8718663  0.80501393]\n",
      "The mean of the last accuracy scores:: 0.8069281956050759\n"
     ]
    }
   ],
   "source": [
    "# Run cross-validation\n",
    "score = cross_val_score(digits_model_gnb, digits_data, digits_targets)\n",
    "\n",
    "print(f'The accuracy score of the five folds: {score}')\n",
    "print(f'The mean of the last accuracy scores:: {score.mean()}')\n"
   ]
  },
  {
   "cell_type": "markdown",
   "metadata": {},
   "source": [
    "### Classifying data with Naive Bayes models\n"
   ]
  },
  {
   "cell_type": "markdown",
   "metadata": {},
   "source": [
    "For a Gaussian Naive Bayes model, we assume that the data is drawn from a Gaussian distribution (so the label 'naive').\n",
    "To train our model, we compute the mean and standard deviation for each feature in each label.\n",
    "\n"
   ]
  },
  {
   "cell_type": "code",
   "execution_count": 8,
   "metadata": {},
   "outputs": [
    {
     "name": "stdout",
     "output_type": "stream",
     "text": [
      "Mean of each pixel for digit zero\n",
      "[0.00000000e+00 2.83687943e-02 4.12765957e+00 1.29716312e+01\n",
      " 1.13049645e+01 2.96453901e+00 3.54609929e-02 0.00000000e+00\n",
      " 0.00000000e+00 9.50354610e-01 1.25035461e+01 1.37021277e+01\n",
      " 1.16453901e+01 1.12765957e+01 9.00709220e-01 0.00000000e+00\n",
      " 0.00000000e+00 3.79432624e+00 1.43758865e+01 5.57446809e+00\n",
      " 2.13475177e+00 1.23049645e+01 3.43971631e+00 0.00000000e+00\n",
      " 0.00000000e+00 5.31205674e+00 1.27517730e+01 2.06382979e+00\n",
      " 1.34751773e-01 9.26241135e+00 6.45390071e+00 0.00000000e+00\n",
      " 0.00000000e+00 5.78723404e+00 1.16737589e+01 1.00000000e+00\n",
      " 5.67375887e-02 8.89361702e+00 7.10638298e+00 0.00000000e+00\n",
      " 0.00000000e+00 3.41843972e+00 1.33687943e+01 1.82269504e+00\n",
      " 1.69503546e+00 1.12127660e+01 5.90070922e+00 0.00000000e+00\n",
      " 0.00000000e+00 7.80141844e-01 1.29787234e+01 1.02056738e+01\n",
      " 1.06382979e+01 1.32340426e+01 2.53191489e+00 0.00000000e+00\n",
      " 0.00000000e+00 7.09219858e-03 4.15602837e+00 1.35602837e+01\n",
      " 1.33049645e+01 5.46099291e+00 2.83687943e-01 0.00000000e+00]\n",
      "Standard deviation of each pixel for digit zero\n",
      "[4.30146180e-08 5.59328432e-02 9.13263925e+00 5.40345057e+00\n",
      " 1.19566421e+01 1.10838489e+01 3.42035539e-02 4.30146180e-08\n",
      " 4.30146180e-08 3.62164885e+00 1.24060158e+01 8.98928630e+00\n",
      " 1.66827625e+01 1.22284594e+01 3.08233997e+00 4.30146180e-08\n",
      " 4.30146180e-08 7.09954232e+00 5.32679447e+00 2.42870077e+01\n",
      " 1.03435441e+01 1.03112520e+01 7.16835174e+00 4.30146180e-08\n",
      " 4.30146180e-08 6.08701780e+00 1.01298728e+01 1.13505357e+01\n",
      " 3.57728527e-01 1.27609276e+01 5.38262667e+00 4.30146180e-08\n",
      " 4.30146180e-08 5.03274487e+00 1.11843469e+01 5.54609933e+00\n",
      " 1.38624861e-01 1.46624416e+01 7.28655505e+00 4.30146180e-08\n",
      " 4.30146180e-08 5.17951818e+00 5.96328157e+00 9.69196725e+00\n",
      " 8.97791866e+00 1.45362910e+01 1.38482974e+01 4.30146180e-08\n",
      " 4.30146180e-08 1.80272626e+00 7.62366082e+00 1.54257835e+01\n",
      " 1.74365475e+01 1.00516071e+01 1.00503999e+01 4.30146180e-08\n",
      " 4.30146180e-08 7.04194232e-03 7.77707363e+00 4.30310351e+00\n",
      " 7.87153568e+00 1.51846487e+01 9.83350981e-01 4.30146180e-08]\n"
     ]
    }
   ],
   "source": [
    "# Means and standard deviations of the 64 pixels of the 8x8 pixel matrix\n",
    "print(\"Mean of each pixel for digit zero\")\n",
    "print(digits_model_gnb.theta_[0])\n",
    "\n",
    "print(\"Standard deviation of each pixel for digit zero\")\n",
    "print(digits_model_gnb.sigma_[0])\n"
   ]
  },
  {
   "cell_type": "markdown",
   "metadata": {},
   "source": [
    "### Classifying data with support vector machines\n"
   ]
  },
  {
   "cell_type": "markdown",
   "metadata": {},
   "source": [
    "scikit-learn has SVM estimators also, so the training process is similar to Naive Bayes models"
   ]
  },
  {
   "cell_type": "code",
   "execution_count": 9,
   "metadata": {},
   "outputs": [
    {
     "name": "stdout",
     "output_type": "stream",
     "text": [
      "The accuracy score of the five folds: [0.96111111 0.94444444 0.98328691 0.98885794 0.93871866]\n",
      "The mean of the last accuracy scores:: 0.9632838130609718\n"
     ]
    }
   ],
   "source": [
    "\n",
    "# Create the model\n",
    "digit_model_svm = SVC()\n",
    "\n",
    "# Run cross-validation\n",
    "score = cross_val_score(digit_model_svm, digits_data, digits_targets)\n",
    "\n",
    "print(f'The accuracy score of the five folds: {score}')\n",
    "print(f'The mean of the last accuracy scores:: {score.mean()}')\n"
   ]
  },
  {
   "cell_type": "markdown",
   "metadata": {},
   "source": [
    "For SVM estimators, scikit-learn provides a class called GridSearchCV, \n",
    "that allows us to automatically search for the best parameters (the kernel function and the 'C' parameter) for our estimator."
   ]
  },
  {
   "cell_type": "code",
   "execution_count": 11,
   "metadata": {},
   "outputs": [
    {
     "name": "stdout",
     "output_type": "stream",
     "text": [
      "The best parameters are: {'C': 10, 'kernel': 'rbf'}\n",
      "The best score is: 0.9738502011761063\n"
     ]
    }
   ],
   "source": [
    "# Create the grid of parameters\n",
    "params_grid = {\"C\": [1, 10, 100, 1000], \"kernel\": [\"linear\", \"poly\", \"rbf\", \"sigmoid\"]}\n",
    "grid = GridSearchCV(SVC(), params_grid)\n",
    "\n",
    "grid.fit(digits_data, digits_targets)\n",
    "\n",
    "print(f\"The best parameters are: {grid.best_params_}\")\n",
    "print(f\"The best score is: {grid.best_score_}\")\n"
   ]
  }
 ],
 "metadata": {
  "kernelspec": {
   "display_name": "Python 3.9.5 ('env': venv)",
   "language": "python",
   "name": "python3"
  },
  "language_info": {
   "codemirror_mode": {
    "name": "ipython",
    "version": 3
   },
   "file_extension": ".py",
   "mimetype": "text/x-python",
   "name": "python",
   "nbconvert_exporter": "python",
   "pygments_lexer": "ipython3",
   "version": "3.9.5"
  },
  "orig_nbformat": 4,
  "vscode": {
   "interpreter": {
    "hash": "26906a448a6233c473a71b447ecae08937ff62febfad6ab86171a9b0b8064292"
   }
  }
 },
 "nbformat": 4,
 "nbformat_minor": 2
}
